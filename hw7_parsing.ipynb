{
  "nbformat": 4,
  "nbformat_minor": 0,
  "metadata": {
    "colab": {
      "name": "hw7_parsing.ipynb",
      "provenance": [],
      "collapsed_sections": [],
      "include_colab_link": true
    },
    "kernelspec": {
      "display_name": "Python 3",
      "language": "python",
      "name": "python3"
    },
    "language_info": {
      "codemirror_mode": {
        "name": "ipython",
        "version": 3
      },
      "file_extension": ".py",
      "mimetype": "text/x-python",
      "name": "python",
      "nbconvert_exporter": "python",
      "pygments_lexer": "ipython3",
      "version": "3.7.3"
    }
  },
  "cells": [
    {
      "cell_type": "markdown",
      "metadata": {
        "id": "view-in-github",
        "colab_type": "text"
      },
      "source": [
        "<a href=\"https://colab.research.google.com/github/icekang/NLP_2021/blob/main/hw7_parsing.ipynb\" target=\"_parent\"><img src=\"https://colab.research.google.com/assets/colab-badge.svg\" alt=\"Open In Colab\"/></a>"
      ]
    },
    {
      "cell_type": "code",
      "metadata": {
        "colab": {
          "base_uri": "https://localhost:8080/"
        },
        "id": "5ygRstjnsHnf",
        "outputId": "9514daaf-c75e-4ce1-e212-f539c6f90ba6"
      },
      "source": [
        "!wget --no-check-certificate https://raw.githubusercontent.com/ekapolc/nlp_2020/master/HW7/HW7.zip\n",
        "!unzip HW7.zip"
      ],
      "execution_count": null,
      "outputs": [
        {
          "output_type": "stream",
          "text": [
            "--2021-03-16 15:39:00--  https://raw.githubusercontent.com/ekapolc/nlp_2020/master/HW7/HW7.zip\n",
            "Resolving raw.githubusercontent.com (raw.githubusercontent.com)... 185.199.108.133, 185.199.109.133, 185.199.110.133, ...\n",
            "Connecting to raw.githubusercontent.com (raw.githubusercontent.com)|185.199.108.133|:443... connected.\n",
            "HTTP request sent, awaiting response... 200 OK\n",
            "Length: 39003291 (37M) [application/zip]\n",
            "Saving to: ‘HW7.zip’\n",
            "\n",
            "HW7.zip             100%[===================>]  37.20M  77.1MB/s    in 0.5s    \n",
            "\n",
            "2021-03-16 15:39:00 (77.1 MB/s) - ‘HW7.zip’ saved [39003291/39003291]\n",
            "\n",
            "Archive:  HW7.zip\n",
            "  inflating: HW7_parsing.ipynb       \n",
            "   creating: data/\n",
            "  inflating: data/dev.conll          \n",
            "  inflating: data/dev.gold.conll     \n",
            "  inflating: data/en-cw.txt          \n",
            "  inflating: data/test.conll         \n",
            "  inflating: data/test.gold.conll    \n",
            "  inflating: data/train.conll        \n",
            "  inflating: data/train.gold.conll   \n",
            "   creating: utils/\n",
            "   creating: utils/.ipynb_checkpoints/\n",
            "  inflating: utils/.ipynb_checkpoints/general_utils-checkpoint.py  \n",
            "  inflating: utils/.ipynb_checkpoints/parser_utils-checkpoint.py  \n",
            "  inflating: utils/general_utils.py  \n",
            "  inflating: utils/parser_utils.py   \n",
            " extracting: utils/__init__.py       \n",
            "   creating: utils/__pycache__/\n",
            "  inflating: utils/__pycache__/general_utils.cpython-35.pyc  \n",
            "  inflating: utils/__pycache__/parser_utils.cpython-35.pyc  \n",
            "  inflating: utils/__pycache__/__init__.cpython-35.pyc  \n"
          ],
          "name": "stdout"
        }
      ]
    },
    {
      "cell_type": "markdown",
      "metadata": {
        "id": "eB0lBzkJy_l6"
      },
      "source": [
        "# HW7: Neural Transition-Based Dependency Parsing\n"
      ]
    },
    {
      "cell_type": "markdown",
      "metadata": {
        "id": "hwbJPnBmy_l-"
      },
      "source": [
        "In this exercise, you are going to build a deep learning model for Neural Networks Transition-Based Dependency Parsing. A dependency parser analyzes the grammatical structure of a sentence, establishing relationships between “head” words and words which modify those heads. Your implementation will be a transition-based parser, which incrementally builds up a parse one step at a time."
      ]
    },
    {
      "cell_type": "markdown",
      "metadata": {
        "id": "iTop7w0Wy_mT"
      },
      "source": [
        "To complete this exercise, you will need to complete the code and build a deep learning model for dependency parsing. We will evaluate the model on the subset of Penn Treebank (annotated with Universal Dependencies). \n",
        "\n",
        "We provide the code for data preparation and the skeleton for PartialParse class. You do not need to understand the code outside of this notebook. \n",
        "\n",
        "This homework and the starter codes are adopt from Stanford University class CS224n."
      ]
    },
    {
      "cell_type": "markdown",
      "metadata": {
        "id": "3RJMmaCSy_mV"
      },
      "source": [
        "This homework does not require you to use Google Colab or Google Cloud as the model is quite small (but you can still use it if you want)"
      ]
    },
    {
      "cell_type": "markdown",
      "metadata": {
        "id": "lzF49xKny_mX"
      },
      "source": [
        "## 1. Transition-Based Dependency Parsing"
      ]
    },
    {
      "cell_type": "markdown",
      "metadata": {
        "id": "PwH68mjMy_mY"
      },
      "source": [
        "Your implementation will be a transition-based parser, which incrementally builds\n",
        "up a parse one step at a time. At every step it maintains a partial parse, which is represented as follows:\n",
        "- A stack of words that are currently being processed.\n",
        "- A buffer of words yet to be processed.\n",
        "- A list of dependencies predicted by the parser.\n",
        "\n",
        "Initially, the stack only contains ROOT, the dependencies lists is empty, and the buffer contains all words\n",
        "of the sentence in order. At each step, the parse applies a transition to the partial parse until its buffer is\n",
        "empty and the stack is size 1. The following transitions can be applied:\n",
        "- SHIFT: removes the first word from the buffer and pushes it onto the stack.\n",
        "- LEFT-ARC: marks the second (second most recently added) item on the stack as a dependent of the\n",
        "first item and removes the second item from the stack.\n",
        "- RIGHT-ARC: marks the first (most recently added) item on the stack as a dependent of the second\n",
        "item and removes the first item from the stack.\n",
        "\n",
        "Your parser will decide among transitions at each state using a neural network classifier."
      ]
    },
    {
      "cell_type": "markdown",
      "metadata": {
        "id": "Ab3kn2OVy_mb"
      },
      "source": [
        "### TODO 1 (Written):\n",
        "Go through the sequence of transitions needed for parsing the sentence “I parsed\n",
        "this sentence correctly”. The dependency tree for the sentence is shown below. At each step, give the\n",
        "configuration of the stack and buffer, as well as what transition was applied this step and what new\n",
        "dependency was added (if any). The first three steps are provided below as an example."
      ]
    },
    {
      "cell_type": "markdown",
      "metadata": {
        "id": "aTkSbSf6y_ma"
      },
      "source": [
        "<img src=\"https://github.com/ekapolc/NLP_2020/blob/master/HW7/images/img1.jpg?raw=true\">"
      ]
    },
    {
      "cell_type": "markdown",
      "metadata": {
        "id": "OPmRQbXky_mc"
      },
      "source": [
        "Complete the following table (double click the table and fill in the rest):\n",
        "\n",
        "| stack    |  buffer |  new dependency | transition |\n",
        "| :------: |:------: | :-------------: | :--------: |\n",
        "| \\[ROOT\\]            | \\[I, parsed, this, sentence, correctly\\] |          | Initial Configuration |\n",
        "| \\[ROOT, I\\]         | \\[parsed, this, sentence, correctly\\]    |          | SHIFT |\n",
        "| \\[ROOT, I, parsed\\] | \\[this, sentence, correctly\\]            |          | SHIFT |\n",
        "| \\[ROOT, parsed\\]    | \\[this, sentence, correctly\\]            | parsed→I | LEFT-ARC |\n",
        "| \\[ROOT, parsed, this\\]    | \\[sentence, correctly\\]            |  | SHIFT |\n",
        "| \\[ROOT, parsed, this, sentence\\]    | \\[correctly\\]            |  | SHIFT |\n",
        "| \\[ROOT, parsed, sentence\\]    | \\[correctly\\] | sentence→this | LEFT-ARC |\n",
        "| \\[ROOT, parsed\\]    | \\[correctly\\] | parsed→sentence | RIGHT-ARC |\n",
        "| \\[ROOT, parsed, correctly\\]    | \\[\\] |  | SHIFT |\n",
        "| \\[ROOT, parsed\\]    | \\[\\] | parsed→correctly | RIGHT-ARC |\n",
        "| \\[ROOT\\]    | \\[\\] | ROOT→parsed | RIGHT-ARC |\n",
        "||||"
      ]
    },
    {
      "cell_type": "markdown",
      "metadata": {
        "id": "-h6PmOd6y_me"
      },
      "source": [
        "### TODO 2 (Coding):\n",
        "Implement the __\\_\\_init\\_\\___ and __parse_step__ functions in the PartialParse class. Your code must past both of the following tests."
      ]
    },
    {
      "cell_type": "code",
      "metadata": {
        "id": "WXhOjsN_y_mf"
      },
      "source": [
        "class PartialParse(object):\n",
        "    def __init__(self, sentence):\n",
        "        \"\"\"Initializes this partial parse.\n",
        "\n",
        "        Your code should initialize the following fields:\n",
        "            self.stack: The current stack represented as a list with the top of the stack as the\n",
        "                        last element of the list.\n",
        "            self.buffer: The current buffer represented as a list with the first item on the\n",
        "                         buffer as the first item of the list\n",
        "            self.dependencies: The list of dependencies produced so far. Represented as a list of\n",
        "                    tuples where each tuple is of the form (head, dependent).\n",
        "                    Order for this list doesn't matter.\n",
        "\n",
        "        The root token should be represented with the string \"ROOT\"\n",
        "\n",
        "        Args:\n",
        "            sentence: The sentence to be parsed as a list of words.\n",
        "                      Your code should not modify the sentence.\n",
        "        \"\"\"\n",
        "        # The sentence being parsed is kept for bookkeeping purposes. Do not use it in your code.\n",
        "        self.sentence = sentence\n",
        "\n",
        "        ### YOUR CODE HERE\n",
        "        self.stack = ['ROOT']\n",
        "        self.buffer = sentence.copy()\n",
        "        self.dependencies = list()\n",
        "        ### END YOUR CODE\n",
        "\n",
        "    def parse_step(self, transition):\n",
        "        \"\"\"Performs a single parse step by applying the given transition to this partial parse\n",
        "\n",
        "        Args:\n",
        "            transition: A string that equals \"S\", \"LA\", or \"RA\" representing the shift, left-arc,\n",
        "                        and right-arc transitions. You can assume the provided transition is a legal\n",
        "                        transition.\n",
        "        \"\"\"\n",
        "        ### YOUR CODE HERE\n",
        "        def S():\n",
        "          top = self.buffer.pop(0)\n",
        "          self.stack.append(top)\n",
        "\n",
        "        def LA():\n",
        "          left = self.stack.pop(-2)\n",
        "          self.dependencies.append((self.stack[-1], left))\n",
        "        \n",
        "        def RA():\n",
        "          right = self.stack.pop()\n",
        "          self.dependencies.append((self.stack[-1], right))\n",
        "\n",
        "        {\n",
        "          'S': S,\n",
        "          'LA': LA,\n",
        "          'RA': RA,\n",
        "        }.get(transition)()\n",
        "        ### END YOUR CODE\n",
        "\n",
        "    def parse(self, transitions):\n",
        "        \"\"\"Applies the provided transitions to this PartialParse\n",
        "\n",
        "        Args:\n",
        "            transitions: The list of transitions in the order they should be applied\n",
        "        Returns:\n",
        "            dependencies: The list of dependencies produced when parsing the sentence. Represented\n",
        "                          as a list of tuples where each tuple is of the form (head, dependent)\n",
        "        \"\"\"\n",
        "        for transition in transitions:\n",
        "            self.parse_step(transition)\n",
        "        return self.dependencies"
      ],
      "execution_count": null,
      "outputs": []
    },
    {
      "cell_type": "code",
      "metadata": {
        "id": "_kF_8ESPy_mk"
      },
      "source": [
        "# Do not modify this code\n",
        "def test_step(name, transition, stack, buf, deps,\n",
        "              ex_stack, ex_buf, ex_deps):\n",
        "    \"\"\"Tests that a single parse step returns the expected output\"\"\"\n",
        "    pp = PartialParse([])\n",
        "    pp.stack, pp.buffer, pp.dependencies = stack, buf, deps\n",
        "\n",
        "    pp.parse_step(transition)\n",
        "    stack, buf, deps = (tuple(pp.stack), tuple(pp.buffer), tuple(sorted(pp.dependencies)))\n",
        "    assert stack == ex_stack, \\\n",
        "        \"{:} test resulted in stack {:}, expected {:}\".format(name, stack, ex_stack)\n",
        "    assert buf == ex_buf, \\\n",
        "        \"{:} test resulted in buffer {:}, expected {:}\".format(name, buf, ex_buf)\n",
        "    assert deps == ex_deps, \\\n",
        "        \"{:} test resulted in dependency list {:}, expected {:}\".format(name, deps, ex_deps)\n",
        "    print(\"{:} test passed!\".format(name))\n",
        "\n",
        "\n",
        "def test_parse_step():\n",
        "    \"\"\"Simple tests for the PartialParse.parse_step function\n",
        "    Warning: these are not exhaustive\n",
        "    \"\"\"\n",
        "    test_step(\"SHIFT\", \"S\", [\"ROOT\", \"the\"], [\"cat\", \"sat\"], [],\n",
        "              (\"ROOT\", \"the\", \"cat\"), (\"sat\",), ())\n",
        "    test_step(\"LEFT-ARC\", \"LA\", [\"ROOT\", \"the\", \"cat\"], [\"sat\"], [],\n",
        "              (\"ROOT\", \"cat\",), (\"sat\",), ((\"cat\", \"the\"),))\n",
        "    test_step(\"RIGHT-ARC\", \"RA\", [\"ROOT\", \"run\", \"fast\"], [], [],\n",
        "              (\"ROOT\", \"run\",), (), ((\"run\", \"fast\"),))\n",
        "\n",
        "\n",
        "def test_parse():\n",
        "    \"\"\"Simple tests for the PartialParse.parse function\n",
        "    Warning: these are not exhaustive\n",
        "    \"\"\"\n",
        "    sentence = [\"parse\", \"this\", \"sentence\"]\n",
        "    dependencies = PartialParse(sentence).parse([\"S\", \"S\", \"S\", \"LA\", \"RA\", \"RA\"])\n",
        "    dependencies = tuple(sorted(dependencies))\n",
        "    expected = (('ROOT', 'parse'), ('parse', 'sentence'), ('sentence', 'this'))\n",
        "    assert dependencies == expected,  \\\n",
        "        \"parse test resulted in dependencies {:}, expected {:}\".format(dependencies, expected)\n",
        "    assert tuple(sentence) == (\"parse\", \"this\", \"sentence\"), \\\n",
        "        \"parse test failed: the input sentence should not be modified\"\n",
        "    print(\"parse test passed!\")"
      ],
      "execution_count": null,
      "outputs": []
    },
    {
      "cell_type": "code",
      "metadata": {
        "colab": {
          "base_uri": "https://localhost:8080/"
        },
        "id": "MwNZjFgey_mn",
        "outputId": "4358db24-b90a-4168-825e-302862034df1"
      },
      "source": [
        "test_parse_step()\n",
        "test_parse()"
      ],
      "execution_count": null,
      "outputs": [
        {
          "output_type": "stream",
          "text": [
            "SHIFT test passed!\n",
            "LEFT-ARC test passed!\n",
            "RIGHT-ARC test passed!\n",
            "parse test passed!\n"
          ],
          "name": "stdout"
        }
      ]
    },
    {
      "cell_type": "markdown",
      "metadata": {
        "id": "0lx3xP_Zy_mr"
      },
      "source": [
        "### TODO 3 (Coding):\n",
        "Our network will predict which transition should be applied next to a partial parse. We could use it to parse a single sentence by applying predicted transitions until the parse is complete. However, neural networks run much more efficiently when making predictions about batches of data at a time (i.e., predicting the next transition for a many different partial parses simultaneously). We can parse sentences in minibatches with the following algorithm."
      ]
    },
    {
      "cell_type": "markdown",
      "metadata": {
        "id": "4oTyD-Dcy_ms"
      },
      "source": [
        "<img src=\"https://github.com/ekapolc/NLP_2020/blob/master/HW7/images/img2.jpg?raw=true\">"
      ]
    },
    {
      "cell_type": "markdown",
      "metadata": {
        "id": "BhRpDDXay_mt"
      },
      "source": [
        "Implement this algorithm in the minibatch parse function and run the following test."
      ]
    },
    {
      "cell_type": "code",
      "metadata": {
        "id": "gio_qpS5y_mu"
      },
      "source": [
        "def minibatch_parse(sentences, model, batch_size):\n",
        "    \"\"\"Parses a list of sentences in minibatches using a model.\n",
        "\n",
        "    Args:\n",
        "        sentences: A list of sentences to be parsed (each sentence is a list of words)\n",
        "        model: The model that makes parsing decisions. It is assumed to have a function\n",
        "               model.predict(partial_parses) that takes in a list of PartialParses as input and\n",
        "               returns a list of transitions predicted for each parse. That is, after calling\n",
        "                   transitions = model.predict(partial_parses)\n",
        "               transitions[i] will be the next transition to apply to partial_parses[i].\n",
        "        batch_size: The number of PartialParses to include in each minibatch\n",
        "    Returns:\n",
        "        dependencies: A list where each element is the dependencies list for a parsed sentence.\n",
        "                      Ordering should be the same as in sentences (i.e., dependencies[i] should\n",
        "                      contain the parse for sentences[i]).\n",
        "    \"\"\"\n",
        "\n",
        "    ### YOUR CODE HERE\n",
        "    partial_parses = [PartialParse(sentence) for sentence in sentences]\n",
        "    unfinished_parses = partial_parses.copy()\n",
        "\n",
        "    while len(unfinished_parses) != 0:\n",
        "      minibatch = unfinished_parses[:batch_size]\n",
        "      transitions = model.predict(minibatch)\n",
        "      for transition, pp in zip(transitions, minibatch):\n",
        "        pp.parse_step(transition)\n",
        "        if len(pp.buffer) == 0 and len(pp.stack) == 1:\n",
        "          index = unfinished_parses.index(pp)\n",
        "          unfinished_parses.pop(index)\n",
        "\n",
        "    dependencies = [pp.dependencies for pp in partial_parses]\n",
        "    ### END YOUR CODE\n",
        "\n",
        "    return dependencies"
      ],
      "execution_count": null,
      "outputs": []
    },
    {
      "cell_type": "code",
      "metadata": {
        "id": "lXNoWwaWy_mx"
      },
      "source": [
        "# Do not modify this code\n",
        "class DummyModel(object):\n",
        "    \"\"\"Dummy model for testing the minibatch_parse function\n",
        "    First shifts everything onto the stack and then does exclusively right arcs if the first word of\n",
        "    the sentence is \"right\", \"left\" if otherwise.\n",
        "    \"\"\"\n",
        "    def predict(self, partial_parses):\n",
        "        return [(\"RA\" if pp.stack[1] is \"right\" else \"LA\") if len(pp.buffer) == 0 else \"S\"\n",
        "                for pp in partial_parses]\n",
        "\n",
        "\n",
        "def test_dependencies(name, deps, ex_deps):\n",
        "    \"\"\"Tests the provided dependencies match the expected dependencies\"\"\"\n",
        "    deps = tuple(sorted(deps))\n",
        "    assert deps == ex_deps, \\\n",
        "        \"{:} test resulted in dependency list {:}, expected {:}\".format(name, deps, ex_deps)\n",
        "\n",
        "\n",
        "def test_minibatch_parse():\n",
        "    \"\"\"Simple tests for the minibatch_parse function\n",
        "    Warning: these are not exhaustive\n",
        "    \"\"\"\n",
        "    sentences = [[\"right\", \"arcs\", \"only\"],\n",
        "                 [\"right\", \"arcs\", \"only\", \"again\"],\n",
        "                 [\"left\", \"arcs\", \"only\"],\n",
        "                 [\"left\", \"arcs\", \"only\", \"again\"]]\n",
        "    deps = minibatch_parse(sentences, DummyModel(), 2)\n",
        "    test_dependencies(\"minibatch_parse\", deps[0],\n",
        "                      (('ROOT', 'right'), ('arcs', 'only'), ('right', 'arcs')))\n",
        "    test_dependencies(\"minibatch_parse\", deps[1],\n",
        "                      (('ROOT', 'right'), ('arcs', 'only'), ('only', 'again'), ('right', 'arcs')))\n",
        "    test_dependencies(\"minibatch_parse\", deps[2],\n",
        "                      (('only', 'ROOT'), ('only', 'arcs'), ('only', 'left')))\n",
        "    test_dependencies(\"minibatch_parse\", deps[3],\n",
        "                      (('again', 'ROOT'), ('again', 'arcs'), ('again', 'left'), ('again', 'only')))\n",
        "    print(\"minibatch_parse test passed!\")"
      ],
      "execution_count": null,
      "outputs": []
    },
    {
      "cell_type": "code",
      "metadata": {
        "colab": {
          "base_uri": "https://localhost:8080/"
        },
        "id": "V-13VeiKy_m1",
        "outputId": "1e89ae1b-02ff-4c6a-e6a3-55b111b67137"
      },
      "source": [
        "test_minibatch_parse()"
      ],
      "execution_count": null,
      "outputs": [
        {
          "output_type": "stream",
          "text": [
            "minibatch_parse test passed!\n"
          ],
          "name": "stdout"
        }
      ]
    },
    {
      "cell_type": "markdown",
      "metadata": {
        "id": "EL5kIWKXy_m4"
      },
      "source": [
        "## 2. Setup and Preprocessing"
      ]
    },
    {
      "cell_type": "code",
      "metadata": {
        "id": "zemNby1uy_m5"
      },
      "source": [
        "from utils.parser_utils import minibatches, load_and_preprocess_data"
      ],
      "execution_count": null,
      "outputs": []
    },
    {
      "cell_type": "markdown",
      "metadata": {
        "id": "RksEEdJvy_m8"
      },
      "source": [
        "Preparing data. We will use a subset of Penn Treebank and pretrained embeddings in this task"
      ]
    },
    {
      "cell_type": "markdown",
      "metadata": {
        "id": "5XNgGpMUy_m9"
      },
      "source": [
        "We are now going to train a neural network to predict, given the state of the stack, buffer, and dependencies, which transition should be applied next. First, the model extracts a feature vector representing the current state. We will be using the feature set presented in the original neural dependency parsing paper: A Fast and Accurate Dependency Parser using Neural Networks. \n",
        "\n",
        "The function extracting these features has been implemented for you in parser_utils. This feature vector consists of a list of tokens (e.g., the last word in the stack, first word in the buffer, dependent of the second-to-last word in the stack if there is one, etc.). They can be represented as a list of integers."
      ]
    },
    {
      "cell_type": "code",
      "metadata": {
        "colab": {
          "base_uri": "https://localhost:8080/"
        },
        "id": "JhqbGTYpy_m-",
        "outputId": "c0bc1cb5-f090-4657-cb81-59bb1c6ca515"
      },
      "source": [
        "parser, embeddings, train_examples, dev_set, test_set = load_and_preprocess_data(True)"
      ],
      "execution_count": null,
      "outputs": [
        {
          "output_type": "stream",
          "text": [
            "Loading data...\n",
            "took 2.45 seconds\n",
            "Building parser...\n",
            "took 0.13 seconds\n",
            "Loading pretrained embeddings...\n",
            "took 2.58 seconds\n",
            "Vectorizing data...\n",
            "took 0.07 seconds\n",
            "Preprocessing training data...\n",
            "took 1.56 seconds\n"
          ],
          "name": "stdout"
        }
      ]
    },
    {
      "cell_type": "code",
      "metadata": {
        "colab": {
          "base_uri": "https://localhost:8080/"
        },
        "id": "D-VYL2rKy_nB",
        "outputId": "542ee847-c393-4e4f-acf7-c72e7430a6b0"
      },
      "source": [
        "print(len(train_examples), len(dev_set), len(test_set))"
      ],
      "execution_count": null,
      "outputs": [
        {
          "output_type": "stream",
          "text": [
            "48390 500 500\n"
          ],
          "name": "stdout"
        }
      ]
    },
    {
      "cell_type": "code",
      "metadata": {
        "colab": {
          "base_uri": "https://localhost:8080/"
        },
        "id": "FubWDIsNy_nE",
        "outputId": "343a9377-c132-4b88-a671-bec78fa48586"
      },
      "source": [
        "print(embeddings.shape)"
      ],
      "execution_count": null,
      "outputs": [
        {
          "output_type": "stream",
          "text": [
            "(5157, 50)\n"
          ],
          "name": "stdout"
        }
      ]
    },
    {
      "cell_type": "markdown",
      "metadata": {
        "id": "ZBD3A4yVy_nI"
      },
      "source": [
        "Get the full batch of our subset data"
      ]
    },
    {
      "cell_type": "code",
      "metadata": {
        "id": "8vNwux9by_nJ"
      },
      "source": [
        "minibatch_gen = minibatches(train_examples, len(train_examples))\n",
        "x_train, y_train = minibatch_gen.__next__()"
      ],
      "execution_count": null,
      "outputs": []
    },
    {
      "cell_type": "code",
      "metadata": {
        "colab": {
          "base_uri": "https://localhost:8080/"
        },
        "id": "i__8jliGy_nM",
        "outputId": "8967820b-fbd7-49c1-8dc6-7f92822f87fe"
      },
      "source": [
        "print(x_train.shape)\n",
        "print(y_train.shape)"
      ],
      "execution_count": null,
      "outputs": [
        {
          "output_type": "stream",
          "text": [
            "(48390, 36)\n",
            "(48390, 3)\n"
          ],
          "name": "stdout"
        }
      ]
    },
    {
      "cell_type": "code",
      "metadata": {
        "colab": {
          "base_uri": "https://localhost:8080/"
        },
        "id": "2LerZSYby_nP",
        "outputId": "bb233e95-5f80-46a4-9cb2-7415253a30e0"
      },
      "source": [
        "# Sample features\n",
        "print(x_train[0])"
      ],
      "execution_count": null,
      "outputs": [
        {
          "output_type": "stream",
          "text": [
            "[ 432  243   89  112  622  129 5155 5155 5155 5155 5155 5155   95   98\n",
            " 1981 5155 5155 5155   48   48   52   65   49   49   83   83   83   83\n",
            "   83   83   41   39   39   83   83   83]\n"
          ],
          "name": "stdout"
        }
      ]
    },
    {
      "cell_type": "markdown",
      "metadata": {
        "id": "17eqeESxy_nR"
      },
      "source": [
        "## 3. Model"
      ]
    },
    {
      "cell_type": "code",
      "metadata": {
        "id": "T5mqcz1qy_nT"
      },
      "source": [
        "from tensorflow.keras.models import Sequential, Model\n",
        "from tensorflow.keras.layers import Embedding, Reshape, Activation, Input, Dense, Reshape, Dropout, Flatten\n",
        "from tensorflow.keras.optimizers import Adam"
      ],
      "execution_count": null,
      "outputs": []
    },
    {
      "cell_type": "markdown",
      "metadata": {
        "id": "5sW29Rhvy_nX"
      },
      "source": [
        "### TODO 4 (Coding):\n",
        "Build and train a tensroflow keras model to predict an action for each state of of the input. This is a simple classification task. \n",
        "- The input and output of the model must match the dimention of x_train and y_train.\n",
        "- The model must use the provided pretrained embeddings\n",
        "- The model could comprise of only a feedforward layer and a dropout\n",
        "- Training loss should be around 0.1 or below, and training categorical_accuracy above 0.94"
      ]
    },
    {
      "cell_type": "code",
      "metadata": {
        "id": "jAWlQI6iy_nY"
      },
      "source": [
        "from tensorflow.keras.initializers import Constant\n",
        "from tensorflow.keras.metrics import CategoricalAccuracy\n",
        "\n",
        "model = Sequential()\n",
        "# Write your code here\n",
        "model.add(Input((36,)))\n",
        "model.add(Embedding(input_dim=embeddings.shape[0], output_dim=embeddings.shape[1], embeddings_initializer=Constant(embeddings), input_length=36))\n",
        "model.add(Flatten())\n",
        "model.add(Dense(16, activation='relu'))\n",
        "model.add(Dense(3, activation='softmax'))\n",
        "model.compile(optimizer=\"Adam\", loss=\"categorical_crossentropy\", metrics=[CategoricalAccuracy()])"
      ],
      "execution_count": null,
      "outputs": []
    },
    {
      "cell_type": "code",
      "metadata": {
        "colab": {
          "base_uri": "https://localhost:8080/"
        },
        "id": "iMjs0W69y_nb",
        "outputId": "185df68e-0f7a-411f-c52e-a8f3cc1102a3"
      },
      "source": [
        "# Write your code here\n",
        "model.fit(x_train, y_train, epochs=5, batch_size=128, validation_split=0.2)"
      ],
      "execution_count": null,
      "outputs": [
        {
          "output_type": "stream",
          "text": [
            "Epoch 1/5\n",
            "303/303 [==============================] - 3s 8ms/step - loss: 0.4849 - categorical_accuracy: 0.7903 - val_loss: 0.2655 - val_categorical_accuracy: 0.8951\n",
            "Epoch 2/5\n",
            "303/303 [==============================] - 2s 8ms/step - loss: 0.2226 - categorical_accuracy: 0.9184 - val_loss: 0.2158 - val_categorical_accuracy: 0.9167\n",
            "Epoch 3/5\n",
            "303/303 [==============================] - 2s 8ms/step - loss: 0.1792 - categorical_accuracy: 0.9322 - val_loss: 0.1957 - val_categorical_accuracy: 0.9257\n",
            "Epoch 4/5\n",
            "303/303 [==============================] - 2s 8ms/step - loss: 0.1428 - categorical_accuracy: 0.9482 - val_loss: 0.1935 - val_categorical_accuracy: 0.9274\n",
            "Epoch 5/5\n",
            "303/303 [==============================] - 2s 8ms/step - loss: 0.1192 - categorical_accuracy: 0.9581 - val_loss: 0.1871 - val_categorical_accuracy: 0.9295\n"
          ],
          "name": "stdout"
        },
        {
          "output_type": "execute_result",
          "data": {
            "text/plain": [
              "<tensorflow.python.keras.callbacks.History at 0x7f090ef8ad90>"
            ]
          },
          "metadata": {
            "tags": []
          },
          "execution_count": 167
        }
      ]
    },
    {
      "cell_type": "markdown",
      "metadata": {
        "id": "332SL84Yy_nf"
      },
      "source": [
        "## 4. Evaluation"
      ]
    },
    {
      "cell_type": "markdown",
      "metadata": {
        "id": "HohiOHZUy_nf"
      },
      "source": [
        "For Dependency Parsing, we usually report attachment score of the model for evaluation. There are two possible metrics UAS and LAS."
      ]
    },
    {
      "cell_type": "markdown",
      "metadata": {
        "id": "R3hmM0Kly_ng"
      },
      "source": [
        "### TODO 5 (Written and Coding):\n",
        "Explain how attachment score is calculated and the difference between unlabeled attachment score (UAS) and labeled attachment score (LAS). Which one should we use here?"
      ]
    },
    {
      "cell_type": "markdown",
      "metadata": {
        "id": "rENVVVUhy_nh"
      },
      "source": [
        "__Answer here__:\n",
        "- Unlabeled Attachment Score (UAS) is the percent correct predicted dependencies over the number of possibilities\n",
        "- Labeled Attachment Score (LAS) is the percent correct predicted dependencies and relations over the number of possibilities\n",
        "\n",
        "The difference is that LAS consider relations. Since we aren't consider label. We should use UAS."
      ]
    },
    {
      "cell_type": "markdown",
      "metadata": {
        "id": "HE2HQT4Vy_ni"
      },
      "source": [
        "Report the score using appropriate metric on dev_set and test_set. The function for calculating scores are provided in parser.parse and the dataset can be passed in as-is."
      ]
    },
    {
      "cell_type": "markdown",
      "metadata": {
        "id": "r4JJmrsGy_nj"
      },
      "source": [
        "dev_score:"
      ]
    },
    {
      "cell_type": "code",
      "metadata": {
        "colab": {
          "base_uri": "https://localhost:8080/"
        },
        "id": "SOTPTqf7y_nj",
        "outputId": "7fbb25f5-f2fc-4036-e647-d481570b1d9e"
      },
      "source": [
        "dev_score = parser.parse(dev_set, model, minibatch_parse)\n",
        "dev_score[0]"
      ],
      "execution_count": null,
      "outputs": [
        {
          "output_type": "execute_result",
          "data": {
            "text/plain": [
              "0.7079063567441473"
            ]
          },
          "metadata": {
            "tags": []
          },
          "execution_count": 168
        }
      ]
    },
    {
      "cell_type": "markdown",
      "metadata": {
        "id": "DlCJGdLWy_nm"
      },
      "source": [
        "test_score:"
      ]
    },
    {
      "cell_type": "code",
      "metadata": {
        "colab": {
          "base_uri": "https://localhost:8080/"
        },
        "id": "o2bJf_1oy_nn",
        "outputId": "fd610032-38bb-4dd6-9bd1-f07822f0261e"
      },
      "source": [
        "test_score = parser.parse(test_set, model, minibatch_parse)\n",
        "test_score[0]"
      ],
      "execution_count": null,
      "outputs": [
        {
          "output_type": "execute_result",
          "data": {
            "text/plain": [
              "0.724053826745164"
            ]
          },
          "metadata": {
            "tags": []
          },
          "execution_count": 169
        }
      ]
    },
    {
      "cell_type": "markdown",
      "metadata": {
        "id": "SLcAa-fLy_nq"
      },
      "source": [
        "Also, print one sample sentence (in English) in the test set and its predicted dependencies from the model.\n",
        "You can use __parser.id2tok\\[word_id\\]__ to lookup the word in English.\n",
        "\n",
        "__Draw a picture of this sentence with arrows and upload it to my couseville__"
      ]
    },
    {
      "cell_type": "code",
      "metadata": {
        "colab": {
          "base_uri": "https://localhost:8080/",
          "height": 35
        },
        "id": "eY6li-u5y_nq",
        "outputId": "9f5c88e1-18b4-4dad-cc65-15a0e616529f"
      },
      "source": [
        "' '.join([parser.id2tok[idx] for idx in test_set[0]['word']])"
      ],
      "execution_count": null,
      "outputs": [
        {
          "output_type": "execute_result",
          "data": {
            "application/vnd.google.colaboratory.intrinsic+json": {
              "type": "string"
            },
            "text/plain": [
              "\"<ROOT> no , it was n't black monday .\""
            ]
          },
          "metadata": {
            "tags": []
          },
          "execution_count": 170
        }
      ]
    },
    {
      "cell_type": "code",
      "metadata": {
        "colab": {
          "base_uri": "https://localhost:8080/"
        },
        "id": "MyeWbzLS40W-",
        "outputId": "cf576c16-b8d6-4050-9361-11acfe7dc2c9"
      },
      "source": [
        "words = [parser.id2tok[idx] for idx in test_set[0]['word']]\n",
        "for a,b in test_score[1][0]:\n",
        "  print(a,b)\n",
        "  print(f'{words[a]}->{words[b]}')"
      ],
      "execution_count": null,
      "outputs": [
        {
          "output_type": "stream",
          "text": [
            "7 6\n",
            "monday->black\n",
            "7 5\n",
            "monday->n't\n",
            "7 4\n",
            "monday->was\n",
            "7 3\n",
            "monday->it\n",
            "7 2\n",
            "monday->,\n",
            "7 1\n",
            "monday->no\n",
            "7 8\n",
            "monday->.\n",
            "0 7\n",
            "<ROOT>->monday\n"
          ],
          "name": "stdout"
        }
      ]
    }
  ]
}