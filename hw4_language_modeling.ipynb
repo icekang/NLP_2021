{
  "nbformat": 4,
  "nbformat_minor": 0,
  "metadata": {
    "kernelspec": {
      "display_name": "Python 3",
      "language": "python",
      "name": "python3"
    },
    "language_info": {
      "codemirror_mode": {
        "name": "ipython",
        "version": 3
      },
      "file_extension": ".py",
      "mimetype": "text/x-python",
      "name": "python",
      "nbconvert_exporter": "python",
      "pygments_lexer": "ipython3",
      "version": "3.6.4"
    },
    "colab": {
      "name": "hw4_language_modeling.ipynb",
      "provenance": [],
      "collapsed_sections": [],
      "toc_visible": true,
      "machine_shape": "hm",
      "include_colab_link": true
    }
  },
  "cells": [
    {
      "cell_type": "markdown",
      "metadata": {
        "id": "view-in-github",
        "colab_type": "text"
      },
      "source": [
        "<a href=\"https://colab.research.google.com/github/icekang/NLP_2021/blob/main/hw4_language_modeling.ipynb\" target=\"_parent\"><img src=\"https://colab.research.google.com/assets/colab-badge.svg\" alt=\"Open In Colab\"/></a>"
      ]
    },
    {
      "cell_type": "markdown",
      "metadata": {
        "collapsed": true,
        "id": "15QfB7RAuXAc"
      },
      "source": [
        "# Language Modeling using Ngram"
      ]
    },
    {
      "cell_type": "markdown",
      "metadata": {
        "id": "gucid6KNuXAe"
      },
      "source": [
        "In this Exercise, you are going to use NLTK which is a natural language processing library for python to create a bigram language model and its variation. You will build one model for each of the following type and calculate their perplexity:\n",
        "- Unigram Model\n",
        "- Bigram Model\n",
        "- Bigram Model with Laplace smoothing\n",
        "- Bigram Model with Interpolation\n",
        "- Bigram Model with Kneser-ney Interpolation\n",
        "- Neural LM (optional)\n",
        "\n"
      ]
    },
    {
      "cell_type": "code",
      "metadata": {
        "id": "MRRrn78ZjL54",
        "colab": {
          "base_uri": "https://localhost:8080/"
        },
        "outputId": "d05336a8-74bb-4be7-bb08-c2d201aed954"
      },
      "source": [
        "#download corpus\n",
        "!wget --no-check-certificate https://github.com/ekapolc/nlp_2019/raw/master/HW4/BEST2010.zip\n",
        "!unzip BEST2010.zip"
      ],
      "execution_count": 81,
      "outputs": [
        {
          "output_type": "stream",
          "text": [
            "--2021-02-14 09:43:57--  https://github.com/ekapolc/nlp_2019/raw/master/HW4/BEST2010.zip\n",
            "Resolving github.com (github.com)... 140.82.121.3\n",
            "Connecting to github.com (github.com)|140.82.121.3|:443... connected.\n",
            "HTTP request sent, awaiting response... 302 Found\n",
            "Location: https://raw.githubusercontent.com/ekapolc/nlp_2019/master/HW4/BEST2010.zip [following]\n",
            "--2021-02-14 09:43:58--  https://raw.githubusercontent.com/ekapolc/nlp_2019/master/HW4/BEST2010.zip\n",
            "Resolving raw.githubusercontent.com (raw.githubusercontent.com)... 185.199.110.133, 185.199.108.133, 185.199.111.133, ...\n",
            "Connecting to raw.githubusercontent.com (raw.githubusercontent.com)|185.199.110.133|:443... connected.\n",
            "HTTP request sent, awaiting response... 200 OK\n",
            "Length: 7423530 (7.1M) [application/zip]\n",
            "Saving to: ‘BEST2010.zip.1’\n",
            "\n",
            "BEST2010.zip.1      100%[===================>]   7.08M  42.5MB/s    in 0.2s    \n",
            "\n",
            "2021-02-14 09:43:58 (42.5 MB/s) - ‘BEST2010.zip.1’ saved [7423530/7423530]\n",
            "\n",
            "Archive:  BEST2010.zip\n",
            "replace BEST2010/article.txt? [y]es, [n]o, [A]ll, [N]one, [r]ename: n\n",
            "replace BEST2010/encyclopedia.txt? [y]es, [n]o, [A]ll, [N]one, [r]ename: N\n"
          ],
          "name": "stdout"
        }
      ]
    },
    {
      "cell_type": "code",
      "metadata": {
        "id": "GjJDeG03uXAf"
      },
      "source": [
        "#First we import necessary library such as math, nltk, bigram, and collections.\n",
        "import math\n",
        "import nltk\n",
        "import io\n",
        "import random\n",
        "from random import shuffle\n",
        "from nltk import bigrams, trigrams\n",
        "from collections import Counter, defaultdict\n",
        "random.seed(999)"
      ],
      "execution_count": 82,
      "outputs": []
    },
    {
      "cell_type": "markdown",
      "metadata": {
        "id": "HugXBHNEuXAh"
      },
      "source": [
        "BEST2010 is a free Thai NLP dataset by NECTEC usually use as a standard benchmark for various NLP tasks includeing language modeling. BEST2010 is separated into 4 domain article, encyclopedia, news and novel. The data is already  tokenized using '|' as a separator.\n",
        "\n",
        "For example,\n",
        "\n",
        "ตาม|ที่|นางประนอม ทองจันทร์| |กับ| |ด.ช.กิตติพงษ์ แหลมผักแว่น| |และ| |ด.ญ.กาญจนา กรองแก้ว| |ป่วย|สงสัย|ติด|เชื้อ|ไข้|ขณะ|นี้|ยัง|ไม่|ดี|ขึ้น|"
      ]
    },
    {
      "cell_type": "code",
      "metadata": {
        "id": "iu-AJSZZuXAi"
      },
      "source": [
        "# We choose news domain as our dataset\n",
        "best2010=[]\n",
        "fp= io.open('BEST2010/news.txt','r',encoding='utf-8')\n",
        "for i,line in enumerate(fp):\n",
        "    best2010.append(line.strip()[:-1])\n",
        "fp.close()\n",
        "all_vocabulary =set()\n",
        "total_word_count =0\n",
        "for line in best2010:\n",
        "    for word in line.split('|'):        \n",
        "        all_vocabulary.add(word)\n",
        "        total_word_count+=1"
      ],
      "execution_count": 117,
      "outputs": []
    },
    {
      "cell_type": "code",
      "metadata": {
        "id": "3WfpGgbruXAj",
        "colab": {
          "base_uri": "https://localhost:8080/"
        },
        "outputId": "d3bd41c8-2740-4818-d85e-ef52dd4f8673"
      },
      "source": [
        "#For simplicity, we assumes that each line is a sentence.\n",
        "print ('Total sentences in BEST2010 news dataset :\\t'+ str(len(best2010)))\n",
        "print ('Total word counts in BEST2010 news dataset :\\t'+ str(total_word_count))\n",
        "print ('Total vocabulary in BEST2010 news dataset :\\t'+ str(len(all_vocabulary)))"
      ],
      "execution_count": 118,
      "outputs": [
        {
          "output_type": "stream",
          "text": [
            "Total sentences in BEST2010 news dataset :\t30969\n",
            "Total word counts in BEST2010 news dataset :\t1660190\n",
            "Total vocabulary in BEST2010 news dataset :\t35488\n"
          ],
          "name": "stdout"
        }
      ]
    },
    {
      "cell_type": "markdown",
      "metadata": {
        "id": "_JD9iXF1uXAm"
      },
      "source": [
        "We separate out input into 2 sets, train and test data with 70:30 ratio"
      ]
    },
    {
      "cell_type": "code",
      "metadata": {
        "id": "_WGcQq_juXAm",
        "colab": {
          "base_uri": "https://localhost:8080/"
        },
        "outputId": "7adb0bc6-f12d-41b5-bc5e-665b42449c61"
      },
      "source": [
        "sentences = best2010\n",
        "# The data is separated to train and test set with 70:30 ratio.\n",
        "train = sentences[:int(len(sentences)*0.7)]\n",
        "test = sentences[int(len(sentences)*0.7):]\n",
        "\n",
        "#Training data\n",
        "train_vocabulary =set()\n",
        "train_word_count =0\n",
        "for line in train:\n",
        "    for word in line.split('|'):        \n",
        "        train_vocabulary.add(word)\n",
        "        train_word_count+=1\n",
        "print ('Total sentences in BEST2010 news training dataset :\\t'+ str(len(train)))\n",
        "print ('Total word counts in BEST2010 news training dataset :\\t'+ str(train_word_count))\n",
        "print ('Total vocabuary in BEST2010 news training dataset :\\t'+ str(len(train_vocabulary)))\n",
        "# We will use 1/vocab_size as a default value for unknown word\n",
        "unk_value = math.pow(len(train_vocabulary),-1)"
      ],
      "execution_count": 119,
      "outputs": [
        {
          "output_type": "stream",
          "text": [
            "Total sentences in BEST2010 news training dataset :\t21678\n",
            "Total word counts in BEST2010 news training dataset :\t1042797\n",
            "Total vocabuary in BEST2010 news training dataset :\t26240\n"
          ],
          "name": "stdout"
        }
      ]
    },
    {
      "cell_type": "markdown",
      "metadata": {
        "id": "pHtCMFMluXAo"
      },
      "source": [
        "# Unigram"
      ]
    },
    {
      "cell_type": "markdown",
      "metadata": {
        "id": "2V1WQTGzuXAp"
      },
      "source": [
        "In this section, we will demonstrate how to build a unigram language model <br>\n",
        "**Important note:** <br>\n",
        "**\\<s\\>** = sentence start symbol <br>\n",
        "**\\</s\\>** = sentence end symbol "
      ]
    },
    {
      "cell_type": "code",
      "metadata": {
        "id": "vQjO4wX_uXAp"
      },
      "source": [
        "def getUnigramModel(data):\n",
        "    model = defaultdict(lambda: 0)\n",
        "    word_count = 0\n",
        "    for sentence in data:\n",
        "        sentence +=  u'|</s>' #for unigram model we can always ignore <s>, since p(w0=<s>)=1\n",
        "        for w1 in sentence.split('|'):\n",
        "            model[w1] +=1.0\n",
        "            word_count+=1\n",
        "    for w1 in model:\n",
        "        model[w1] = model[w1]/(word_count)\n",
        "    return model"
      ],
      "execution_count": 86,
      "outputs": []
    },
    {
      "cell_type": "code",
      "metadata": {
        "id": "dxoVqkfuuXAr"
      },
      "source": [
        "model = getUnigramModel(train)"
      ],
      "execution_count": 87,
      "outputs": []
    },
    {
      "cell_type": "code",
      "metadata": {
        "id": "6coGxSY7uXAt"
      },
      "source": [
        "def getLnValue(x):\n",
        "    if x >0.0:\n",
        "      return math.log(x)\n",
        "    else:\n",
        "      return math.log(unk_value)"
      ],
      "execution_count": 88,
      "outputs": []
    },
    {
      "cell_type": "code",
      "metadata": {
        "id": "cFy8yhZjuXAv",
        "colab": {
          "base_uri": "https://localhost:8080/"
        },
        "outputId": "ff223a09-2cd6-4a5f-a326-3de91758075e"
      },
      "source": [
        "#problability of 'นายก'\n",
        "print(getLnValue(model[u'นายก']))\n",
        "#for example, problability of 'นายกรัฐมนตรี' which is an unknown word is equal to\n",
        "print(getLnValue(model[u'นายกรัฐมนตรี']))\n",
        "#problability of 'นายก' 'ได้' 'ให้' 'สัมภาษณ์' 'กับ' 'สื่อ'\n",
        "prob = getLnValue(model[u'นายก'])+getLnValue(model[u'ได้'])+ getLnValue(model[u'ให้'])+getLnValue(model[u'สัมภาษณ์'])+getLnValue(model[u'กับ'])+getLnValue(model[u'สื่อ'])+getLnValue(model['</s>'])\n",
        "print ('Problability of a sentence', math.exp(prob))"
      ],
      "execution_count": 89,
      "outputs": [
        {
          "output_type": "stream",
          "text": [
            "-6.551526663995246\n",
            "-10.175040243058024\n",
            "Problability of a sentence 5.617210748667918e-18\n"
          ],
          "name": "stdout"
        }
      ]
    },
    {
      "cell_type": "markdown",
      "metadata": {
        "id": "D8EfqnDsuXAw"
      },
      "source": [
        "# Perplexity\n",
        "\n",
        "In order to compare language model we need to calculate perplexity. In this task you should write a perplexity calculation code for the unigram model. The result perplexity should be around 556.39 and\n",
        "476.07 on train and test data."
      ]
    },
    {
      "cell_type": "markdown",
      "metadata": {
        "id": "qDbyLBEggie0"
      },
      "source": [
        "# TODO #0\n",
        "**Fill your name and ID here** <br>\n",
        "**Name**: Naravich Chutisilp\n",
        "<br>\n",
        "**ID**: 6030319921"
      ]
    },
    {
      "cell_type": "markdown",
      "metadata": {
        "id": "hZHQ-6tVuXAx"
      },
      "source": [
        "## TODO #1 **Calculate perplexity**"
      ]
    },
    {
      "cell_type": "code",
      "metadata": {
        "id": "kh0DwzoouXAx"
      },
      "source": [
        "def calculate_sentence_ln_prob(tokenized_sentence, model):\n",
        "  _sum = 0\n",
        "  for word in tokenized_sentence:\n",
        "     _sum += getLnValue(model[word])\n",
        "  \n",
        "  return _sum\n",
        "\n",
        "def perplexity(test, model):\n",
        "  _sum = 0\n",
        "  _cnt = 0\n",
        "  for sentence in test:\n",
        "    sentence += u'|</s>'\n",
        "    tokenized_sentence = sentence.split('|')\n",
        "    _sum += calculate_sentence_ln_prob(tokenized_sentence, model)\n",
        "    _cnt += len(tokenized_sentence)\n",
        "  return math.exp(-1 * _sum / _cnt)"
      ],
      "execution_count": 90,
      "outputs": []
    },
    {
      "cell_type": "code",
      "metadata": {
        "colab": {
          "base_uri": "https://localhost:8080/"
        },
        "id": "VCUURgmWNsLK",
        "outputId": "a811ed73-185e-4741-c2fa-e6f84c4fb94d"
      },
      "source": [
        "print(perplexity(train,model))\r\n",
        "print(perplexity(test,model))\r\n",
        "# 556.3925994212195\r\n",
        "# 476.0687892303532"
      ],
      "execution_count": 91,
      "outputs": [
        {
          "output_type": "stream",
          "text": [
            "556.3925994212195\n",
            "476.0687892303532\n"
          ],
          "name": "stdout"
        }
      ]
    },
    {
      "cell_type": "markdown",
      "metadata": {
        "id": "gad1QuPAHUoK"
      },
      "source": [
        "## TODO #2 **Please explain why this model give us such a high perplexity.**"
      ]
    },
    {
      "cell_type": "markdown",
      "metadata": {
        "id": "tMbhIO29HT6y"
      },
      "source": [
        "**Your answer**: the model does not consider words before them. Like us, only considering which word should come after another gives quite wrong answer."
      ]
    },
    {
      "cell_type": "markdown",
      "metadata": {
        "id": "lK0gaMf0uXA2"
      },
      "source": [
        "# Bigram"
      ]
    },
    {
      "cell_type": "markdown",
      "metadata": {
        "id": "dmTkAY_QuXA3"
      },
      "source": [
        "Next, you will create a better language model than a unigram (which is not much to compare with). But first, it is very tedious to count every pair of words that occur in our corpus by ourselves. In this case, nltk provide us a simple library which will do it for us."
      ]
    },
    {
      "cell_type": "code",
      "metadata": {
        "id": "Lv6r2LJ1uXA4",
        "colab": {
          "base_uri": "https://localhost:8080/"
        },
        "outputId": "a89d9bc1-f5ca-443f-f382-88d63350464a"
      },
      "source": [
        "#example of nltk usage for bigram\n",
        "sentence = 'I always search google for an answer .'\n",
        "\n",
        "print('This is how nltk generate bigram.') # อยากลืม <s> กับ </s>; normalize ด้วย 9\n",
        "for w1,w2 in bigrams(sentence.split(), pad_right=True, pad_left=True):\n",
        "    print (w1,w2)\n",
        "print('None is used as a start and end of sentence symbol.')"
      ],
      "execution_count": 92,
      "outputs": [
        {
          "output_type": "stream",
          "text": [
            "This is how nltk generate bigram.\n",
            "None I\n",
            "I always\n",
            "always search\n",
            "search google\n",
            "google for\n",
            "for an\n",
            "an answer\n",
            "answer .\n",
            ". None\n",
            "None is used as a start and end of sentence symbol.\n"
          ],
          "name": "stdout"
        }
      ]
    },
    {
      "cell_type": "markdown",
      "metadata": {
        "id": "5R2T-6i9uXA6"
      },
      "source": [
        "Now, you should be able to implement a bigram model by yourself. Also, you must create a new perplexity calculation for bigram. The result perplexity should be around 58.54 and 145.88 on train and test data."
      ]
    },
    {
      "cell_type": "markdown",
      "metadata": {
        "id": "9aYkjzTzuXA7"
      },
      "source": [
        "## TODO #3 **Create a Bigram Model**"
      ]
    },
    {
      "cell_type": "code",
      "metadata": {
        "id": "ZhnAa1XuuXA7",
        "colab": {
          "base_uri": "https://localhost:8080/"
        },
        "outputId": "f96c235c-3a40-4a2b-cf6f-85be1e3319d9"
      },
      "source": [
        "def getBigramModel(data):\n",
        "  ###FILL YOUR CODE HERE###\n",
        "  model = defaultdict(lambda: 0.)\n",
        "  bigram_count = defaultdict(lambda: 0.)\n",
        "  unigram_count = defaultdict(lambda: 0.)\n",
        "  _cnt = 0\n",
        "  for sentence in data:\n",
        "    for w1, w2 in bigrams(sentence.split('|'), pad_right=True, pad_left=True):\n",
        "      bigram_count[(w1,w2)] += 1.\n",
        "      unigram_count[w2] += 1.\n",
        "    _cnt += 1\n",
        "    if _cnt % 1000 == 0:\n",
        "      print('_cnt', _cnt)\n",
        "\n",
        "  print('getting model', len(bigram_count.keys()))\n",
        "  for w1, w2 in bigram_count.keys():\n",
        "    model[(w1,w2)] = bigram_count[(w1,w2)] / unigram_count[w1]\n",
        "\n",
        "  return model\n",
        "\n",
        "model = getBigramModel(train)"
      ],
      "execution_count": 93,
      "outputs": [
        {
          "output_type": "stream",
          "text": [
            "_cnt 1000\n",
            "_cnt 2000\n",
            "_cnt 3000\n",
            "_cnt 4000\n",
            "_cnt 5000\n",
            "_cnt 6000\n",
            "_cnt 7000\n",
            "_cnt 8000\n",
            "_cnt 9000\n",
            "_cnt 10000\n",
            "_cnt 11000\n",
            "_cnt 12000\n",
            "_cnt 13000\n",
            "_cnt 14000\n",
            "_cnt 15000\n",
            "_cnt 16000\n",
            "_cnt 17000\n",
            "_cnt 18000\n",
            "_cnt 19000\n",
            "_cnt 20000\n",
            "_cnt 21000\n",
            "getting model 224393\n"
          ],
          "name": "stdout"
        }
      ]
    },
    {
      "cell_type": "markdown",
      "metadata": {
        "id": "i3_Cgu6guXA-"
      },
      "source": [
        "## TODO #4 **Calculate Perplexity for Bigram Model**\n",
        "\n"
      ]
    },
    {
      "cell_type": "code",
      "metadata": {
        "id": "4i3NoQGfuXA-"
      },
      "source": [
        "def calculate_sentence_ln_prob(sentence, model):\n",
        "  _sum = 0\n",
        "  _n = 0\n",
        "  for w1, w2 in bigrams(sentence.split('|'), pad_right=True, pad_left=True):\n",
        "    _sum += getLnValue(model[(w1, w2)])\n",
        "    _n += 1\n",
        "  return _sum, _n\n",
        "\n",
        "def perplexity(test,model):\n",
        "  _sum = 0\n",
        "  _cnt = 0\n",
        "  for sentence in test:\n",
        "    s, n = calculate_sentence_ln_prob(sentence, model)\n",
        "    _sum += s\n",
        "    _cnt += n\n",
        "  return math.exp(-1 * _sum / _cnt)"
      ],
      "execution_count": 94,
      "outputs": []
    },
    {
      "cell_type": "code",
      "metadata": {
        "colab": {
          "base_uri": "https://localhost:8080/"
        },
        "id": "uQam0I6nlTP7",
        "outputId": "4ca1a589-7ee6-421c-fc03-c37644543753"
      },
      "source": [
        "print(perplexity(train,model))\r\n",
        "print(perplexity(test, model))\r\n",
        "\r\n",
        "# 58.78942889767147\r\n",
        "# 146.26539331038614"
      ],
      "execution_count": 95,
      "outputs": [
        {
          "output_type": "stream",
          "text": [
            "58.78942889767147\n",
            "146.26539331038614\n"
          ],
          "name": "stdout"
        }
      ]
    },
    {
      "cell_type": "markdown",
      "metadata": {
        "id": "9BAF9DQbuXBC"
      },
      "source": [
        "# Smoothing"
      ]
    },
    {
      "cell_type": "markdown",
      "metadata": {
        "id": "jlm75BWLuXBC"
      },
      "source": [
        "Usually any ngram models have a sparsity problem, which means it does not have every possible ngram of words in the dataset. Smoothing techniques can alleviate this problem. In this section, you will implement two basic smoothing methods laplace smoothing and interpolation for bigram."
      ]
    },
    {
      "cell_type": "markdown",
      "metadata": {
        "id": "jwa7YQiouXBD"
      },
      "source": [
        "## TODO #5 **Bigram with Laplace smoothing (Add-One Smoothing)**"
      ]
    },
    {
      "cell_type": "code",
      "metadata": {
        "id": "hnDlweIQuXBD",
        "colab": {
          "base_uri": "https://localhost:8080/"
        },
        "outputId": "932a57ca-b22e-4415-f98d-aeed75e3f60c"
      },
      "source": [
        "#Laplace Smoothing\n",
        "\n",
        "# for functional model\n",
        "# def calculate_sentence_ln_prob(sentence, model):\n",
        "#   _sum = 0\n",
        "#   _n = 0\n",
        "#   for w1, w2 in bigrams(sentence.split('|'), pad_right=True, pad_left=True):\n",
        "#     _sum += getLnValue(model(w1, w2))\n",
        "#     _n += 1\n",
        "#   return _sum, _n\n",
        "\n",
        "def getBigramWithLaplaceSmoothing(data):\n",
        "  bigram_count = defaultdict(lambda: 0.)\n",
        "  unigram_count = defaultdict(lambda: 0.)\n",
        "  model = defaultdict(lambda: 0.)\n",
        "  _cnt = 0\n",
        "  for sentence in data:\n",
        "    for w1, w2 in bigrams(sentence.split('|'), pad_right=True, pad_left=True):\n",
        "      bigram_count[(w1,w2)] += 1.\n",
        "      unigram_count[w2] += 1.\n",
        "    _cnt += 1\n",
        "\n",
        "  V = len(unigram_count.keys())\n",
        "  for w1, w2 in bigram_count.keys():\n",
        "    model[(w1, w2)] = (bigram_count[(w1,w2)] + 1) / (unigram_count[w1] + V)\n",
        "  \n",
        "  # def model(w1, w2):\n",
        "  #   if (w1,w2) not in bigram_count:\n",
        "  #     return math.pow(len(train_vocabulary),-1)\n",
        "  #   return (bigram_count[(w1,w2)] + 1) / (unigram_count[w1] + V)\n",
        "\n",
        "  return model\n",
        "\n",
        "model = getBigramWithLaplaceSmoothing(train)\n",
        "print (perplexity(train, model))\n",
        "print (perplexity(test, model))\n",
        "\n",
        "# 974.8134581679766\n",
        "# 1098.1622194979489"
      ],
      "execution_count": 96,
      "outputs": [
        {
          "output_type": "stream",
          "text": [
            "974.8134581679766\n",
            "1098.1622194979489\n"
          ],
          "name": "stdout"
        }
      ]
    },
    {
      "cell_type": "markdown",
      "metadata": {
        "id": "5JDswBSIuXBG"
      },
      "source": [
        "## TODO #6 **Bigram with Interpolation**\n",
        "lambda value is 0.7 for bigram, 0.25 for unigram, and 0.05 for unknown word"
      ]
    },
    {
      "cell_type": "code",
      "metadata": {
        "id": "pskrwklHuXBI",
        "colab": {
          "base_uri": "https://localhost:8080/"
        },
        "outputId": "a1f22edd-6db5-4193-fe8a-eb8902fddfce"
      },
      "source": [
        "#interpolation\n",
        "def getUnigramModel2(data,word_count):\n",
        "  model = defaultdict(lambda: 0)\n",
        "  for sentence in data:\n",
        "    for w1,w2 in bigrams(sentence.split('|'), pad_right=True, pad_left=True):\n",
        "      model[w1] +=1.0\n",
        "  for w1 in model:\n",
        "    model[w1] = model[w1]/word_count\n",
        "  return model\n",
        "\n",
        "def getBigramWithInterpolation(data):\n",
        "  bigram_count = defaultdict(lambda: 0.)\n",
        "  unigram_count = defaultdict(lambda: 0.)\n",
        "  unigram_model = getUnigramModel2(data, train_word_count)\n",
        "  model = defaultdict(lambda: 0.)\n",
        "  _cnt = 0\n",
        "  for sentence in data:\n",
        "    for w1, w2 in bigrams(sentence.split('|'), pad_right=True, pad_left=True):\n",
        "      bigram_count[(w1,w2)] += 1.\n",
        "      unigram_count[w2] += 1.\n",
        "    _cnt += 1\n",
        "\n",
        "  V = len(unigram_count.keys())\n",
        "  for w1, w2 in bigram_count.keys():\n",
        "    b = bigram_count[(w1,w2)] / unigram_count[w1]\n",
        "    u = unigram_model[w2]\n",
        "    C = unk_value\n",
        "    model[(w1, w2)] = 0.7*b + 0.25*u + 0.05*C\n",
        "\n",
        "  return model\n",
        "    \n",
        "model = getBigramWithInterpolation(train)\n",
        "print (perplexity(train,model))        \n",
        "print (perplexity(test,model))\n",
        "\n",
        "# 73.38409869825665\n",
        "# 172.67485908813356"
      ],
      "execution_count": 100,
      "outputs": [
        {
          "output_type": "stream",
          "text": [
            "73.38409869825665\n",
            "172.67485908813356\n"
          ],
          "name": "stdout"
        }
      ]
    },
    {
      "cell_type": "markdown",
      "metadata": {
        "id": "90FupFyQuXBL"
      },
      "source": [
        "the result perplexity on training and testing should be \n",
        "\n",
        "    966.26, 1092.15 for Laplace smoothing\n",
        "    73.01, 170.97 for Interpolation"
      ]
    },
    {
      "cell_type": "markdown",
      "metadata": {
        "id": "pUorP-EWuXBM"
      },
      "source": [
        "# Language modeling on multiple domains\n",
        "\n",
        "Sometimes, we do not have enough data to create a language model for a new domain. In that case, we can improvised by combining several models to improve result on the new domain.\n",
        "\n",
        "In this exercise you will try to merge two language models from news and article domains to create a language model for the encyclopedia domain."
      ]
    },
    {
      "cell_type": "code",
      "metadata": {
        "id": "Jel9Hx69uXBN"
      },
      "source": [
        "# create article data\n",
        "encyclo_data=[]\n",
        "fp= io.open('BEST2010/encyclopedia.txt','r',encoding='utf-8')\n",
        "for i,line in enumerate(fp):\n",
        "    encyclo_data.append(line.strip()[:-1])\n",
        "fp.close()"
      ],
      "execution_count": 101,
      "outputs": []
    },
    {
      "cell_type": "markdown",
      "metadata": {
        "id": "9skdgo8muXBO"
      },
      "source": [
        "\n",
        "First, you should try to calculate perplexity of your bigram with interpolation using \"news data\" (train) on \"encyclopedia data\" (test). The result perplexity should be around 727.35.\n",
        "\n",
        "For your information, a bigram model with interpolation using \"ariticle data\" (train) to test on \"encyclopedia data\" (test) has a perplexity of 505.79."
      ]
    },
    {
      "cell_type": "code",
      "metadata": {
        "id": "x0l91qLEuXBP",
        "colab": {
          "base_uri": "https://localhost:8080/"
        },
        "outputId": "a9cf966c-9de2-4932-d280-9be5c9a720e3"
      },
      "source": [
        "#print perplexity of bigram with interpolation on article data        \n",
        "print (perplexity(encyclo_data,model))"
      ],
      "execution_count": 102,
      "outputs": [
        {
          "output_type": "stream",
          "text": [
            "727.3502637212223\n"
          ],
          "name": "stdout"
        }
      ]
    },
    {
      "cell_type": "markdown",
      "metadata": {
        "id": "hwV9j9U-uXBR"
      },
      "source": [
        "## TODO #7 \n",
        "Write a model that produce 450.0 or less perplexity on encyclopedia data without using data from the encyclopedia as training data. (Hint : Try to combine a model with news data and a model with article data together.)"
      ]
    },
    {
      "cell_type": "code",
      "metadata": {
        "id": "wBjmLhUcuXBS",
        "colab": {
          "base_uri": "https://localhost:8080/"
        },
        "outputId": "0bb37e72-3902-4f8a-be00-580a2ac93d4c"
      },
      "source": [
        "# Fill code here\n",
        "combined_data=[]\n",
        "with io.open('BEST2010/news.txt','r',encoding='utf-8') as fp:\n",
        "  for i,line in enumerate(fp):\n",
        "      combined_data.append(line.strip()[:-1])\n",
        "\n",
        "sentences = combined_data\n",
        "# The data is separated to train and test set with 70:30 ratio.\n",
        "train = sentences[:int(len(sentences)*0.7)]\n",
        "test = sentences[int(len(sentences)*0.7):]\n",
        "\n",
        "#Training data\n",
        "train_vocabulary =set()\n",
        "train_word_count =0\n",
        "for line in train:\n",
        "    for word in line.split('|'):        \n",
        "        train_vocabulary.add(word)\n",
        "        train_word_count+=1\n",
        "# We will use 1/vocab_size as a default value for unknown word\n",
        "unk_value = math.pow(len(train_vocabulary),-1)\n",
        "\n",
        "news_model = getBigramWithInterpolation(combined_data)\n",
        "news_weight = perplexity(test, news_model)\n",
        "\n",
        "\n",
        "combined_data=[]\n",
        "with io.open('BEST2010/article.txt','r',encoding='utf-8') as fp:\n",
        "  for i,line in enumerate(fp):\n",
        "      combined_data.append(line.strip()[:-1])\n",
        "\n",
        "sentences = combined_data\n",
        "# The data is separated to train and test set with 70:30 ratio.\n",
        "train = sentences[:int(len(sentences)*0.7)]\n",
        "test = sentences[int(len(sentences)*0.7):]\n",
        "\n",
        "#Training data\n",
        "train_vocabulary =set()\n",
        "train_word_count =0\n",
        "for line in train:\n",
        "    for word in line.split('|'):        \n",
        "        train_vocabulary.add(word)\n",
        "        train_word_count+=1\n",
        "# We will use 1/vocab_size as a default value for unknown word\n",
        "unk_value = math.pow(len(train_vocabulary),-1)\n",
        "\n",
        "article_weight = perplexity(test, article_model)\n",
        "\n",
        "# Combine model with their perplexity on their test data\n",
        "total_weight = news_weight + article_weight\n",
        "bigrams_combinations = set(list(news_model.keys()) + list(article_model.keys()))\n",
        "combined_model = defaultdict(lambda: 0.)\n",
        "for w1, w2 in bigrams_combinations:\n",
        "  combined_model[(w1,w2)] = news_model[(w1,w2)] * news_weight/total_weight + article_model[(w1,w2)] * article_weight/total_weight\n",
        "\n",
        "print('Perplexity of combine Bigram model with interpolation smoothing on encyclopedia test data',perplexity(encyclo_data, combined_model))"
      ],
      "execution_count": 116,
      "outputs": [
        {
          "output_type": "stream",
          "text": [
            "Perplexity of combine Bigram model with interpolation smoothing on encyclopedia test data 397.72729147277704\n"
          ],
          "name": "stdout"
        }
      ]
    },
    {
      "cell_type": "markdown",
      "metadata": {
        "id": "XNPEhD7WuXBV"
      },
      "source": [
        "## TODO #8 \n",
        "## Kneser-ney on \"News\"\n",
        "\n",
        "<!-- Reimplement equation 4.33 in SLP textbook (https://lagunita.stanford.edu/c4x/Engineering/CS-224N/asset/slp4.pdf) -->\n",
        "\n",
        "Implement Bigram Knerser-ney LM. The result perplexity should be around 55.06 and 140.76 on train and test data.\n"
      ]
    },
    {
      "cell_type": "code",
      "metadata": {
        "id": "2CzvIQ9ho7MR",
        "colab": {
          "base_uri": "https://localhost:8080/"
        },
        "outputId": "1422fc5b-c1fc-4937-9be1-7396c50ca278"
      },
      "source": [
        "# Fill codehere\n",
        "def kneser_ney_model(data):\n",
        "  # Probability of Kneser-ney Pkn\n",
        "  # Bigram, but cooler\n",
        "  bigram_count = defaultdict(lambda: 0.)\n",
        "  unigram_count = defaultdict(lambda: 0.)\n",
        "  for sentence in data:\n",
        "    for w1, w2 in bigrams(sentence.split('|'), pad_right=True, pad_left=True):\n",
        "      bigram_count[(w1,w2)] += 1.\n",
        "      unigram_count[w2] += 1.\n",
        "  d = 0.75\n",
        "  bigram_but_cooler = defaultdict(lambda: 0.)\n",
        "  for w1, w2 in bigram_count.keys():\n",
        "    bigram_but_cooler[(w1,w2)] = max(bigram_count[(w1,w2)] - d, 0) / unigram_count[w1]\n",
        "\n",
        "  # P_continuation w(i)\n",
        "  distinct_bigram_count = len(bigram_count.keys())\n",
        "  P_continuation = defaultdict(lambda: set())\n",
        "  for w1, w2 in bigram_count.keys():\n",
        "    P_continuation[w2].add(w1)\n",
        "  for w in P_continuation.keys():\n",
        "    P_continuation[w] = len(P_continuation[w]) / distinct_bigram_count\n",
        "\n",
        "  # Lambda w(i-1)\n",
        "  lambda_follow_distinct = defaultdict(lambda: set())\n",
        "  lambda_follow_non_distinct = defaultdict(lambda: 0.)\n",
        "  for w1, w2 in bigram_count.keys():\n",
        "    lambda_follow_distinct[w1].add(w2)\n",
        "    lambda_follow_non_distinct[w1] += bigram_count[(w1,w2)]\n",
        "  for w in lambda_follow_distinct.keys():\n",
        "    lambda_follow_distinct[w] = len(lambda_follow_distinct[w]) / lambda_follow_non_distinct[w]\n",
        "\n",
        "  model_kn = defaultdict(lambda: 0.)\n",
        "  for w1, w2 in bigram_count.keys():\n",
        "    model_kn[(w1,w2)] = bigram_but_cooler[(w1,w2)] + d * lambda_follow_distinct[w1] * P_continuation[w2]\n",
        "  \n",
        "  return model_kn\n",
        "\n",
        "model = kneser_ney_model(train)\n",
        "print (perplexity(train,model))        \n",
        "print (perplexity(test,model))\n",
        "# 71.14054002208687\n",
        "# 174.02464248000433, 174, 155, 142"
      ],
      "execution_count": 120,
      "outputs": [
        {
          "output_type": "stream",
          "text": [
            "71.14054002208687\n",
            "155.09274968738495\n"
          ],
          "name": "stdout"
        }
      ]
    },
    {
      "cell_type": "markdown",
      "metadata": {
        "id": "iAtK3fic_DlB"
      },
      "source": [
        "## TODO #9\n",
        "## Neural LM (optional)\n",
        "do it on news corpus that we splitted into train and test sets at the beginning of this exercise. "
      ]
    },
    {
      "cell_type": "code",
      "metadata": {
        "id": "4bxt1CWO_BbF"
      },
      "source": [
        "#there are many ways to do this. e.g.:\n",
        "#https://machinelearningmastery.com/develop-word-based-neural-language-models-python-keras/\n",
        "'''\n",
        "Embedding -> LSTM -> Dense\n",
        "'''"
      ],
      "execution_count": null,
      "outputs": []
    }
  ]
}