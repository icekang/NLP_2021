{
  "nbformat": 4,
  "nbformat_minor": 0,
  "metadata": {
    "kernelspec": {
      "display_name": "Python 3",
      "language": "python",
      "name": "python3"
    },
    "language_info": {
      "codemirror_mode": {
        "name": "ipython",
        "version": 3
      },
      "file_extension": ".py",
      "mimetype": "text/x-python",
      "name": "python",
      "nbconvert_exporter": "python",
      "pygments_lexer": "ipython3",
      "version": "3.5.2"
    },
    "colab": {
      "name": "hw6_text_classification.ipynb",
      "provenance": [],
      "collapsed_sections": [],
      "machine_shape": "hm",
      "include_colab_link": true
    },
    "accelerator": "GPU"
  },
  "cells": [
    {
      "cell_type": "markdown",
      "metadata": {
        "id": "view-in-github",
        "colab_type": "text"
      },
      "source": [
        "<a href=\"https://colab.research.google.com/github/icekang/NLP_2021/blob/main/hw6_text_classification.ipynb\" target=\"_parent\"><img src=\"https://colab.research.google.com/assets/colab-badge.svg\" alt=\"Open In Colab\"/></a>"
      ]
    },
    {
      "cell_type": "markdown",
      "metadata": {
        "id": "VQ8FRFIYMc5X"
      },
      "source": [
        "# HOMEWORK 5: TEXT CLASSIFICATION\n",
        "In this homework, you will create models to classify texts from TRUE call-center. There are two classification tasks:\n",
        "1. Action Classification: Identify which action the customer would like to take (e.g. enquire, report, cancle)\n",
        "2. Object Classification: Identify which object the customer is referring to (e.g. payment, truemoney, internet, roaming) \n",
        "\n",
        "In this homework, you are asked to do the following tasks:\n",
        "1. Data Cleaning\n",
        "2. Preprocessing data for keras\n",
        "3. Build and evaluate a model for \"action\" classification\n",
        "4. Build and evaluate a model for \"object\" classification\n",
        "5. Build and evaluate a multi-task model that does both \"action\" and \"object\" classifications in one-go \n",
        "\n",
        "\n",
        "Note: we have removed phone numbers from the dataset for privacy purposes. "
      ]
    },
    {
      "cell_type": "code",
      "metadata": {
        "id": "kHqkFSyaNvOt"
      },
      "source": [
        "!wget --no-check-certificate https://www.dropbox.com/s/37u83g55p19kvrl/clean-phone-data-for-students.csv"
      ],
      "execution_count": null,
      "outputs": []
    },
    {
      "cell_type": "markdown",
      "metadata": {
        "id": "2YprqbOPMc5a"
      },
      "source": [
        "## Import Libs"
      ]
    },
    {
      "cell_type": "code",
      "metadata": {
        "id": "heICP79cMc5e"
      },
      "source": [
        "%matplotlib inline\n",
        "import pandas\n",
        "import sklearn\n",
        "import numpy as np\n",
        "from IPython.display import display\n",
        "\n",
        "import matplotlib.pyplot as plt"
      ],
      "execution_count": null,
      "outputs": []
    },
    {
      "cell_type": "markdown",
      "metadata": {
        "id": "GPaUf4PLMc5k"
      },
      "source": [
        "## Loading data\n",
        "First, we load the data from disk into a Dataframe.\n",
        "\n",
        "A Dataframe is essentially a table, or 2D-array/Matrix with a name for each column."
      ]
    },
    {
      "cell_type": "code",
      "metadata": {
        "id": "JhZ2eBAWMc5l"
      },
      "source": [
        "data_df = pandas.read_csv('clean-phone-data-for-students.csv')"
      ],
      "execution_count": null,
      "outputs": []
    },
    {
      "cell_type": "markdown",
      "metadata": {
        "id": "cje3yruTMc5p"
      },
      "source": [
        "Let's preview the data."
      ]
    },
    {
      "cell_type": "code",
      "metadata": {
        "id": "aNqRNz1PMc5q"
      },
      "source": [
        "# Show the top 5 rows\n",
        "display(data_df.head())\n",
        "# Summarize the data\n",
        "data_df.describe()"
      ],
      "execution_count": null,
      "outputs": []
    },
    {
      "cell_type": "markdown",
      "metadata": {
        "id": "jGd8BNvMMc5y"
      },
      "source": [
        "## Data cleaning\n",
        "\n",
        "We call the DataFrame.describe() again.\n",
        "Notice that there are 33 unique labels/classes for object and 10 unique labels for action that the model will try to predict.\n",
        "But there are unwanted duplications e.g. Idd,idd,lotalty_card,Lotalty_card\n",
        "\n",
        "Also note that, there are 13389 unqiue sentence utterances from 16175 utterances. You have to clean that too!\n",
        "\n",
        "## #TODO 1: \n",
        "You will have to remove unwanted label duplications as well as duplications in text inputs. \n",
        "Also, you will have to trim out unwanted whitespaces from the text inputs. \n",
        "This shouldn't be too hard, as you have already seen it in the demo.\n",
        "\n"
      ]
    },
    {
      "cell_type": "code",
      "metadata": {
        "id": "V0bGLblVMc5z"
      },
      "source": [
        "display(data_df.describe())\n",
        "display(data_df.Object.unique())\n",
        "display(data_df.Action.unique())"
      ],
      "execution_count": null,
      "outputs": []
    },
    {
      "cell_type": "code",
      "metadata": {
        "id": "19onNNUZMc54"
      },
      "source": [
        "# TODO1: Data cleaning"
      ],
      "execution_count": null,
      "outputs": []
    },
    {
      "cell_type": "markdown",
      "metadata": {
        "id": "7BZZYPuIMc59"
      },
      "source": [
        "## #TODO 2: Preprocessing data for Keras\n",
        "You will be using Tensorflow 2 keras in this assignment. Please show us how you prepare your data for keras.\n",
        "Don't forget to split data into train and test sets (+ validation set if you want)"
      ]
    },
    {
      "cell_type": "code",
      "metadata": {
        "id": "SycOJ6cDMc5_"
      },
      "source": [
        "# TODO2: Preprocessing data for Keras"
      ],
      "execution_count": null,
      "outputs": []
    },
    {
      "cell_type": "markdown",
      "metadata": {
        "id": "-tXZiLZ4Mc6E"
      },
      "source": [
        "## #TODO 3: Build and evaluate a model for \"action\" classification\n"
      ]
    },
    {
      "cell_type": "code",
      "metadata": {
        "id": "sYXnkcY7Mc6F"
      },
      "source": [
        "#TODO 3: Build and evaluate a model for \"action\" classification"
      ],
      "execution_count": null,
      "outputs": []
    },
    {
      "cell_type": "markdown",
      "metadata": {
        "id": "JLRUK0Q8Mc6J"
      },
      "source": [
        "## #TODO 4: Build and evaluate a model for \"object\" classification\n",
        "\n"
      ]
    },
    {
      "cell_type": "code",
      "metadata": {
        "id": "9evsrIiKMc6K"
      },
      "source": [
        "#TODO 4: Build and evaluate a model for \"object\" classification"
      ],
      "execution_count": null,
      "outputs": []
    },
    {
      "cell_type": "markdown",
      "metadata": {
        "id": "bsAxmXfGMc6N"
      },
      "source": [
        "## #TODO 5: Build and evaluate a multi-task model that does both \"action\" and \"object\" classifications in one-go \n",
        "\n",
        "This can be a bit tricky, if you are not familiar with the Keras functional API. PLEASE READ these webpages(https://www.tensorflow.org/guide/keras/functional, https://keras.io/getting-started/functional-api-guide/) before you start this task.   \n",
        "\n",
        "Your model will have 2 separate output layers one for action classification task and another for object classification task. \n",
        "\n",
        "This is a rough sketch of what your model might look like:\n",
        "![image](https://raw.githubusercontent.com/ekapolc/nlp_course/master/HW5/multitask_sketch.png)"
      ]
    },
    {
      "cell_type": "code",
      "metadata": {
        "id": "MZX6wx49Mc6P"
      },
      "source": [
        "#TODO 5: Build and evaluate a multi-task model that does both \"action\" and \"object\" classifications in one-go"
      ],
      "execution_count": null,
      "outputs": []
    }
  ]
}