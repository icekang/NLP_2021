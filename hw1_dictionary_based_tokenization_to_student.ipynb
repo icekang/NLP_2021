{
  "nbformat": 4,
  "nbformat_minor": 0,
  "metadata": {
    "kernelspec": {
      "display_name": "Python 3",
      "language": "python",
      "name": "python3"
    },
    "language_info": {
      "codemirror_mode": {
        "name": "ipython",
        "version": 3
      },
      "file_extension": ".py",
      "mimetype": "text/x-python",
      "name": "python",
      "nbconvert_exporter": "python",
      "pygments_lexer": "ipython3",
      "version": "3.6.4"
    },
    "colab": {
      "name": "hw1_dictionary-based_tokenization_to_student.ipynb",
      "provenance": [],
      "collapsed_sections": [],
      "toc_visible": true,
      "include_colab_link": true
    }
  },
  "cells": [
    {
      "cell_type": "markdown",
      "metadata": {
        "id": "view-in-github",
        "colab_type": "text"
      },
      "source": [
        "<a href=\"https://colab.research.google.com/github/icekang/NLP_2021/blob/main/hw1_dictionary_based_tokenization_to_student.ipynb\" target=\"_parent\"><img src=\"https://colab.research.google.com/assets/colab-badge.svg\" alt=\"Open In Colab\"/></a>"
      ]
    },
    {
      "cell_type": "markdown",
      "metadata": {
        "id": "7EdbVSmE87En"
      },
      "source": [
        "# HW1: Dictionary-based Tokenization \n"
      ]
    },
    {
      "cell_type": "markdown",
      "metadata": {
        "id": "pJJLm1Ub87Et"
      },
      "source": [
        "In this exercise, you are to implement a dictionary-based word segmentation algorithm. There are two Python functions that you need to complete: \n",
        "<br>\n",
        "* maximal_matching\n",
        "* backtrack\n",
        "</br>\n",
        "\n",
        "Also, you have to find how to use word_tokenize() in PythaiNLP along with customer_dict by yourselves."
      ]
    },
    {
      "cell_type": "markdown",
      "metadata": {
        "id": "DF5Pme7CK3YF"
      },
      "source": [
        "## Part1) Your Maximal Matching with Your Dictionary"
      ]
    },
    {
      "cell_type": "markdown",
      "metadata": {
        "id": "xzs0R06q87Et"
      },
      "source": [
        "### Create a toy dictionary to test the algorithm\n",
        "\n",
        "This is based on the example shown in the lecture. \n",
        "You will tokenize the following text string: \"ไปหามเหสี!\"\n",
        "The toy dictoionary provided in this exercise includes all the charaters, syllables, and words that appear that the text string."
      ]
    },
    {
      "cell_type": "code",
      "metadata": {
        "id": "pq3W4p3z87Ev"
      },
      "source": [
        "thai_vocab = [\"ไ\",\"ป\",\"ห\",\"า\",\"ม\",\"เ\",\"ห\",\"ส\",\"ี\",\"ไป\",\"หา\",\"หาม\",\"เห\",\"สี\",\"มเหสี\",\"!\"]"
      ],
      "execution_count": 31,
      "outputs": []
    },
    {
      "cell_type": "markdown",
      "metadata": {
        "id": "ZornooGF87Ew"
      },
      "source": [
        "### Maximal matching \n",
        "Complete the maximal matching  function below to tokenize the input text\n"
      ]
    },
    {
      "cell_type": "code",
      "metadata": {
        "id": "Ao4d2E3387Ew"
      },
      "source": [
        "import numpy as np\n",
        "\n",
        "def validate(word):\n",
        "  global thai_vocab\n",
        "  if len(word) == 1 or word in thai_vocab:\n",
        "    return True\n",
        "  return word in thai_vocab\n",
        "\n",
        "\n",
        "def maximal_matching(c):\n",
        "    #Initialize an empty 2D list\n",
        "    d = np.full((len(c)+1, len(c)+1), np.inf)\n",
        "    d[0][0] = 0\n",
        "    ####FILL CODE HERE####\n",
        "    for i in range(1,len(d)): # row\n",
        "      for j in range(1,len(d)): # col\n",
        "        if i > j:\n",
        "          continue\n",
        "        word = c[i-1:j]\n",
        "        if validate(word):\n",
        "          d[i][j] = d[i][i]\n",
        "          d[i][j] = min(1 + np.min(d[:,j-1]), d[i][j])\n",
        "    ######################\n",
        "    return d[1:,1:]"
      ],
      "execution_count": 39,
      "outputs": []
    },
    {
      "cell_type": "code",
      "metadata": {
        "colab": {
          "base_uri": "https://localhost:8080/"
        },
        "id": "Nzp1akw54RPC",
        "outputId": "1022fb6f-9273-4b8f-a451-067b3e6c21f7"
      },
      "source": [
        "d = maximal_matching(\"ไปหามเหสี!\")\r\n",
        "d"
      ],
      "execution_count": 40,
      "outputs": [
        {
          "output_type": "execute_result",
          "data": {
            "text/plain": [
              "array([[ 1.,  1., inf, inf, inf, inf, inf, inf, inf, inf],\n",
              "       [inf,  2., inf, inf, inf, inf, inf, inf, inf, inf],\n",
              "       [inf, inf,  2.,  2.,  2., inf, inf, inf, inf, inf],\n",
              "       [inf, inf, inf,  3., inf, inf, inf, inf, inf, inf],\n",
              "       [inf, inf, inf, inf,  3., inf, inf, inf,  3., inf],\n",
              "       [inf, inf, inf, inf, inf,  3.,  3., inf, inf, inf],\n",
              "       [inf, inf, inf, inf, inf, inf,  4., inf, inf, inf],\n",
              "       [inf, inf, inf, inf, inf, inf, inf,  4.,  4., inf],\n",
              "       [inf, inf, inf, inf, inf, inf, inf, inf,  5., inf],\n",
              "       [inf, inf, inf, inf, inf, inf, inf, inf, inf,  4.]])"
            ]
          },
          "metadata": {
            "tags": []
          },
          "execution_count": 40
        }
      ]
    },
    {
      "cell_type": "markdown",
      "metadata": {
        "id": "w7vBXfjM87Ew"
      },
      "source": [
        "### Backtracking\n",
        "Complete the backtracking function below to find the tokenzied words.\n",
        "It should return a list containing a pair of the beginning position and the ending position of each word.\n",
        "In this example, it should return: \n",
        "<br>\n",
        "[(0, 1),(2, 3),(4, 8),(9, 9)]\n",
        "<br> \n",
        "#### Each pair contains the position of each word as follows:\n",
        "(0, 1) ไป\n",
        "<br>\n",
        "(2, 3) หา\n",
        "<br>\n",
        "(4, 8) มเหสี\n",
        "<br>\n",
        "(9, 9) !\n"
      ]
    },
    {
      "cell_type": "code",
      "metadata": {
        "id": "SxNFf1IE87Ex"
      },
      "source": [
        "def backtrack(d):\n",
        "    eow = len(d)-1 # End of Word position\n",
        "    word_pos = [] # Word position\n",
        "    ####FILL CODE HERE####\n",
        "    while eow >= 0:\n",
        "      min_idx = np.argmin(d[:,eow])\n",
        "      word_pos.append((min_idx,eow))\n",
        "      eow = min_idx - 1\n",
        "    ######################\n",
        "    word_pos.reverse()\n",
        "    return word_pos\n"
      ],
      "execution_count": 41,
      "outputs": []
    },
    {
      "cell_type": "code",
      "metadata": {
        "colab": {
          "base_uri": "https://localhost:8080/"
        },
        "id": "GRglZbfBNCg4",
        "outputId": "1986a2f8-1476-4701-85d4-4487b593cf8d"
      },
      "source": [
        "backtrack(d)"
      ],
      "execution_count": 42,
      "outputs": [
        {
          "output_type": "execute_result",
          "data": {
            "text/plain": [
              "[(0, 1), (2, 3), (4, 8), (9, 9)]"
            ]
          },
          "metadata": {
            "tags": []
          },
          "execution_count": 42
        }
      ]
    },
    {
      "cell_type": "markdown",
      "metadata": {
        "id": "q0MJkKsh87Ex"
      },
      "source": [
        "### Test your maximal matching algorithm on a toy dictionary\n",
        "\n",
        "Expected output:\n",
        "\n",
        "[1, 1, inf, inf, inf, inf, inf, inf, inf, inf] ไ\n",
        "<br>\n",
        "[None, 2, inf, inf, inf, inf, inf, inf, inf, inf] ป\n",
        "<br>\n",
        "[None, None, 2, 2, 2, inf, inf, inf, inf, inf] ห\n",
        "<br>\n",
        "[None, None, None, 3, inf, inf, inf, inf, inf, inf] า\n",
        "<br>\n",
        "[None, None, None, None, 3, inf, inf, inf, 3, inf] ม\n",
        "<br>\n",
        "[None, None, None, None, None, 3, 3, inf, inf, inf] เ\n",
        "<br>\n",
        "[None, None, None, None, None, None, 4, inf, inf, inf] ห\n",
        "<br>\n",
        "[None, None, None, None, None, None, None, 4, 4, inf] ส\n",
        "<br>\n",
        "[None, None, None, None, None, None, None, None, 5, inf] ี\n",
        "<br>\n",
        "[None, None, None, None, None, None, None, None, None, 4] !\n",
        "<br>"
      ]
    },
    {
      "cell_type": "code",
      "metadata": {
        "id": "tsmVQIKS87Ey",
        "colab": {
          "base_uri": "https://localhost:8080/"
        },
        "outputId": "886cddba-5b3f-4f83-a6c2-1e0c3b8ee088"
      },
      "source": [
        "input_text = \"ไปหามเหสี!\"\n",
        "out = maximal_matching(input_text)\n",
        "for i in range(len(out)):\n",
        "    print(out[i],input_text[i])"
      ],
      "execution_count": 43,
      "outputs": [
        {
          "output_type": "stream",
          "text": [
            "[ 1.  1. inf inf inf inf inf inf inf inf] ไ\n",
            "[inf  2. inf inf inf inf inf inf inf inf] ป\n",
            "[inf inf  2.  2.  2. inf inf inf inf inf] ห\n",
            "[inf inf inf  3. inf inf inf inf inf inf] า\n",
            "[inf inf inf inf  3. inf inf inf  3. inf] ม\n",
            "[inf inf inf inf inf  3.  3. inf inf inf] เ\n",
            "[inf inf inf inf inf inf  4. inf inf inf] ห\n",
            "[inf inf inf inf inf inf inf  4.  4. inf] ส\n",
            "[inf inf inf inf inf inf inf inf  5. inf] ี\n",
            "[inf inf inf inf inf inf inf inf inf  4.] !\n"
          ],
          "name": "stdout"
        }
      ]
    },
    {
      "cell_type": "markdown",
      "metadata": {
        "id": "IVhCMM4d87Ey"
      },
      "source": [
        "### Test your backtracking algorithm on a toy dictionary\n",
        "Expected output:\n",
        "<br>\n",
        "ไป|หา|มเหสี|!"
      ]
    },
    {
      "cell_type": "code",
      "metadata": {
        "id": "6Hurbm1f87Ey",
        "colab": {
          "base_uri": "https://localhost:8080/"
        },
        "outputId": "6d793a80-b001-4a02-e5d3-d6c5dfff9fda"
      },
      "source": [
        "def print_tokenized_text(d, input_text):\n",
        "    tokenized_text=[]\n",
        "    for pos in backtrack(d):\n",
        "        #print(pos)\n",
        "        tokenized_text.append(input_text[pos[0]:pos[1]+1])\n",
        "\n",
        "    print(\"|\".join(tokenized_text))\n",
        "    \n",
        "print_tokenized_text(out,input_text)"
      ],
      "execution_count": 44,
      "outputs": [
        {
          "output_type": "stream",
          "text": [
            "ไป|หา|มเหสี|!\n"
          ],
          "name": "stdout"
        }
      ]
    },
    {
      "cell_type": "markdown",
      "metadata": {
        "id": "57rP9cTU87Ez"
      },
      "source": [
        "## Part2) Your Maximal Matching with Real Dictionary"
      ]
    },
    {
      "cell_type": "markdown",
      "metadata": {
        "id": "V306h7AG87Ez"
      },
      "source": [
        "For UNIX-based OS users, the following cell will download a dictionary (it's just a list of thai words). Alternatively, you can download it from this link: https://raw.githubusercontent.com/PyThaiNLP/pythainlp/dev/pythainlp/corpus/words_th.txt"
      ]
    },
    {
      "cell_type": "code",
      "metadata": {
        "scrolled": true,
        "id": "EFVR9LO187Ez",
        "colab": {
          "base_uri": "https://localhost:8080/"
        },
        "outputId": "b0c7f1b9-f847-4510-e9fd-6f5d0afa3b0b"
      },
      "source": [
        "!wget https://raw.githubusercontent.com/PyThaiNLP/pythainlp/dev/pythainlp/corpus/words_th.txt"
      ],
      "execution_count": 45,
      "outputs": [
        {
          "output_type": "stream",
          "text": [
            "--2021-01-18 06:45:52--  https://raw.githubusercontent.com/PyThaiNLP/pythainlp/dev/pythainlp/corpus/words_th.txt\n",
            "Resolving raw.githubusercontent.com (raw.githubusercontent.com)... 151.101.0.133, 151.101.64.133, 151.101.128.133, ...\n",
            "Connecting to raw.githubusercontent.com (raw.githubusercontent.com)|151.101.0.133|:443... connected.\n",
            "HTTP request sent, awaiting response... 200 OK\n",
            "Length: 1521600 (1.5M) [text/plain]\n",
            "Saving to: ‘words_th.txt.1’\n",
            "\n",
            "words_th.txt.1      100%[===================>]   1.45M  --.-KB/s    in 0.1s    \n",
            "\n",
            "2021-01-18 06:45:52 (14.8 MB/s) - ‘words_th.txt.1’ saved [1521600/1521600]\n",
            "\n"
          ],
          "name": "stdout"
        }
      ]
    },
    {
      "cell_type": "code",
      "metadata": {
        "id": "nqIQzVgE87E0",
        "colab": {
          "base_uri": "https://localhost:8080/"
        },
        "outputId": "fa793d1e-43f2-4c27-da86-4690bfd0af04"
      },
      "source": [
        "with open(\"words_th.txt\",encoding='utf-8-sig') as f:\n",
        "    thai_vocab = f.read().splitlines() \n",
        "print(\"Vocab size:\", len(thai_vocab))\n",
        "print(thai_vocab[:10])\n",
        "\n",
        "thai_vocab.extend([\"ๆ\",\"!\"])"
      ],
      "execution_count": 46,
      "outputs": [
        {
          "output_type": "stream",
          "text": [
            "Vocab size: 62143\n",
            "['ก ข ไม่กระดิกหู', 'ก.', 'ก.ค.', 'ก.ต.', 'ก.ป.ส.', 'ก.พ.', 'ก.พ.ด.', 'ก.ม.', 'ก.ย.', 'ก.ย']\n"
          ],
          "name": "stdout"
        }
      ]
    },
    {
      "cell_type": "markdown",
      "metadata": {
        "id": "Kpjwzw1w87E0"
      },
      "source": [
        "### The output of your maximal matching algoithm on a new dictionary\n",
        "Expected output:\n",
        "<br>\n",
        "[1, 1, 100000, 1, 100000, 100000, 100000, 100000, 100000] ไ\n",
        "<br>\n",
        "[None, 2, 100000, 100000, 100000, 100000, 100000, 100000, 100000] ป\n",
        "<br>\n",
        "[None, None, 2, 2, 2, 100000, 100000, 100000, 100000] ห\n",
        "<br>\n",
        "[None, None, None, 100000, 100000, 100000, 100000, 100000, 100000] า\n",
        "<br>\n",
        "[None, None, None, None, 2, 100000, 100000, 100000, 2] ม\n",
        "<br>\n",
        "[None, None, None, None, None, 100000, 3, 100000, 100000] เ\n",
        "<br>\n",
        "[None, None, None, None, None, None, 100001, 100000, 100000] ห\n",
        "<br>\n",
        "[None, None, None, None, None, None, None, 4, 4] ส\n",
        "<br>\n",
        "[None, None, None, None, None, None, None, None, None] ี"
      ]
    },
    {
      "cell_type": "code",
      "metadata": {
        "id": "lYD5ChIS87E0",
        "colab": {
          "base_uri": "https://localhost:8080/"
        },
        "outputId": "baf332a6-57c2-48b8-e3be-ecb08e38daa6"
      },
      "source": [
        "input_text = \"ไปหามเหสี\"\n",
        "out = maximal_matching(input_text)\n",
        "for i in range(len(out)):\n",
        "    print(out[i],input_text[i])"
      ],
      "execution_count": 47,
      "outputs": [
        {
          "output_type": "stream",
          "text": [
            "[ 1.  1. inf  1. inf inf inf inf inf] ไ\n",
            "[inf  2. inf inf inf inf inf inf inf] ป\n",
            "[inf inf  2.  2.  2. inf inf inf inf] ห\n",
            "[inf inf inf  3. inf inf inf inf inf] า\n",
            "[inf inf inf inf  2. inf inf inf  2.] ม\n",
            "[inf inf inf inf inf  3.  3. inf inf] เ\n",
            "[inf inf inf inf inf inf  4. inf inf] ห\n",
            "[inf inf inf inf inf inf inf  4.  4.] ส\n",
            "[inf inf inf inf inf inf inf inf  5.] ี\n"
          ],
          "name": "stdout"
        }
      ]
    },
    {
      "cell_type": "markdown",
      "metadata": {
        "id": "BSqLuK7G87E0"
      },
      "source": [
        "### Expected tokenized text\n",
        "ไปหา|มเหสี"
      ]
    },
    {
      "cell_type": "code",
      "metadata": {
        "id": "TI077jmy87E0",
        "colab": {
          "base_uri": "https://localhost:8080/"
        },
        "outputId": "0fbce43d-0489-4174-9a69-f25cf65e8e3e"
      },
      "source": [
        "# print('ไปหา' in thai_vocab)\n",
        "# print('มเหสี' in thai_vocab)\n",
        "# print('ปปป' in thai_vocab)\n",
        "print_tokenized_text(out,input_text)"
      ],
      "execution_count": 48,
      "outputs": [
        {
          "output_type": "stream",
          "text": [
            "ไปหา|มเหสี\n"
          ],
          "name": "stdout"
        }
      ]
    },
    {
      "cell_type": "markdown",
      "metadata": {
        "id": "VLGgO8PrLSz6"
      },
      "source": [
        "## Part3) Maximal Matching from PythaiNLP"
      ]
    },
    {
      "cell_type": "markdown",
      "metadata": {
        "id": "LrZrzQoXLeUX"
      },
      "source": [
        "### Default dictionary\n",
        "\n",
        "Study word_tokenize() from PythaiNLP in the link below.\n",
        "\n",
        "https://thainlp.org/pythainlp/docs/2.0/api/tokenize.html"
      ]
    },
    {
      "cell_type": "code",
      "metadata": {
        "id": "yXxPBOcNLXfm",
        "colab": {
          "base_uri": "https://localhost:8080/"
        },
        "outputId": "9d984bf7-dd98-49c7-a6b1-35e2721f54c6"
      },
      "source": [
        "!pip install pythainlp\n",
        "!pip install marisa_trie"
      ],
      "execution_count": 49,
      "outputs": [
        {
          "output_type": "stream",
          "text": [
            "Collecting pythainlp\n",
            "\u001b[?25l  Downloading https://files.pythonhosted.org/packages/c1/09/1215cb6f6ef0cfc9dbb427a961fda8a47c111955f782f659ca2d38c79adc/pythainlp-2.2.6-py3-none-any.whl (10.6MB)\n",
            "\u001b[K     |████████████████████████████████| 10.6MB 3.9MB/s \n",
            "\u001b[?25hRequirement already satisfied: requests>=2.22.0 in /usr/local/lib/python3.6/dist-packages (from pythainlp) (2.23.0)\n",
            "Collecting python-crfsuite>=0.9.6\n",
            "\u001b[?25l  Downloading https://files.pythonhosted.org/packages/95/99/869dde6dbf3e0d07a013c8eebfb0a3d30776334e0097f8432b631a9a3a19/python_crfsuite-0.9.7-cp36-cp36m-manylinux1_x86_64.whl (743kB)\n",
            "\u001b[K     |████████████████████████████████| 747kB 38.7MB/s \n",
            "\u001b[?25hCollecting tinydb>=3.0\n",
            "  Downloading https://files.pythonhosted.org/packages/e5/7e/85ee672ee60affd5b4461efa19f260cf7575f36b94fbd1f0825742639910/tinydb-4.3.0-py3-none-any.whl\n",
            "Requirement already satisfied: idna<3,>=2.5 in /usr/local/lib/python3.6/dist-packages (from requests>=2.22.0->pythainlp) (2.10)\n",
            "Requirement already satisfied: chardet<4,>=3.0.2 in /usr/local/lib/python3.6/dist-packages (from requests>=2.22.0->pythainlp) (3.0.4)\n",
            "Requirement already satisfied: certifi>=2017.4.17 in /usr/local/lib/python3.6/dist-packages (from requests>=2.22.0->pythainlp) (2020.12.5)\n",
            "Requirement already satisfied: urllib3!=1.25.0,!=1.25.1,<1.26,>=1.21.1 in /usr/local/lib/python3.6/dist-packages (from requests>=2.22.0->pythainlp) (1.24.3)\n",
            "Installing collected packages: python-crfsuite, tinydb, pythainlp\n",
            "Successfully installed pythainlp-2.2.6 python-crfsuite-0.9.7 tinydb-4.3.0\n",
            "Collecting marisa_trie\n",
            "\u001b[?25l  Downloading https://files.pythonhosted.org/packages/20/95/d23071d0992dabcb61c948fb118a90683193befc88c23e745b050a29e7db/marisa-trie-0.7.5.tar.gz (270kB)\n",
            "\u001b[K     |████████████████████████████████| 276kB 4.2MB/s \n",
            "\u001b[?25hBuilding wheels for collected packages: marisa-trie\n",
            "  Building wheel for marisa-trie (setup.py) ... \u001b[?25l\u001b[?25hdone\n",
            "  Created wheel for marisa-trie: filename=marisa_trie-0.7.5-cp36-cp36m-linux_x86_64.whl size=862205 sha256=5291fd6d227940e4780d7eafb3cdd1378920b3bed45e8011fcd02255b9b8a090\n",
            "  Stored in directory: /root/.cache/pip/wheels/45/24/79/022624fc914f0e559fe8a1141aaff1f9df810905a13fc75d57\n",
            "Successfully built marisa-trie\n",
            "Installing collected packages: marisa-trie\n",
            "Successfully installed marisa-trie-0.7.5\n"
          ],
          "name": "stdout"
        }
      ]
    },
    {
      "cell_type": "code",
      "metadata": {
        "id": "goQE5gFUL4KO",
        "colab": {
          "base_uri": "https://localhost:8080/"
        },
        "outputId": "077c4e9b-0dec-409a-d4a5-b85d8b9105c7"
      },
      "source": [
        "from pythainlp.tokenize import word_tokenize\n",
        "text='นัดกินกันตอนไหนก็ได้ที่สามย่านมิตรทาวน์'\n",
        "\n",
        "####FILL CODE HERE####\n",
        "word_tokenize(text, thai_vocab)\n",
        "######################"
      ],
      "execution_count": 50,
      "outputs": [
        {
          "output_type": "execute_result",
          "data": {
            "text/plain": [
              "['นัด', 'กินกัน', 'ตอน', 'ไหน', 'ก็', 'ได้ที่', 'สามย่าน', 'มิตร', 'ทาวน์']"
            ]
          },
          "metadata": {
            "tags": []
          },
          "execution_count": 50
        }
      ]
    },
    {
      "cell_type": "markdown",
      "metadata": {
        "id": "2SlX5cEBMHPd"
      },
      "source": [
        "### Custom dictionary\n",
        "\n",
        "Add 'สามย่านมิตรทาวน์' into dictionary and then tokenize again"
      ]
    },
    {
      "cell_type": "code",
      "metadata": {
        "id": "b4V9TqFaMPAj",
        "colab": {
          "base_uri": "https://localhost:8080/"
        },
        "outputId": "415e43a2-ec86-4c10-fb0f-71882f3afc68"
      },
      "source": [
        "####FILL CODE HERE####\n",
        "from pythainlp.corpus.common import thai_words\n",
        "from pythainlp.util.trie import dict_trie\n",
        "\n",
        "custom_dict = set(thai_words())\n",
        "custom_dict.add('สามย่านมิตรทาวน์')\n",
        "trie = dict_trie(dict_source=custom_dict)\n",
        "word_tokenize(text, custom_dict=trie)\n",
        "######################"
      ],
      "execution_count": 53,
      "outputs": [
        {
          "output_type": "execute_result",
          "data": {
            "text/plain": [
              "['นัด', 'กินกัน', 'ตอน', 'ไหน', 'ก็', 'ได้ที่', 'สามย่านมิตรทาวน์']"
            ]
          },
          "metadata": {
            "tags": []
          },
          "execution_count": 53
        }
      ]
    },
    {
      "cell_type": "code",
      "metadata": {
        "id": "V8a1XymBQoqP"
      },
      "source": [
        ""
      ],
      "execution_count": null,
      "outputs": []
    }
  ]
}