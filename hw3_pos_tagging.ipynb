{
  "nbformat": 4,
  "nbformat_minor": 0,
  "metadata": {
    "colab": {
      "name": "hw3_pos_tagging.ipynb",
      "provenance": [],
      "collapsed_sections": [],
      "toc_visible": true,
      "machine_shape": "hm",
      "include_colab_link": true
    },
    "kernelspec": {
      "display_name": "Python 3",
      "language": "python",
      "name": "python3"
    },
    "language_info": {
      "codemirror_mode": {
        "name": "ipython",
        "version": 3
      },
      "file_extension": ".py",
      "mimetype": "text/x-python",
      "name": "python",
      "nbconvert_exporter": "python",
      "pygments_lexer": "ipython3",
      "version": "3.7.3"
    },
    "accelerator": "GPU"
  },
  "cells": [
    {
      "cell_type": "markdown",
      "metadata": {
        "id": "view-in-github",
        "colab_type": "text"
      },
      "source": [
        "<a href=\"https://colab.research.google.com/github/icekang/NLP_2021/blob/main/hw3_pos_tagging.ipynb\" target=\"_parent\"><img src=\"https://colab.research.google.com/assets/colab-badge.svg\" alt=\"Open In Colab\"/></a>"
      ]
    },
    {
      "cell_type": "markdown",
      "metadata": {
        "id": "SpCKO19dhHPq"
      },
      "source": [
        "# HW 3 - Neural POS Tagger\n",
        "\n",
        "In this exercise, you are going to build a set of deep learning models on part-of-speech (POS) tagging using Tensorflow 2. Tensorflow is a deep learning framwork developed by Google to provide an easier way to use standard layers and networks.\n",
        "\n",
        "To complete this exercise, you will need to build deep learning models for POS tagging in Thai using NECTEC's ORCHID corpus. You will build one model for each of the following type:\n",
        "\n",
        "- Neural POS Tagging with Word Embedding using Fixed / non-Fixed Pretrained weights\n",
        "- Neural POS Tagging with Viterbi / Marginal CRF\n",
        "\n",
        "Pretrained word embeddding are already given for you to use (albeit, a very bad one).\n",
        "\n",
        "We also provide the code for data cleaning, preprocessing and some starter code for tensorflow 2 in this notebook but feel free to modify those parts to suit your needs. Feel free to use additional libraries (e.g. scikit-learn) as long as you have a model for each type mentioned above.\n",
        "\n",
        "### Don't forget to change hardware accelrator to GPU in runtime on Google Colab ###"
      ]
    },
    {
      "cell_type": "markdown",
      "metadata": {
        "id": "Qx0YbM_8hHPt"
      },
      "source": [
        "## 1. Setup and Preprocessing"
      ]
    },
    {
      "cell_type": "markdown",
      "metadata": {
        "id": "yF3lPNNkhHPu"
      },
      "source": [
        "We use POS data from [ORCHID corpus](https://www.nectec.or.th/corpus/index.php?league=pm), which is a POS corpus for Thai language.\n",
        "A method used to read the corpus into a list of sentences with (word, POS) pairs have been implemented already. The example usage has shown below.\n",
        "We also create a word vector for unknown word by random."
      ]
    },
    {
      "cell_type": "code",
      "metadata": {
        "id": "GS6O5yT6feRd"
      },
      "source": [
        "%tensorflow_version 2.x"
      ],
      "execution_count": 1,
      "outputs": []
    },
    {
      "cell_type": "code",
      "metadata": {
        "colab": {
          "base_uri": "https://localhost:8080/"
        },
        "id": "58LvFz30zumq",
        "outputId": "3740aec8-528c-4121-bf8c-18da52d30f4e"
      },
      "source": [
        "!wget https://www.dropbox.com/s/tuvrbsby4a5axe0/resources.zip\n",
        "!unzip resources.zip"
      ],
      "execution_count": 2,
      "outputs": [
        {
          "output_type": "stream",
          "text": [
            "--2021-02-06 16:48:08--  https://www.dropbox.com/s/tuvrbsby4a5axe0/resources.zip\n",
            "Resolving www.dropbox.com (www.dropbox.com)... 162.125.82.18, 2620:100:6032:18::a27d:5212\n",
            "Connecting to www.dropbox.com (www.dropbox.com)|162.125.82.18|:443... connected.\n",
            "HTTP request sent, awaiting response... 301 Moved Permanently\n",
            "Location: /s/raw/tuvrbsby4a5axe0/resources.zip [following]\n",
            "--2021-02-06 16:48:09--  https://www.dropbox.com/s/raw/tuvrbsby4a5axe0/resources.zip\n",
            "Reusing existing connection to www.dropbox.com:443.\n",
            "HTTP request sent, awaiting response... 302 Found\n",
            "Location: https://uc117d3e918940fbfaf89cd98282.dl.dropboxusercontent.com/cd/0/inline/BIZfU2dMXuqGCaSJrokXyFO5wOohZtGMiXsB0BbElor9lCRzBvkqXk8tnpLGLP1TPkYMmqRsy9MfeeD1KbzB93VP5Iw704KAS1d7by_M35D8Fg/file# [following]\n",
            "--2021-02-06 16:48:09--  https://uc117d3e918940fbfaf89cd98282.dl.dropboxusercontent.com/cd/0/inline/BIZfU2dMXuqGCaSJrokXyFO5wOohZtGMiXsB0BbElor9lCRzBvkqXk8tnpLGLP1TPkYMmqRsy9MfeeD1KbzB93VP5Iw704KAS1d7by_M35D8Fg/file\n",
            "Resolving uc117d3e918940fbfaf89cd98282.dl.dropboxusercontent.com (uc117d3e918940fbfaf89cd98282.dl.dropboxusercontent.com)... 162.125.82.15, 2620:100:6032:15::a27d:520f\n",
            "Connecting to uc117d3e918940fbfaf89cd98282.dl.dropboxusercontent.com (uc117d3e918940fbfaf89cd98282.dl.dropboxusercontent.com)|162.125.82.15|:443... connected.\n",
            "HTTP request sent, awaiting response... 302 Found\n",
            "Location: /cd/0/inline2/BIYjrdyM8Yzqs99dw-N1T6dZzZiHnTZRNNL3abUOV9thVhHuXGHUENtlGzAn5VW9XXVimExuIYdyWWmLy5znKE1lSr6_dy-p-dqQOcgxTqkDlEvdb5lG4xir2tIPNJBCcta9T6Z7Qq-g46Fmc2Dph325Ax5EspG17vphajMSPLQLZNH2R_2R6IF0JauNQwfTbiJncQoc3xJOooYJ46haCGxd4_a2A1u7g7FN_zlNOAYs_DThEr8npxhFxevXy-hNffV9ECsEfCuHRrStx5Fw1pgNtw7FqP4ypWSc4w0JujOMGHcCbwoQU2uUmC4y4OnieHtdpgS44RGvK77HESpAwJnk/file [following]\n",
            "--2021-02-06 16:48:10--  https://uc117d3e918940fbfaf89cd98282.dl.dropboxusercontent.com/cd/0/inline2/BIYjrdyM8Yzqs99dw-N1T6dZzZiHnTZRNNL3abUOV9thVhHuXGHUENtlGzAn5VW9XXVimExuIYdyWWmLy5znKE1lSr6_dy-p-dqQOcgxTqkDlEvdb5lG4xir2tIPNJBCcta9T6Z7Qq-g46Fmc2Dph325Ax5EspG17vphajMSPLQLZNH2R_2R6IF0JauNQwfTbiJncQoc3xJOooYJ46haCGxd4_a2A1u7g7FN_zlNOAYs_DThEr8npxhFxevXy-hNffV9ECsEfCuHRrStx5Fw1pgNtw7FqP4ypWSc4w0JujOMGHcCbwoQU2uUmC4y4OnieHtdpgS44RGvK77HESpAwJnk/file\n",
            "Reusing existing connection to uc117d3e918940fbfaf89cd98282.dl.dropboxusercontent.com:443.\n",
            "HTTP request sent, awaiting response... 200 OK\n",
            "Length: 151484222 (144M) [application/zip]\n",
            "Saving to: ‘resources.zip’\n",
            "\n",
            "resources.zip       100%[===================>] 144.47M  17.4MB/s    in 9.7s    \n",
            "\n",
            "2021-02-06 16:48:20 (14.9 MB/s) - ‘resources.zip’ saved [151484222/151484222]\n",
            "\n",
            "Archive:  resources.zip\n",
            "  inflating: basic_ff_embedding.pt   \n",
            "   creating: data/\n",
            " extracting: data/__init__.py        \n",
            "  inflating: data/__init__.pyc       \n",
            "   creating: data/__pycache__/\n",
            "  inflating: data/__pycache__/__init__.cpython-36.pyc  \n",
            "  inflating: data/__pycache__/orchid_corpus.cpython-36.pyc  \n",
            "  inflating: data/orchid97.txt       \n",
            "  inflating: data/orchid_corpus.py   \n",
            "  inflating: data/orchid_corpus.pyc  \n",
            "  inflating: data/orchid_test.txt    \n",
            "  inflating: data/orchid_train.txt   \n",
            "   creating: embeddings/\n",
            " extracting: embeddings/__init__.py  \n",
            "   creating: embeddings/__pycache__/\n",
            "  inflating: embeddings/__pycache__/__init__.cpython-36.pyc  \n",
            "  inflating: embeddings/__pycache__/emb_reader.cpython-36.pyc  \n",
            "  inflating: embeddings/emb_reader.py  \n",
            "  inflating: embeddings/polyglot-th.pkl  \n",
            "   creating: model/\n",
            "  inflating: model/_DS_Store         \n",
            "  inflating: model/crf_basic.model   \n",
            "  inflating: model/crf_neural.model  \n"
          ],
          "name": "stdout"
        }
      ]
    },
    {
      "cell_type": "code",
      "metadata": {
        "id": "H2a9b92hYTg2",
        "colab": {
          "base_uri": "https://localhost:8080/"
        },
        "outputId": "bc3481fc-7fb9-4bda-f208-c3174156d093"
      },
      "source": [
        "!pip install python-crfsuite\n",
        "!pip install tensorflow-addons\n",
        "!pip install tf2crf"
      ],
      "execution_count": 3,
      "outputs": [
        {
          "output_type": "stream",
          "text": [
            "Collecting python-crfsuite\n",
            "\u001b[?25l  Downloading https://files.pythonhosted.org/packages/95/99/869dde6dbf3e0d07a013c8eebfb0a3d30776334e0097f8432b631a9a3a19/python_crfsuite-0.9.7-cp36-cp36m-manylinux1_x86_64.whl (743kB)\n",
            "\u001b[K     |████████████████████████████████| 747kB 6.1MB/s \n",
            "\u001b[?25hInstalling collected packages: python-crfsuite\n",
            "Successfully installed python-crfsuite-0.9.7\n",
            "Requirement already satisfied: tensorflow-addons in /usr/local/lib/python3.6/dist-packages (0.8.3)\n",
            "Requirement already satisfied: typeguard in /usr/local/lib/python3.6/dist-packages (from tensorflow-addons) (2.7.1)\n",
            "Collecting tf2crf\n",
            "  Downloading https://files.pythonhosted.org/packages/eb/f5/e9f972be845a2b0ea93c76d26ed6b7bde599a48f70554a30a528117731c8/tf2crf-0.1.29-py2.py3-none-any.whl\n",
            "Requirement already satisfied: tensorflow>=2.1.0 in /usr/local/lib/python3.6/dist-packages (from tf2crf) (2.4.1)\n",
            "Requirement already satisfied: tensorflow-addons>=0.8.2 in /usr/local/lib/python3.6/dist-packages (from tf2crf) (0.8.3)\n",
            "Requirement already satisfied: gast==0.3.3 in /usr/local/lib/python3.6/dist-packages (from tensorflow>=2.1.0->tf2crf) (0.3.3)\n",
            "Requirement already satisfied: astunparse~=1.6.3 in /usr/local/lib/python3.6/dist-packages (from tensorflow>=2.1.0->tf2crf) (1.6.3)\n",
            "Requirement already satisfied: termcolor~=1.1.0 in /usr/local/lib/python3.6/dist-packages (from tensorflow>=2.1.0->tf2crf) (1.1.0)\n",
            "Requirement already satisfied: six~=1.15.0 in /usr/local/lib/python3.6/dist-packages (from tensorflow>=2.1.0->tf2crf) (1.15.0)\n",
            "Requirement already satisfied: wrapt~=1.12.1 in /usr/local/lib/python3.6/dist-packages (from tensorflow>=2.1.0->tf2crf) (1.12.1)\n",
            "Requirement already satisfied: typing-extensions~=3.7.4 in /usr/local/lib/python3.6/dist-packages (from tensorflow>=2.1.0->tf2crf) (3.7.4.3)\n",
            "Requirement already satisfied: grpcio~=1.32.0 in /usr/local/lib/python3.6/dist-packages (from tensorflow>=2.1.0->tf2crf) (1.32.0)\n",
            "Requirement already satisfied: keras-preprocessing~=1.1.2 in /usr/local/lib/python3.6/dist-packages (from tensorflow>=2.1.0->tf2crf) (1.1.2)\n",
            "Requirement already satisfied: opt-einsum~=3.3.0 in /usr/local/lib/python3.6/dist-packages (from tensorflow>=2.1.0->tf2crf) (3.3.0)\n",
            "Requirement already satisfied: tensorflow-estimator<2.5.0,>=2.4.0 in /usr/local/lib/python3.6/dist-packages (from tensorflow>=2.1.0->tf2crf) (2.4.0)\n",
            "Requirement already satisfied: flatbuffers~=1.12.0 in /usr/local/lib/python3.6/dist-packages (from tensorflow>=2.1.0->tf2crf) (1.12)\n",
            "Requirement already satisfied: absl-py~=0.10 in /usr/local/lib/python3.6/dist-packages (from tensorflow>=2.1.0->tf2crf) (0.10.0)\n",
            "Requirement already satisfied: wheel~=0.35 in /usr/local/lib/python3.6/dist-packages (from tensorflow>=2.1.0->tf2crf) (0.36.2)\n",
            "Requirement already satisfied: protobuf>=3.9.2 in /usr/local/lib/python3.6/dist-packages (from tensorflow>=2.1.0->tf2crf) (3.12.4)\n",
            "Requirement already satisfied: numpy~=1.19.2 in /usr/local/lib/python3.6/dist-packages (from tensorflow>=2.1.0->tf2crf) (1.19.5)\n",
            "Requirement already satisfied: google-pasta~=0.2 in /usr/local/lib/python3.6/dist-packages (from tensorflow>=2.1.0->tf2crf) (0.2.0)\n",
            "Requirement already satisfied: h5py~=2.10.0 in /usr/local/lib/python3.6/dist-packages (from tensorflow>=2.1.0->tf2crf) (2.10.0)\n",
            "Requirement already satisfied: tensorboard~=2.4 in /usr/local/lib/python3.6/dist-packages (from tensorflow>=2.1.0->tf2crf) (2.4.1)\n",
            "Requirement already satisfied: typeguard in /usr/local/lib/python3.6/dist-packages (from tensorflow-addons>=0.8.2->tf2crf) (2.7.1)\n",
            "Requirement already satisfied: setuptools in /usr/local/lib/python3.6/dist-packages (from protobuf>=3.9.2->tensorflow>=2.1.0->tf2crf) (53.0.0)\n",
            "Requirement already satisfied: google-auth-oauthlib<0.5,>=0.4.1 in /usr/local/lib/python3.6/dist-packages (from tensorboard~=2.4->tensorflow>=2.1.0->tf2crf) (0.4.2)\n",
            "Requirement already satisfied: werkzeug>=0.11.15 in /usr/local/lib/python3.6/dist-packages (from tensorboard~=2.4->tensorflow>=2.1.0->tf2crf) (1.0.1)\n",
            "Requirement already satisfied: tensorboard-plugin-wit>=1.6.0 in /usr/local/lib/python3.6/dist-packages (from tensorboard~=2.4->tensorflow>=2.1.0->tf2crf) (1.8.0)\n",
            "Requirement already satisfied: google-auth<2,>=1.6.3 in /usr/local/lib/python3.6/dist-packages (from tensorboard~=2.4->tensorflow>=2.1.0->tf2crf) (1.24.0)\n",
            "Requirement already satisfied: requests<3,>=2.21.0 in /usr/local/lib/python3.6/dist-packages (from tensorboard~=2.4->tensorflow>=2.1.0->tf2crf) (2.23.0)\n",
            "Requirement already satisfied: markdown>=2.6.8 in /usr/local/lib/python3.6/dist-packages (from tensorboard~=2.4->tensorflow>=2.1.0->tf2crf) (3.3.3)\n",
            "Requirement already satisfied: requests-oauthlib>=0.7.0 in /usr/local/lib/python3.6/dist-packages (from google-auth-oauthlib<0.5,>=0.4.1->tensorboard~=2.4->tensorflow>=2.1.0->tf2crf) (1.3.0)\n",
            "Requirement already satisfied: cachetools<5.0,>=2.0.0 in /usr/local/lib/python3.6/dist-packages (from google-auth<2,>=1.6.3->tensorboard~=2.4->tensorflow>=2.1.0->tf2crf) (4.2.1)\n",
            "Requirement already satisfied: rsa<5,>=3.1.4; python_version >= \"3.6\" in /usr/local/lib/python3.6/dist-packages (from google-auth<2,>=1.6.3->tensorboard~=2.4->tensorflow>=2.1.0->tf2crf) (4.7)\n",
            "Requirement already satisfied: pyasn1-modules>=0.2.1 in /usr/local/lib/python3.6/dist-packages (from google-auth<2,>=1.6.3->tensorboard~=2.4->tensorflow>=2.1.0->tf2crf) (0.2.8)\n",
            "Requirement already satisfied: idna<3,>=2.5 in /usr/local/lib/python3.6/dist-packages (from requests<3,>=2.21.0->tensorboard~=2.4->tensorflow>=2.1.0->tf2crf) (2.10)\n",
            "Requirement already satisfied: urllib3!=1.25.0,!=1.25.1,<1.26,>=1.21.1 in /usr/local/lib/python3.6/dist-packages (from requests<3,>=2.21.0->tensorboard~=2.4->tensorflow>=2.1.0->tf2crf) (1.24.3)\n",
            "Requirement already satisfied: certifi>=2017.4.17 in /usr/local/lib/python3.6/dist-packages (from requests<3,>=2.21.0->tensorboard~=2.4->tensorflow>=2.1.0->tf2crf) (2020.12.5)\n",
            "Requirement already satisfied: chardet<4,>=3.0.2 in /usr/local/lib/python3.6/dist-packages (from requests<3,>=2.21.0->tensorboard~=2.4->tensorflow>=2.1.0->tf2crf) (3.0.4)\n",
            "Requirement already satisfied: importlib-metadata; python_version < \"3.8\" in /usr/local/lib/python3.6/dist-packages (from markdown>=2.6.8->tensorboard~=2.4->tensorflow>=2.1.0->tf2crf) (3.4.0)\n",
            "Requirement already satisfied: oauthlib>=3.0.0 in /usr/local/lib/python3.6/dist-packages (from requests-oauthlib>=0.7.0->google-auth-oauthlib<0.5,>=0.4.1->tensorboard~=2.4->tensorflow>=2.1.0->tf2crf) (3.1.0)\n",
            "Requirement already satisfied: pyasn1>=0.1.3 in /usr/local/lib/python3.6/dist-packages (from rsa<5,>=3.1.4; python_version >= \"3.6\"->google-auth<2,>=1.6.3->tensorboard~=2.4->tensorflow>=2.1.0->tf2crf) (0.4.8)\n",
            "Requirement already satisfied: zipp>=0.5 in /usr/local/lib/python3.6/dist-packages (from importlib-metadata; python_version < \"3.8\"->markdown>=2.6.8->tensorboard~=2.4->tensorflow>=2.1.0->tf2crf) (3.4.0)\n",
            "Installing collected packages: tf2crf\n",
            "Successfully installed tf2crf-0.1.29\n"
          ],
          "name": "stdout"
        }
      ]
    },
    {
      "cell_type": "code",
      "metadata": {
        "id": "_c7upY0fYsdt"
      },
      "source": [
        "%tensorflow_version 2.x"
      ],
      "execution_count": 4,
      "outputs": []
    },
    {
      "cell_type": "code",
      "metadata": {
        "id": "rJpCbSvJhHPv"
      },
      "source": [
        "from data.orchid_corpus import get_sentences\n",
        "import numpy as np\n",
        "import numpy.random\n",
        "import tensorflow as tf\n",
        "np.random.seed(42)"
      ],
      "execution_count": 5,
      "outputs": []
    },
    {
      "cell_type": "code",
      "metadata": {
        "id": "U4SZz56ThHP0",
        "scrolled": false,
        "colab": {
          "base_uri": "https://localhost:8080/"
        },
        "outputId": "3d4c3cfc-66a7-405a-fff0-a70d63f0fd76"
      },
      "source": [
        "yunk_emb =np.random.randn(32)\n",
        "train_data = get_sentences('train')\n",
        "test_data = get_sentences('test')\n",
        "print(train_data[0])"
      ],
      "execution_count": 6,
      "outputs": [
        {
          "output_type": "stream",
          "text": [
            "[('การ', 'FIXN'), ('ประชุม', 'VACT'), ('ทาง', 'NCMN'), ('วิชาการ', 'NCMN'), ('<space>', 'PUNC'), ('ครั้ง', 'CFQC'), ('ที่ 1', 'DONM')]\n"
          ],
          "name": "stdout"
        }
      ]
    },
    {
      "cell_type": "markdown",
      "metadata": {
        "id": "awxn_GRIhHP3"
      },
      "source": [
        "Next, we load pretrained weight embedding using pickle. The pretrained weight is a dictionary which map a word to its embedding."
      ]
    },
    {
      "cell_type": "code",
      "metadata": {
        "id": "0GS3lTZshHP4"
      },
      "source": [
        "import pickle\n",
        "fp = open('basic_ff_embedding.pt', 'rb')\n",
        "embeddings = pickle.load(fp)\n",
        "fp.close()"
      ],
      "execution_count": 7,
      "outputs": []
    },
    {
      "cell_type": "markdown",
      "metadata": {
        "id": "5CqTNKsChHP7"
      },
      "source": [
        "The given code below generates an indexed dataset(each word is represented by a number) for training and testing data. The index 0 is reserved for padding to help with variable length sequence. (Additionally, You can read more about padding here [https://machinelearningmastery.com/data-preparation-variable-length-input-sequences-sequence-prediction/])"
      ]
    },
    {
      "cell_type": "markdown",
      "metadata": {
        "id": "IPGUNEZyhHP8"
      },
      "source": [
        "## 2. Prepare Data"
      ]
    },
    {
      "cell_type": "code",
      "metadata": {
        "id": "7fMWn8qehHP9"
      },
      "source": [
        "word_to_idx ={}\n",
        "idx_to_word ={}\n",
        "label_to_idx = {}\n",
        "for sentence in train_data:\n",
        "    for word,pos in sentence:\n",
        "        if word not in word_to_idx:\n",
        "            word_to_idx[word] = len(word_to_idx)+1\n",
        "            idx_to_word[word_to_idx[word]] = word\n",
        "        if pos not in label_to_idx:\n",
        "            label_to_idx[pos] = len(label_to_idx)+1\n",
        "word_to_idx['UNK'] = len(word_to_idx)\n",
        "\n",
        "n_classes = len(label_to_idx.keys())+1"
      ],
      "execution_count": 8,
      "outputs": []
    },
    {
      "cell_type": "markdown",
      "metadata": {
        "id": "QgvZ8v_2hHP_"
      },
      "source": [
        "This section is tweaked a little from the demo, word2features will return word index instead of features, and sent2labels will return a sequence of word indices in the sentence."
      ]
    },
    {
      "cell_type": "code",
      "metadata": {
        "id": "ktf2KkJghHQA"
      },
      "source": [
        "def word2features(sent, i, emb):\n",
        "    word = sent[i][0]\n",
        "    if word in word_to_idx :\n",
        "        return word_to_idx[word]\n",
        "    else :\n",
        "        return word_to_idx['UNK']\n",
        "\n",
        "def sent2features(sent, emb_dict):\n",
        "    return np.asarray([word2features(sent, i, emb_dict) for i in range(len(sent))])\n",
        "\n",
        "def sent2labels(sent):\n",
        "    return numpy.asarray([label_to_idx[label] for (word, label) in sent],dtype='int32')\n",
        "\n",
        "def sent2tokens(sent):\n",
        "    return [word for (word, label) in sent]"
      ],
      "execution_count": 9,
      "outputs": []
    },
    {
      "cell_type": "code",
      "metadata": {
        "id": "cgBw3I9ShHQD",
        "colab": {
          "base_uri": "https://localhost:8080/"
        },
        "outputId": "5e22e7a2-78b9-48e5-8baf-ed523e4a58ab"
      },
      "source": [
        "sent2features(train_data[100], embeddings)"
      ],
      "execution_count": 10,
      "outputs": [
        {
          "output_type": "execute_result",
          "data": {
            "text/plain": [
              "array([ 29, 327,   5, 328])"
            ]
          },
          "metadata": {
            "tags": []
          },
          "execution_count": 10
        }
      ]
    },
    {
      "cell_type": "markdown",
      "metadata": {
        "id": "3O7oClK-hHQG"
      },
      "source": [
        "Next we create train and test dataset, then we use tensorflow 2 to post-pad the sequence to max sequence with 0. Our labels are changed to a one-hot vector."
      ]
    },
    {
      "cell_type": "code",
      "metadata": {
        "id": "0tJxtPtohHQH",
        "colab": {
          "base_uri": "https://localhost:8080/"
        },
        "outputId": "3fd92355-e984-4542-e4e2-af638fd36427"
      },
      "source": [
        "%%time\n",
        "x_train = np.asarray([sent2features(sent, embeddings) for sent in train_data])\n",
        "y_train = [sent2labels(sent) for sent in train_data]\n",
        "x_test = [sent2features(sent, embeddings) for sent in test_data]\n",
        "y_test = [sent2labels(sent) for sent in test_data]"
      ],
      "execution_count": 25,
      "outputs": [
        {
          "output_type": "stream",
          "text": [
            "CPU times: user 272 ms, sys: 1.11 ms, total: 273 ms\n",
            "Wall time: 273 ms\n"
          ],
          "name": "stdout"
        },
        {
          "output_type": "stream",
          "text": [
            "/usr/local/lib/python3.6/dist-packages/numpy/core/_asarray.py:83: VisibleDeprecationWarning: Creating an ndarray from ragged nested sequences (which is a list-or-tuple of lists-or-tuples-or ndarrays with different lengths or shapes) is deprecated. If you meant to do this, you must specify 'dtype=object' when creating the ndarray\n",
            "  return array(a, dtype, copy=False, order=order)\n"
          ],
          "name": "stderr"
        }
      ]
    },
    {
      "cell_type": "code",
      "metadata": {
        "colab": {
          "base_uri": "https://localhost:8080/",
          "height": 663
        },
        "id": "fYCfem1QR3Jw",
        "outputId": "d4106eb5-21a9-4713-c14f-8ee01c49c2ae"
      },
      "source": [
        "display(np.eye(n_classes))\r\n",
        "display(y_train[100])\r\n",
        "display(np.eye(n_classes)[y_train[100]])\r\n",
        "display(np.eye(n_classes)[y_train[100]][np.newaxis,:])\r\n",
        "a = np.array([1,2,3])\r\n",
        "np.eye(n_classes)[[3,1]]"
      ],
      "execution_count": 33,
      "outputs": [
        {
          "output_type": "display_data",
          "data": {
            "text/plain": [
              "array([[1., 0., 0., ..., 0., 0., 0.],\n",
              "       [0., 1., 0., ..., 0., 0., 0.],\n",
              "       [0., 0., 1., ..., 0., 0., 0.],\n",
              "       ...,\n",
              "       [0., 0., 0., ..., 1., 0., 0.],\n",
              "       [0., 0., 0., ..., 0., 1., 0.],\n",
              "       [0., 0., 0., ..., 0., 0., 1.]])"
            ]
          },
          "metadata": {
            "tags": []
          }
        },
        {
          "output_type": "display_data",
          "data": {
            "text/plain": [
              "array([ 3, 10,  4,  3], dtype=int32)"
            ]
          },
          "metadata": {
            "tags": []
          }
        },
        {
          "output_type": "display_data",
          "data": {
            "text/plain": [
              "array([[0., 0., 0., 1., 0., 0., 0., 0., 0., 0., 0., 0., 0., 0., 0., 0.,\n",
              "        0., 0., 0., 0., 0., 0., 0., 0., 0., 0., 0., 0., 0., 0., 0., 0.,\n",
              "        0., 0., 0., 0., 0., 0., 0., 0., 0., 0., 0., 0., 0., 0., 0., 0.],\n",
              "       [0., 0., 0., 0., 0., 0., 0., 0., 0., 0., 1., 0., 0., 0., 0., 0.,\n",
              "        0., 0., 0., 0., 0., 0., 0., 0., 0., 0., 0., 0., 0., 0., 0., 0.,\n",
              "        0., 0., 0., 0., 0., 0., 0., 0., 0., 0., 0., 0., 0., 0., 0., 0.],\n",
              "       [0., 0., 0., 0., 1., 0., 0., 0., 0., 0., 0., 0., 0., 0., 0., 0.,\n",
              "        0., 0., 0., 0., 0., 0., 0., 0., 0., 0., 0., 0., 0., 0., 0., 0.,\n",
              "        0., 0., 0., 0., 0., 0., 0., 0., 0., 0., 0., 0., 0., 0., 0., 0.],\n",
              "       [0., 0., 0., 1., 0., 0., 0., 0., 0., 0., 0., 0., 0., 0., 0., 0.,\n",
              "        0., 0., 0., 0., 0., 0., 0., 0., 0., 0., 0., 0., 0., 0., 0., 0.,\n",
              "        0., 0., 0., 0., 0., 0., 0., 0., 0., 0., 0., 0., 0., 0., 0., 0.]])"
            ]
          },
          "metadata": {
            "tags": []
          }
        },
        {
          "output_type": "display_data",
          "data": {
            "text/plain": [
              "array([[[0., 0., 0., 1., 0., 0., 0., 0., 0., 0., 0., 0., 0., 0., 0., 0.,\n",
              "         0., 0., 0., 0., 0., 0., 0., 0., 0., 0., 0., 0., 0., 0., 0., 0.,\n",
              "         0., 0., 0., 0., 0., 0., 0., 0., 0., 0., 0., 0., 0., 0., 0., 0.],\n",
              "        [0., 0., 0., 0., 0., 0., 0., 0., 0., 0., 1., 0., 0., 0., 0., 0.,\n",
              "         0., 0., 0., 0., 0., 0., 0., 0., 0., 0., 0., 0., 0., 0., 0., 0.,\n",
              "         0., 0., 0., 0., 0., 0., 0., 0., 0., 0., 0., 0., 0., 0., 0., 0.],\n",
              "        [0., 0., 0., 0., 1., 0., 0., 0., 0., 0., 0., 0., 0., 0., 0., 0.,\n",
              "         0., 0., 0., 0., 0., 0., 0., 0., 0., 0., 0., 0., 0., 0., 0., 0.,\n",
              "         0., 0., 0., 0., 0., 0., 0., 0., 0., 0., 0., 0., 0., 0., 0., 0.],\n",
              "        [0., 0., 0., 1., 0., 0., 0., 0., 0., 0., 0., 0., 0., 0., 0., 0.,\n",
              "         0., 0., 0., 0., 0., 0., 0., 0., 0., 0., 0., 0., 0., 0., 0., 0.,\n",
              "         0., 0., 0., 0., 0., 0., 0., 0., 0., 0., 0., 0., 0., 0., 0., 0.]]])"
            ]
          },
          "metadata": {
            "tags": []
          }
        },
        {
          "output_type": "execute_result",
          "data": {
            "text/plain": [
              "array([[0., 0., 0., 1., 0., 0., 0., 0., 0., 0., 0., 0., 0., 0., 0., 0.,\n",
              "        0., 0., 0., 0., 0., 0., 0., 0., 0., 0., 0., 0., 0., 0., 0., 0.,\n",
              "        0., 0., 0., 0., 0., 0., 0., 0., 0., 0., 0., 0., 0., 0., 0., 0.],\n",
              "       [0., 1., 0., 0., 0., 0., 0., 0., 0., 0., 0., 0., 0., 0., 0., 0.,\n",
              "        0., 0., 0., 0., 0., 0., 0., 0., 0., 0., 0., 0., 0., 0., 0., 0.,\n",
              "        0., 0., 0., 0., 0., 0., 0., 0., 0., 0., 0., 0., 0., 0., 0., 0.]])"
            ]
          },
          "metadata": {
            "tags": []
          },
          "execution_count": 33
        }
      ]
    },
    {
      "cell_type": "code",
      "metadata": {
        "id": "DG1gvJ4mhHQJ"
      },
      "source": [
        "x_train=tf.keras.preprocessing.sequence.pad_sequences(x_train, maxlen=None, dtype='int32', padding='post', truncating='pre', value=0.)\n",
        "y_train=tf.keras.preprocessing.sequence.pad_sequences(y_train, maxlen=None, dtype='int32', padding='post', truncating='pre', value=0.)\n",
        "x_test=tf.keras.preprocessing.sequence.pad_sequences(x_test, maxlen=102, dtype='int32', padding='post', truncating='pre', value=0.)\n",
        "y_temp =[]\n",
        "for i in range(len(y_train)):\n",
        "    y_temp.append(np.eye(n_classes)[y_train[i]][np.newaxis,:]) # to one-hot\n",
        "y_train = np.asarray(y_temp).reshape(-1,102,n_classes)\n",
        "del(y_temp)"
      ],
      "execution_count": 34,
      "outputs": []
    },
    {
      "cell_type": "code",
      "metadata": {
        "id": "ZU9x6VdehHQM",
        "colab": {
          "base_uri": "https://localhost:8080/"
        },
        "outputId": "7c4d64f5-dc90-4977-c11c-6125b3992102"
      },
      "source": [
        "print(x_train[100],x_train.shape)\n",
        "print(y_train[100][3],y_train.shape)"
      ],
      "execution_count": 35,
      "outputs": [
        {
          "output_type": "stream",
          "text": [
            "[ 29 327   5 328   0   0   0   0   0   0   0   0   0   0   0   0   0   0\n",
            "   0   0   0   0   0   0   0   0   0   0   0   0   0   0   0   0   0   0\n",
            "   0   0   0   0   0   0   0   0   0   0   0   0   0   0   0   0   0   0\n",
            "   0   0   0   0   0   0   0   0   0   0   0   0   0   0   0   0   0   0\n",
            "   0   0   0   0   0   0   0   0   0   0   0   0   0   0   0   0   0   0\n",
            "   0   0   0   0   0   0   0   0   0   0   0   0] (18500, 102)\n",
            "[0. 0. 0. 1. 0. 0. 0. 0. 0. 0. 0. 0. 0. 0. 0. 0. 0. 0. 0. 0. 0. 0. 0. 0.\n",
            " 0. 0. 0. 0. 0. 0. 0. 0. 0. 0. 0. 0. 0. 0. 0. 0. 0. 0. 0. 0. 0. 0. 0. 0.] (18500, 102, 48)\n"
          ],
          "name": "stdout"
        }
      ]
    },
    {
      "cell_type": "markdown",
      "metadata": {
        "id": "dx_c3-LwhHQP"
      },
      "source": [
        "## 3. Evaluate"
      ]
    },
    {
      "cell_type": "markdown",
      "metadata": {
        "id": "tvCW24orhHQP"
      },
      "source": [
        "Our output from tf keras is a distribution of problabilities on all possible label. outputToLabel will return an indices of maximum problability from output sequence.\n",
        "\n",
        "evaluation_report is the same as in the demo"
      ]
    },
    {
      "cell_type": "code",
      "metadata": {
        "id": "Iqgp2gd4hHQQ"
      },
      "source": [
        "def outputToLabel(yt,seq_len):\n",
        "    out = []\n",
        "    for i in range(0,len(yt)):\n",
        "        if(i==seq_len):\n",
        "            break\n",
        "        out.append(np.argmax(yt[i]))\n",
        "    return out"
      ],
      "execution_count": 36,
      "outputs": []
    },
    {
      "cell_type": "code",
      "metadata": {
        "id": "pzIL_rsAhHQT"
      },
      "source": [
        "import pandas as pd\n",
        "from IPython.display import display\n",
        "\n",
        "def evaluation_report(y_true, y_pred):\n",
        "    # retrieve all tags in y_true\n",
        "    tag_set = set()\n",
        "    for sent in y_true:\n",
        "        for tag in sent:\n",
        "            tag_set.add(tag)\n",
        "    for sent in y_pred:\n",
        "        for tag in sent:\n",
        "            tag_set.add(tag)\n",
        "    tag_list = sorted(list(tag_set))\n",
        "    \n",
        "    # count correct points\n",
        "    tag_info = dict()\n",
        "    for tag in tag_list:\n",
        "        tag_info[tag] = {'correct_tagged': 0, 'y_true': 0, 'y_pred': 0}\n",
        "\n",
        "    all_correct = 0\n",
        "    all_count = sum([len(sent) for sent in y_true])\n",
        "    for sent_true, sent_pred in zip(y_true, y_pred):\n",
        "        for tag_true, tag_pred in zip(sent_true, sent_pred):\n",
        "            if tag_true == tag_pred:\n",
        "                tag_info[tag_true]['correct_tagged'] += 1\n",
        "                all_correct += 1\n",
        "            tag_info[tag_true]['y_true'] += 1\n",
        "            tag_info[tag_pred]['y_pred'] += 1\n",
        "    accuracy = (all_correct / all_count) * 100\n",
        "            \n",
        "    # summarize and make evaluation result\n",
        "    eval_list = list()\n",
        "    for tag in tag_list:\n",
        "        eval_result = dict()\n",
        "        eval_result['tag'] = tag\n",
        "        eval_result['correct_count'] = tag_info[tag]['correct_tagged']\n",
        "        precision = (tag_info[tag]['correct_tagged']/tag_info[tag]['y_pred'])*100 if tag_info[tag]['y_pred'] else '-'\n",
        "        recall = (tag_info[tag]['correct_tagged']/tag_info[tag]['y_true'])*100 if (tag_info[tag]['y_true'] > 0) else 0\n",
        "        eval_result['precision'] = precision\n",
        "        eval_result['recall'] = recall\n",
        "        eval_result['f_score'] = (2*precision*recall)/(precision+recall) if (type(precision) is float and recall > 0) else '-'\n",
        "        \n",
        "        eval_list.append(eval_result)\n",
        "\n",
        "    eval_list.append({'tag': 'accuracy=%.2f' % accuracy, 'correct_count': '', 'precision': '', 'recall': '', 'f_score': ''})\n",
        "    \n",
        "    df = pd.DataFrame.from_dict(eval_list)\n",
        "    df = df[['tag', 'precision', 'recall', 'f_score', 'correct_count']]\n",
        "    display(df)"
      ],
      "execution_count": 37,
      "outputs": []
    },
    {
      "cell_type": "markdown",
      "metadata": {
        "id": "4YG-RiHdhHQV"
      },
      "source": [
        "## 4. Train a model"
      ]
    },
    {
      "cell_type": "code",
      "metadata": {
        "id": "2HrkAiMFhHQW"
      },
      "source": [
        "from tensorflow.keras.models import Sequential, Model\n",
        "from tensorflow.keras.layers import Embedding, Reshape, Activation, Input, Dense,GRU,Reshape,TimeDistributed,Bidirectional,Dropout,Masking\n",
        "from tensorflow.keras.optimizers import Adam"
      ],
      "execution_count": 38,
      "outputs": []
    },
    {
      "cell_type": "markdown",
      "metadata": {
        "id": "U75Ivn2vhHQZ"
      },
      "source": [
        "The model is this section is separated to two groups\n",
        "\n",
        "- Neural POS Tagger (4.1)\n",
        "- Neural CRF POS Tagger (4.2)"
      ]
    },
    {
      "cell_type": "markdown",
      "metadata": {
        "id": "CLwL3B7rhHQZ"
      },
      "source": [
        "## 4.1.1 Neural POS Tagger  (Example)"
      ]
    },
    {
      "cell_type": "markdown",
      "metadata": {
        "id": "pVoB-1XVhHQa"
      },
      "source": [
        "We create a simple Neural POS Tagger as an example for you. This model dosen't use any pretrained word embbeding so it need to use Embedding layer to train the word embedding from scratch.\n",
        "\n",
        "Instead of using tensorflow.keras.models.Sequential, we use tensorflow.keras.models.Model. The latter is better as it can have multiple input/output, of which Sequential model could not. Due to this reason, the Model class is widely used for building a complex deep learning model."
      ]
    },
    {
      "cell_type": "code",
      "metadata": {
        "id": "DxBvv9qfhHQb",
        "colab": {
          "base_uri": "https://localhost:8080/"
        },
        "outputId": "3130bfc7-644f-4d39-a527-b127183126f3"
      },
      "source": [
        "inputs = Input(shape=(102,), dtype='int32')\n",
        "output = (Embedding(len(word_to_idx),32,input_length=102,mask_zero=True))(inputs)\n",
        "output = Bidirectional(GRU(32, return_sequences=True))(output)\n",
        "output = Dropout(0.2)(output)\n",
        "output = TimeDistributed(Dense(n_classes,activation='softmax'))(output)\n",
        "model = Model(inputs, output)\n",
        "model.compile(optimizer=Adam(lr=0.001),  loss='categorical_crossentropy', metrics=['categorical_accuracy'])\n",
        "\n",
        "model.summary()\n",
        "model.fit(x_train,y=y_train, batch_size=64,epochs=10,verbose=1)"
      ],
      "execution_count": 39,
      "outputs": [
        {
          "output_type": "stream",
          "text": [
            "Model: \"model\"\n",
            "_________________________________________________________________\n",
            "Layer (type)                 Output Shape              Param #   \n",
            "=================================================================\n",
            "input_1 (InputLayer)         [(None, 102)]             0         \n",
            "_________________________________________________________________\n",
            "embedding (Embedding)        (None, 102, 32)           480608    \n",
            "_________________________________________________________________\n",
            "bidirectional (Bidirectional (None, 102, 64)           12672     \n",
            "_________________________________________________________________\n",
            "dropout (Dropout)            (None, 102, 64)           0         \n",
            "_________________________________________________________________\n",
            "time_distributed (TimeDistri (None, 102, 48)           3120      \n",
            "=================================================================\n",
            "Total params: 496,400\n",
            "Trainable params: 496,400\n",
            "Non-trainable params: 0\n",
            "_________________________________________________________________\n",
            "Epoch 1/10\n",
            "290/290 [==============================] - 13s 14ms/step - loss: 0.3907 - categorical_accuracy: 0.3532\n",
            "Epoch 2/10\n",
            "290/290 [==============================] - 4s 14ms/step - loss: 0.0721 - categorical_accuracy: 0.8880\n",
            "Epoch 3/10\n",
            "290/290 [==============================] - 4s 14ms/step - loss: 0.0392 - categorical_accuracy: 0.9317\n",
            "Epoch 4/10\n",
            "290/290 [==============================] - 4s 14ms/step - loss: 0.0301 - categorical_accuracy: 0.9445\n",
            "Epoch 5/10\n",
            "290/290 [==============================] - 4s 14ms/step - loss: 0.0255 - categorical_accuracy: 0.9507\n",
            "Epoch 6/10\n",
            "290/290 [==============================] - 4s 14ms/step - loss: 0.0234 - categorical_accuracy: 0.9532\n",
            "Epoch 7/10\n",
            "290/290 [==============================] - 4s 14ms/step - loss: 0.0218 - categorical_accuracy: 0.9565\n",
            "Epoch 8/10\n",
            "290/290 [==============================] - 4s 15ms/step - loss: 0.0203 - categorical_accuracy: 0.9573\n",
            "Epoch 9/10\n",
            "290/290 [==============================] - 4s 14ms/step - loss: 0.0195 - categorical_accuracy: 0.9592\n",
            "Epoch 10/10\n",
            "290/290 [==============================] - 4s 14ms/step - loss: 0.0185 - categorical_accuracy: 0.9613\n"
          ],
          "name": "stdout"
        },
        {
          "output_type": "execute_result",
          "data": {
            "text/plain": [
              "<tensorflow.python.keras.callbacks.History at 0x7fd511fa4710>"
            ]
          },
          "metadata": {
            "tags": []
          },
          "execution_count": 39
        }
      ]
    },
    {
      "cell_type": "code",
      "metadata": {
        "id": "Wo9Da8MThHQf",
        "colab": {
          "base_uri": "https://localhost:8080/"
        },
        "outputId": "cdb12278-c2dc-4107-d250-368e57ed66a1"
      },
      "source": [
        "%%time\n",
        "model.fit(x_train,y_train,batch_size=64,epochs=10,verbose=1)"
      ],
      "execution_count": 40,
      "outputs": [
        {
          "output_type": "stream",
          "text": [
            "Epoch 1/10\n",
            "290/290 [==============================] - 4s 14ms/step - loss: 0.0180 - categorical_accuracy: 0.9619\n",
            "Epoch 2/10\n",
            "290/290 [==============================] - 4s 14ms/step - loss: 0.0174 - categorical_accuracy: 0.9631\n",
            "Epoch 3/10\n",
            "290/290 [==============================] - 4s 15ms/step - loss: 0.0167 - categorical_accuracy: 0.9644\n",
            "Epoch 4/10\n",
            "290/290 [==============================] - 4s 15ms/step - loss: 0.0162 - categorical_accuracy: 0.9652\n",
            "Epoch 5/10\n",
            "290/290 [==============================] - 4s 15ms/step - loss: 0.0155 - categorical_accuracy: 0.9666\n",
            "Epoch 6/10\n",
            "290/290 [==============================] - 4s 14ms/step - loss: 0.0150 - categorical_accuracy: 0.9676\n",
            "Epoch 7/10\n",
            "290/290 [==============================] - 4s 14ms/step - loss: 0.0146 - categorical_accuracy: 0.9684\n",
            "Epoch 8/10\n",
            "290/290 [==============================] - 4s 14ms/step - loss: 0.0141 - categorical_accuracy: 0.9694\n",
            "Epoch 9/10\n",
            "290/290 [==============================] - 4s 14ms/step - loss: 0.0137 - categorical_accuracy: 0.9706\n",
            "Epoch 10/10\n",
            "290/290 [==============================] - 4s 14ms/step - loss: 0.0133 - categorical_accuracy: 0.9712\n",
            "CPU times: user 1min 19s, sys: 14.8 s, total: 1min 34s\n",
            "Wall time: 41.4 s\n"
          ],
          "name": "stdout"
        },
        {
          "output_type": "execute_result",
          "data": {
            "text/plain": [
              "<tensorflow.python.keras.callbacks.History at 0x7fd511354588>"
            ]
          },
          "metadata": {
            "tags": []
          },
          "execution_count": 40
        }
      ]
    },
    {
      "cell_type": "code",
      "metadata": {
        "id": "yusa214hhHQh",
        "colab": {
          "base_uri": "https://localhost:8080/",
          "height": 1000
        },
        "outputId": "e6e9b9e3-74a0-43de-a562-f96d51335929"
      },
      "source": [
        "%%time\n",
        "model.save_weights('data/my_pos_no_crf.h5')\n",
        "#model.load_weights('data/my_pos_no_crf.h5')\n",
        "y_pred=model.predict(x_test)\n",
        "ypred = [outputToLabel(y_pred[i],len(y_test[i])) for i in range(len(y_pred))]\n",
        "evaluation_report(y_test, ypred)"
      ],
      "execution_count": 42,
      "outputs": [
        {
          "output_type": "display_data",
          "data": {
            "text/html": [
              "<div>\n",
              "<style scoped>\n",
              "    .dataframe tbody tr th:only-of-type {\n",
              "        vertical-align: middle;\n",
              "    }\n",
              "\n",
              "    .dataframe tbody tr th {\n",
              "        vertical-align: top;\n",
              "    }\n",
              "\n",
              "    .dataframe thead th {\n",
              "        text-align: right;\n",
              "    }\n",
              "</style>\n",
              "<table border=\"1\" class=\"dataframe\">\n",
              "  <thead>\n",
              "    <tr style=\"text-align: right;\">\n",
              "      <th></th>\n",
              "      <th>tag</th>\n",
              "      <th>precision</th>\n",
              "      <th>recall</th>\n",
              "      <th>f_score</th>\n",
              "      <th>correct_count</th>\n",
              "    </tr>\n",
              "  </thead>\n",
              "  <tbody>\n",
              "    <tr>\n",
              "      <th>0</th>\n",
              "      <td>1</td>\n",
              "      <td>99.8095</td>\n",
              "      <td>99.5387</td>\n",
              "      <td>99.6739</td>\n",
              "      <td>3668</td>\n",
              "    </tr>\n",
              "    <tr>\n",
              "      <th>1</th>\n",
              "      <td>2</td>\n",
              "      <td>94.6542</td>\n",
              "      <td>93.5984</td>\n",
              "      <td>94.1234</td>\n",
              "      <td>7720</td>\n",
              "    </tr>\n",
              "    <tr>\n",
              "      <th>2</th>\n",
              "      <td>3</td>\n",
              "      <td>90.5368</td>\n",
              "      <td>96.0744</td>\n",
              "      <td>93.2234</td>\n",
              "      <td>16226</td>\n",
              "    </tr>\n",
              "    <tr>\n",
              "      <th>3</th>\n",
              "      <td>4</td>\n",
              "      <td>99.9378</td>\n",
              "      <td>99.4196</td>\n",
              "      <td>99.678</td>\n",
              "      <td>12847</td>\n",
              "    </tr>\n",
              "    <tr>\n",
              "      <th>4</th>\n",
              "      <td>5</td>\n",
              "      <td>88</td>\n",
              "      <td>98.5075</td>\n",
              "      <td>92.9577</td>\n",
              "      <td>66</td>\n",
              "    </tr>\n",
              "    <tr>\n",
              "      <th>5</th>\n",
              "      <td>6</td>\n",
              "      <td>98.7552</td>\n",
              "      <td>91.1877</td>\n",
              "      <td>94.8207</td>\n",
              "      <td>476</td>\n",
              "    </tr>\n",
              "    <tr>\n",
              "      <th>6</th>\n",
              "      <td>7</td>\n",
              "      <td>96.884</td>\n",
              "      <td>97.2102</td>\n",
              "      <td>97.0468</td>\n",
              "      <td>2021</td>\n",
              "    </tr>\n",
              "    <tr>\n",
              "      <th>7</th>\n",
              "      <td>8</td>\n",
              "      <td>71.6783</td>\n",
              "      <td>49.3976</td>\n",
              "      <td>58.4879</td>\n",
              "      <td>205</td>\n",
              "    </tr>\n",
              "    <tr>\n",
              "      <th>8</th>\n",
              "      <td>9</td>\n",
              "      <td>58.9202</td>\n",
              "      <td>68.2065</td>\n",
              "      <td>63.2242</td>\n",
              "      <td>251</td>\n",
              "    </tr>\n",
              "    <tr>\n",
              "      <th>9</th>\n",
              "      <td>10</td>\n",
              "      <td>63.1858</td>\n",
              "      <td>42.5507</td>\n",
              "      <td>50.8547</td>\n",
              "      <td>357</td>\n",
              "    </tr>\n",
              "    <tr>\n",
              "      <th>10</th>\n",
              "      <td>11</td>\n",
              "      <td>84.3137</td>\n",
              "      <td>100</td>\n",
              "      <td>91.4894</td>\n",
              "      <td>86</td>\n",
              "    </tr>\n",
              "    <tr>\n",
              "      <th>11</th>\n",
              "      <td>12</td>\n",
              "      <td>96.8711</td>\n",
              "      <td>96.6292</td>\n",
              "      <td>96.75</td>\n",
              "      <td>774</td>\n",
              "    </tr>\n",
              "    <tr>\n",
              "      <th>12</th>\n",
              "      <td>13</td>\n",
              "      <td>88.8146</td>\n",
              "      <td>85.0584</td>\n",
              "      <td>86.896</td>\n",
              "      <td>3057</td>\n",
              "    </tr>\n",
              "    <tr>\n",
              "      <th>13</th>\n",
              "      <td>14</td>\n",
              "      <td>94.0347</td>\n",
              "      <td>94.7714</td>\n",
              "      <td>94.4016</td>\n",
              "      <td>5202</td>\n",
              "    </tr>\n",
              "    <tr>\n",
              "      <th>14</th>\n",
              "      <td>15</td>\n",
              "      <td>81.8731</td>\n",
              "      <td>72.4599</td>\n",
              "      <td>76.8794</td>\n",
              "      <td>813</td>\n",
              "    </tr>\n",
              "    <tr>\n",
              "      <th>15</th>\n",
              "      <td>16</td>\n",
              "      <td>90.3439</td>\n",
              "      <td>85.3039</td>\n",
              "      <td>87.7516</td>\n",
              "      <td>2049</td>\n",
              "    </tr>\n",
              "    <tr>\n",
              "      <th>16</th>\n",
              "      <td>17</td>\n",
              "      <td>97.5191</td>\n",
              "      <td>87.5</td>\n",
              "      <td>92.2383</td>\n",
              "      <td>511</td>\n",
              "    </tr>\n",
              "    <tr>\n",
              "      <th>17</th>\n",
              "      <td>18</td>\n",
              "      <td>97.9452</td>\n",
              "      <td>99.0476</td>\n",
              "      <td>98.4933</td>\n",
              "      <td>1144</td>\n",
              "    </tr>\n",
              "    <tr>\n",
              "      <th>18</th>\n",
              "      <td>19</td>\n",
              "      <td>97.3684</td>\n",
              "      <td>96.5217</td>\n",
              "      <td>96.9432</td>\n",
              "      <td>333</td>\n",
              "    </tr>\n",
              "    <tr>\n",
              "      <th>19</th>\n",
              "      <td>20</td>\n",
              "      <td>98.2456</td>\n",
              "      <td>94.9153</td>\n",
              "      <td>96.5517</td>\n",
              "      <td>280</td>\n",
              "    </tr>\n",
              "    <tr>\n",
              "      <th>20</th>\n",
              "      <td>21</td>\n",
              "      <td>92.8341</td>\n",
              "      <td>94.9175</td>\n",
              "      <td>93.8642</td>\n",
              "      <td>1438</td>\n",
              "    </tr>\n",
              "    <tr>\n",
              "      <th>21</th>\n",
              "      <td>22</td>\n",
              "      <td>82.8905</td>\n",
              "      <td>79.7879</td>\n",
              "      <td>81.3096</td>\n",
              "      <td>1279</td>\n",
              "    </tr>\n",
              "    <tr>\n",
              "      <th>22</th>\n",
              "      <td>23</td>\n",
              "      <td>88.459</td>\n",
              "      <td>95.606</td>\n",
              "      <td>91.8937</td>\n",
              "      <td>1349</td>\n",
              "    </tr>\n",
              "    <tr>\n",
              "      <th>23</th>\n",
              "      <td>24</td>\n",
              "      <td>87.3303</td>\n",
              "      <td>84.3716</td>\n",
              "      <td>85.8255</td>\n",
              "      <td>772</td>\n",
              "    </tr>\n",
              "    <tr>\n",
              "      <th>24</th>\n",
              "      <td>25</td>\n",
              "      <td>89.1089</td>\n",
              "      <td>65.3753</td>\n",
              "      <td>75.419</td>\n",
              "      <td>270</td>\n",
              "    </tr>\n",
              "    <tr>\n",
              "      <th>25</th>\n",
              "      <td>26</td>\n",
              "      <td>95.7317</td>\n",
              "      <td>89.2045</td>\n",
              "      <td>92.3529</td>\n",
              "      <td>157</td>\n",
              "    </tr>\n",
              "    <tr>\n",
              "      <th>26</th>\n",
              "      <td>27</td>\n",
              "      <td>92.5926</td>\n",
              "      <td>76.3359</td>\n",
              "      <td>83.682</td>\n",
              "      <td>100</td>\n",
              "    </tr>\n",
              "    <tr>\n",
              "      <th>27</th>\n",
              "      <td>29</td>\n",
              "      <td>92.4242</td>\n",
              "      <td>96.519</td>\n",
              "      <td>94.4272</td>\n",
              "      <td>305</td>\n",
              "    </tr>\n",
              "    <tr>\n",
              "      <th>28</th>\n",
              "      <td>30</td>\n",
              "      <td>72.2222</td>\n",
              "      <td>76.4706</td>\n",
              "      <td>74.2857</td>\n",
              "      <td>78</td>\n",
              "    </tr>\n",
              "    <tr>\n",
              "      <th>29</th>\n",
              "      <td>31</td>\n",
              "      <td>55.8442</td>\n",
              "      <td>83.4951</td>\n",
              "      <td>66.9261</td>\n",
              "      <td>86</td>\n",
              "    </tr>\n",
              "    <tr>\n",
              "      <th>30</th>\n",
              "      <td>32</td>\n",
              "      <td>66.6667</td>\n",
              "      <td>59.5506</td>\n",
              "      <td>62.908</td>\n",
              "      <td>106</td>\n",
              "    </tr>\n",
              "    <tr>\n",
              "      <th>31</th>\n",
              "      <td>33</td>\n",
              "      <td>82.9268</td>\n",
              "      <td>50</td>\n",
              "      <td>62.3853</td>\n",
              "      <td>34</td>\n",
              "    </tr>\n",
              "    <tr>\n",
              "      <th>32</th>\n",
              "      <td>34</td>\n",
              "      <td>92.4494</td>\n",
              "      <td>89.3238</td>\n",
              "      <td>90.8597</td>\n",
              "      <td>502</td>\n",
              "    </tr>\n",
              "    <tr>\n",
              "      <th>33</th>\n",
              "      <td>35</td>\n",
              "      <td>38.4615</td>\n",
              "      <td>55.5556</td>\n",
              "      <td>45.4545</td>\n",
              "      <td>5</td>\n",
              "    </tr>\n",
              "    <tr>\n",
              "      <th>34</th>\n",
              "      <td>36</td>\n",
              "      <td>100</td>\n",
              "      <td>81.25</td>\n",
              "      <td>89.6552</td>\n",
              "      <td>13</td>\n",
              "    </tr>\n",
              "    <tr>\n",
              "      <th>35</th>\n",
              "      <td>37</td>\n",
              "      <td>90.1786</td>\n",
              "      <td>99.0196</td>\n",
              "      <td>94.3925</td>\n",
              "      <td>101</td>\n",
              "    </tr>\n",
              "    <tr>\n",
              "      <th>36</th>\n",
              "      <td>38</td>\n",
              "      <td>59.375</td>\n",
              "      <td>48.7179</td>\n",
              "      <td>53.5211</td>\n",
              "      <td>19</td>\n",
              "    </tr>\n",
              "    <tr>\n",
              "      <th>37</th>\n",
              "      <td>39</td>\n",
              "      <td>72.549</td>\n",
              "      <td>79.2857</td>\n",
              "      <td>75.7679</td>\n",
              "      <td>111</td>\n",
              "    </tr>\n",
              "    <tr>\n",
              "      <th>38</th>\n",
              "      <td>40</td>\n",
              "      <td>100</td>\n",
              "      <td>100</td>\n",
              "      <td>100</td>\n",
              "      <td>280</td>\n",
              "    </tr>\n",
              "    <tr>\n",
              "      <th>39</th>\n",
              "      <td>41</td>\n",
              "      <td>80</td>\n",
              "      <td>80</td>\n",
              "      <td>80</td>\n",
              "      <td>16</td>\n",
              "    </tr>\n",
              "    <tr>\n",
              "      <th>40</th>\n",
              "      <td>42</td>\n",
              "      <td>100</td>\n",
              "      <td>88.2353</td>\n",
              "      <td>93.75</td>\n",
              "      <td>15</td>\n",
              "    </tr>\n",
              "    <tr>\n",
              "      <th>41</th>\n",
              "      <td>43</td>\n",
              "      <td>33.3333</td>\n",
              "      <td>11.1111</td>\n",
              "      <td>16.6667</td>\n",
              "      <td>1</td>\n",
              "    </tr>\n",
              "    <tr>\n",
              "      <th>42</th>\n",
              "      <td>45</td>\n",
              "      <td>0</td>\n",
              "      <td>0</td>\n",
              "      <td>-</td>\n",
              "      <td>0</td>\n",
              "    </tr>\n",
              "    <tr>\n",
              "      <th>43</th>\n",
              "      <td>46</td>\n",
              "      <td>-</td>\n",
              "      <td>0</td>\n",
              "      <td>-</td>\n",
              "      <td>0</td>\n",
              "    </tr>\n",
              "    <tr>\n",
              "      <th>44</th>\n",
              "      <td>accuracy=92.98</td>\n",
              "      <td></td>\n",
              "      <td></td>\n",
              "      <td></td>\n",
              "      <td></td>\n",
              "    </tr>\n",
              "  </tbody>\n",
              "</table>\n",
              "</div>"
            ],
            "text/plain": [
              "               tag precision   recall  f_score correct_count\n",
              "0                1   99.8095  99.5387  99.6739          3668\n",
              "1                2   94.6542  93.5984  94.1234          7720\n",
              "2                3   90.5368  96.0744  93.2234         16226\n",
              "3                4   99.9378  99.4196   99.678         12847\n",
              "4                5        88  98.5075  92.9577            66\n",
              "5                6   98.7552  91.1877  94.8207           476\n",
              "6                7    96.884  97.2102  97.0468          2021\n",
              "7                8   71.6783  49.3976  58.4879           205\n",
              "8                9   58.9202  68.2065  63.2242           251\n",
              "9               10   63.1858  42.5507  50.8547           357\n",
              "10              11   84.3137      100  91.4894            86\n",
              "11              12   96.8711  96.6292    96.75           774\n",
              "12              13   88.8146  85.0584   86.896          3057\n",
              "13              14   94.0347  94.7714  94.4016          5202\n",
              "14              15   81.8731  72.4599  76.8794           813\n",
              "15              16   90.3439  85.3039  87.7516          2049\n",
              "16              17   97.5191     87.5  92.2383           511\n",
              "17              18   97.9452  99.0476  98.4933          1144\n",
              "18              19   97.3684  96.5217  96.9432           333\n",
              "19              20   98.2456  94.9153  96.5517           280\n",
              "20              21   92.8341  94.9175  93.8642          1438\n",
              "21              22   82.8905  79.7879  81.3096          1279\n",
              "22              23    88.459   95.606  91.8937          1349\n",
              "23              24   87.3303  84.3716  85.8255           772\n",
              "24              25   89.1089  65.3753   75.419           270\n",
              "25              26   95.7317  89.2045  92.3529           157\n",
              "26              27   92.5926  76.3359   83.682           100\n",
              "27              29   92.4242   96.519  94.4272           305\n",
              "28              30   72.2222  76.4706  74.2857            78\n",
              "29              31   55.8442  83.4951  66.9261            86\n",
              "30              32   66.6667  59.5506   62.908           106\n",
              "31              33   82.9268       50  62.3853            34\n",
              "32              34   92.4494  89.3238  90.8597           502\n",
              "33              35   38.4615  55.5556  45.4545             5\n",
              "34              36       100    81.25  89.6552            13\n",
              "35              37   90.1786  99.0196  94.3925           101\n",
              "36              38    59.375  48.7179  53.5211            19\n",
              "37              39    72.549  79.2857  75.7679           111\n",
              "38              40       100      100      100           280\n",
              "39              41        80       80       80            16\n",
              "40              42       100  88.2353    93.75            15\n",
              "41              43   33.3333  11.1111  16.6667             1\n",
              "42              45         0        0        -             0\n",
              "43              46         -        0        -             0\n",
              "44  accuracy=92.98                                          "
            ]
          },
          "metadata": {
            "tags": []
          }
        },
        {
          "output_type": "stream",
          "text": [
            "CPU times: user 3.11 s, sys: 136 ms, total: 3.25 s\n",
            "Wall time: 2.83 s\n"
          ],
          "name": "stdout"
        }
      ]
    },
    {
      "cell_type": "markdown",
      "metadata": {
        "id": "H0NKka14hHQw"
      },
      "source": [
        "## 4.2 CRF Viterbi"
      ]
    },
    {
      "cell_type": "markdown",
      "metadata": {
        "id": "ijd1rwTghHQx"
      },
      "source": [
        "Your next task is to incorporate Conditional random fields (CRF) to your model.\n",
        "\n",
        "To use the CRF layer, you need to use an extension repository for tensorflow library, call tf2crf. If you want to see the detailed implementation, you should read the official tensorflow extention of CRF (https://www.tensorflow.org/addons/api_docs/python/tfa/text).\n",
        "\n",
        "tf2crf link :  https://github.com/xuxingya/tf2crf\n",
        "\n",
        "For inference, you should look at crf.py at the method call and view the input/output argmunets. \n",
        "Link : https://github.com/xuxingya/tf2crf/blob/master/tf2crf/crf.py\n",
        "\n"
      ]
    },
    {
      "cell_type": "markdown",
      "metadata": {
        "id": "KuybajePhHQy"
      },
      "source": [
        "\n",
        "### 4.2.1 CRF without pretrained weight\n",
        "### #TODO 1\n",
        "Incoperate CRF layer to your model in 4.1. CRF is quite complex compare to previous example model, so you should train it with more epoch, so it can converge.\n",
        "\n",
        "To finish this excercise you must train the model and show the evaluation report with this model as shown in the example.\n",
        "\n",
        "Do not forget to save this model weight."
      ]
    },
    {
      "cell_type": "code",
      "metadata": {
        "id": "lEV0q1vAhHQy",
        "colab": {
          "base_uri": "https://localhost:8080/"
        },
        "outputId": "fe4b2544-20ec-4a4f-a22e-1378a0877a04"
      },
      "source": [
        "from tf2crf import CRF, ModelWithCRFLoss\r\n",
        "\r\n",
        "inputs = Input(shape=(102,), dtype='int32')\r\n",
        "output = (Embedding(len(word_to_idx),32,input_length=102,mask_zero=True))(inputs)\r\n",
        "output = Bidirectional(GRU(32, return_sequences=True))(output)\r\n",
        "output = Dropout(0.2)(output)\r\n",
        "output = Dense(n_classes,activation=None)(output)\r\n",
        "output = CRF(dtype='float32')(output)\r\n",
        "model = ModelWithCRFLoss(Model(inputs, output))\r\n",
        "model.compile(optimizer=Adam(lr=0.001), metrics=['categorical_accuracy'])\r\n",
        "\r\n",
        "# model.build((64, 102,))\r\n",
        "# model.summary()\r\n",
        "model.fit(x_train,y=np.argmax(y_train, axis=2), batch_size=1024,epochs=50,verbose=1)"
      ],
      "execution_count": 126,
      "outputs": [
        {
          "output_type": "stream",
          "text": [
            "Epoch 1/50\n",
            "19/19 [==============================] - 12s 185ms/step - crf_loss: 56.1948 - accuracy: 0.0559\n",
            "Epoch 2/50\n",
            "19/19 [==============================] - 3s 183ms/step - crf_loss: 47.9553 - accuracy: 0.2887\n",
            "Epoch 3/50\n",
            "19/19 [==============================] - 3s 183ms/step - crf_loss: 38.9276 - accuracy: 0.2736\n",
            "Epoch 4/50\n",
            "19/19 [==============================] - 3s 184ms/step - crf_loss: 35.5557 - accuracy: 0.3363\n",
            "Epoch 5/50\n",
            "19/19 [==============================] - 4s 187ms/step - crf_loss: 32.8278 - accuracy: 0.4139\n",
            "Epoch 6/50\n",
            "19/19 [==============================] - 3s 184ms/step - crf_loss: 28.0864 - accuracy: 0.5017\n",
            "Epoch 7/50\n",
            "19/19 [==============================] - 3s 183ms/step - crf_loss: 23.7575 - accuracy: 0.5804\n",
            "Epoch 8/50\n",
            "19/19 [==============================] - 4s 188ms/step - crf_loss: 19.6386 - accuracy: 0.6828\n",
            "Epoch 9/50\n",
            "19/19 [==============================] - 4s 185ms/step - crf_loss: 15.6268 - accuracy: 0.7822\n",
            "Epoch 10/50\n",
            "19/19 [==============================] - 4s 184ms/step - crf_loss: 12.3695 - accuracy: 0.8394\n",
            "Epoch 11/50\n",
            "19/19 [==============================] - 3s 181ms/step - crf_loss: 10.2042 - accuracy: 0.8733\n",
            "Epoch 12/50\n",
            "19/19 [==============================] - 3s 182ms/step - crf_loss: 8.6235 - accuracy: 0.8919\n",
            "Epoch 13/50\n",
            "19/19 [==============================] - 4s 185ms/step - crf_loss: 7.4601 - accuracy: 0.9045\n",
            "Epoch 14/50\n",
            "19/19 [==============================] - 3s 182ms/step - crf_loss: 6.6743 - accuracy: 0.9135\n",
            "Epoch 15/50\n",
            "19/19 [==============================] - 4s 186ms/step - crf_loss: 5.9258 - accuracy: 0.9194\n",
            "Epoch 16/50\n",
            "19/19 [==============================] - 4s 189ms/step - crf_loss: 5.4056 - accuracy: 0.9244\n",
            "Epoch 17/50\n",
            "19/19 [==============================] - 4s 186ms/step - crf_loss: 5.0116 - accuracy: 0.9288\n",
            "Epoch 18/50\n",
            "19/19 [==============================] - 4s 187ms/step - crf_loss: 4.6524 - accuracy: 0.9325\n",
            "Epoch 19/50\n",
            "19/19 [==============================] - 3s 184ms/step - crf_loss: 4.2767 - accuracy: 0.9351\n",
            "Epoch 20/50\n",
            "19/19 [==============================] - 4s 185ms/step - crf_loss: 4.0340 - accuracy: 0.9372\n",
            "Epoch 21/50\n",
            "19/19 [==============================] - 4s 186ms/step - crf_loss: 3.8709 - accuracy: 0.9394\n",
            "Epoch 22/50\n",
            "19/19 [==============================] - 4s 188ms/step - crf_loss: 3.6103 - accuracy: 0.9410\n",
            "Epoch 23/50\n",
            "19/19 [==============================] - 4s 188ms/step - crf_loss: 3.5763 - accuracy: 0.9420\n",
            "Epoch 24/50\n",
            "19/19 [==============================] - 4s 186ms/step - crf_loss: 3.3989 - accuracy: 0.9429\n",
            "Epoch 25/50\n",
            "19/19 [==============================] - 3s 181ms/step - crf_loss: 3.2399 - accuracy: 0.9440\n",
            "Epoch 26/50\n",
            "19/19 [==============================] - 3s 184ms/step - crf_loss: 3.1905 - accuracy: 0.9449\n",
            "Epoch 27/50\n",
            "19/19 [==============================] - 4s 186ms/step - crf_loss: 3.1228 - accuracy: 0.9458\n",
            "Epoch 28/50\n",
            "19/19 [==============================] - 3s 181ms/step - crf_loss: 3.0157 - accuracy: 0.9468\n",
            "Epoch 29/50\n",
            "19/19 [==============================] - 3s 181ms/step - crf_loss: 2.9257 - accuracy: 0.9471\n",
            "Epoch 30/50\n",
            "19/19 [==============================] - 3s 184ms/step - crf_loss: 2.7979 - accuracy: 0.9485\n",
            "Epoch 31/50\n",
            "19/19 [==============================] - 4s 189ms/step - crf_loss: 2.7842 - accuracy: 0.9489\n",
            "Epoch 32/50\n",
            "19/19 [==============================] - 4s 185ms/step - crf_loss: 2.6958 - accuracy: 0.9498\n",
            "Epoch 33/50\n",
            "19/19 [==============================] - 4s 188ms/step - crf_loss: 2.6799 - accuracy: 0.9500\n",
            "Epoch 34/50\n",
            "19/19 [==============================] - 4s 189ms/step - crf_loss: 2.6402 - accuracy: 0.9503\n",
            "Epoch 35/50\n",
            "19/19 [==============================] - 4s 188ms/step - crf_loss: 2.6197 - accuracy: 0.9511\n",
            "Epoch 36/50\n",
            "19/19 [==============================] - 4s 188ms/step - crf_loss: 2.5721 - accuracy: 0.9518\n",
            "Epoch 37/50\n",
            "19/19 [==============================] - 3s 184ms/step - crf_loss: 2.4870 - accuracy: 0.9520\n",
            "Epoch 38/50\n",
            "19/19 [==============================] - 4s 187ms/step - crf_loss: 2.5214 - accuracy: 0.9525\n",
            "Epoch 39/50\n",
            "19/19 [==============================] - 3s 182ms/step - crf_loss: 2.4772 - accuracy: 0.9531\n",
            "Epoch 40/50\n",
            "19/19 [==============================] - 3s 183ms/step - crf_loss: 2.3399 - accuracy: 0.9535\n",
            "Epoch 41/50\n",
            "19/19 [==============================] - 4s 188ms/step - crf_loss: 2.4376 - accuracy: 0.9537\n",
            "Epoch 42/50\n",
            "19/19 [==============================] - 3s 183ms/step - crf_loss: 2.3660 - accuracy: 0.9540\n",
            "Epoch 43/50\n",
            "19/19 [==============================] - 3s 182ms/step - crf_loss: 2.3053 - accuracy: 0.9544\n",
            "Epoch 44/50\n",
            "19/19 [==============================] - 4s 187ms/step - crf_loss: 2.2672 - accuracy: 0.9549\n",
            "Epoch 45/50\n",
            "19/19 [==============================] - 3s 182ms/step - crf_loss: 2.2763 - accuracy: 0.9554\n",
            "Epoch 46/50\n",
            "19/19 [==============================] - 3s 183ms/step - crf_loss: 2.2883 - accuracy: 0.9554\n",
            "Epoch 47/50\n",
            "19/19 [==============================] - 4s 189ms/step - crf_loss: 2.2281 - accuracy: 0.9560\n",
            "Epoch 48/50\n",
            "19/19 [==============================] - 3s 182ms/step - crf_loss: 2.2262 - accuracy: 0.9561\n",
            "Epoch 49/50\n",
            "19/19 [==============================] - 3s 183ms/step - crf_loss: 2.1754 - accuracy: 0.9565\n",
            "Epoch 50/50\n",
            "19/19 [==============================] - 3s 180ms/step - crf_loss: 2.2039 - accuracy: 0.9568\n"
          ],
          "name": "stdout"
        },
        {
          "output_type": "execute_result",
          "data": {
            "text/plain": [
              "<tensorflow.python.keras.callbacks.History at 0x7fd4fd3944a8>"
            ]
          },
          "metadata": {
            "tags": []
          },
          "execution_count": 126
        }
      ]
    },
    {
      "cell_type": "code",
      "metadata": {
        "colab": {
          "base_uri": "https://localhost:8080/",
          "height": 1000
        },
        "id": "TuqG2g72eeRy",
        "outputId": "ed2e2575-925b-4c80-c52d-8eb3172534b8"
      },
      "source": [
        "%%time\r\n",
        "model.save_weights('data/my_pos_with_crf_no_pretrained.h5')\r\n",
        "#model.load_weights('data/my_pos_with_crf_no_pretrained.h5')\r\n",
        "y_pred=model.predict(x_test)\r\n",
        "evaluation_report(y_test, y_pred[0])"
      ],
      "execution_count": 127,
      "outputs": [
        {
          "output_type": "display_data",
          "data": {
            "text/html": [
              "<div>\n",
              "<style scoped>\n",
              "    .dataframe tbody tr th:only-of-type {\n",
              "        vertical-align: middle;\n",
              "    }\n",
              "\n",
              "    .dataframe tbody tr th {\n",
              "        vertical-align: top;\n",
              "    }\n",
              "\n",
              "    .dataframe thead th {\n",
              "        text-align: right;\n",
              "    }\n",
              "</style>\n",
              "<table border=\"1\" class=\"dataframe\">\n",
              "  <thead>\n",
              "    <tr style=\"text-align: right;\">\n",
              "      <th></th>\n",
              "      <th>tag</th>\n",
              "      <th>precision</th>\n",
              "      <th>recall</th>\n",
              "      <th>f_score</th>\n",
              "      <th>correct_count</th>\n",
              "    </tr>\n",
              "  </thead>\n",
              "  <tbody>\n",
              "    <tr>\n",
              "      <th>0</th>\n",
              "      <td>0</td>\n",
              "      <td>-</td>\n",
              "      <td>0</td>\n",
              "      <td>-</td>\n",
              "      <td>0</td>\n",
              "    </tr>\n",
              "    <tr>\n",
              "      <th>1</th>\n",
              "      <td>1</td>\n",
              "      <td>99.864</td>\n",
              "      <td>99.6201</td>\n",
              "      <td>99.7419</td>\n",
              "      <td>3671</td>\n",
              "    </tr>\n",
              "    <tr>\n",
              "      <th>2</th>\n",
              "      <td>2</td>\n",
              "      <td>94.7936</td>\n",
              "      <td>93.8167</td>\n",
              "      <td>94.3026</td>\n",
              "      <td>7738</td>\n",
              "    </tr>\n",
              "    <tr>\n",
              "      <th>3</th>\n",
              "      <td>3</td>\n",
              "      <td>90.2791</td>\n",
              "      <td>96.7257</td>\n",
              "      <td>93.3913</td>\n",
              "      <td>16336</td>\n",
              "    </tr>\n",
              "    <tr>\n",
              "      <th>4</th>\n",
              "      <td>4</td>\n",
              "      <td>99.8603</td>\n",
              "      <td>99.5898</td>\n",
              "      <td>99.7249</td>\n",
              "      <td>12869</td>\n",
              "    </tr>\n",
              "    <tr>\n",
              "      <th>5</th>\n",
              "      <td>5</td>\n",
              "      <td>95.6522</td>\n",
              "      <td>98.5075</td>\n",
              "      <td>97.0588</td>\n",
              "      <td>66</td>\n",
              "    </tr>\n",
              "    <tr>\n",
              "      <th>6</th>\n",
              "      <td>6</td>\n",
              "      <td>99.7817</td>\n",
              "      <td>87.5479</td>\n",
              "      <td>93.2653</td>\n",
              "      <td>457</td>\n",
              "    </tr>\n",
              "    <tr>\n",
              "      <th>7</th>\n",
              "      <td>7</td>\n",
              "      <td>97.4568</td>\n",
              "      <td>97.6912</td>\n",
              "      <td>97.5739</td>\n",
              "      <td>2031</td>\n",
              "    </tr>\n",
              "    <tr>\n",
              "      <th>8</th>\n",
              "      <td>8</td>\n",
              "      <td>71.0843</td>\n",
              "      <td>42.6506</td>\n",
              "      <td>53.3133</td>\n",
              "      <td>177</td>\n",
              "    </tr>\n",
              "    <tr>\n",
              "      <th>9</th>\n",
              "      <td>9</td>\n",
              "      <td>72.1154</td>\n",
              "      <td>61.1413</td>\n",
              "      <td>66.1765</td>\n",
              "      <td>225</td>\n",
              "    </tr>\n",
              "    <tr>\n",
              "      <th>10</th>\n",
              "      <td>10</td>\n",
              "      <td>63.6528</td>\n",
              "      <td>41.9547</td>\n",
              "      <td>50.5747</td>\n",
              "      <td>352</td>\n",
              "    </tr>\n",
              "    <tr>\n",
              "      <th>11</th>\n",
              "      <td>11</td>\n",
              "      <td>90.2174</td>\n",
              "      <td>96.5116</td>\n",
              "      <td>93.2584</td>\n",
              "      <td>83</td>\n",
              "    </tr>\n",
              "    <tr>\n",
              "      <th>12</th>\n",
              "      <td>12</td>\n",
              "      <td>96.5728</td>\n",
              "      <td>98.5019</td>\n",
              "      <td>97.5278</td>\n",
              "      <td>789</td>\n",
              "    </tr>\n",
              "    <tr>\n",
              "      <th>13</th>\n",
              "      <td>13</td>\n",
              "      <td>89.3913</td>\n",
              "      <td>85.8097</td>\n",
              "      <td>87.5639</td>\n",
              "      <td>3084</td>\n",
              "    </tr>\n",
              "    <tr>\n",
              "      <th>14</th>\n",
              "      <td>14</td>\n",
              "      <td>94.8516</td>\n",
              "      <td>94.3159</td>\n",
              "      <td>94.583</td>\n",
              "      <td>5177</td>\n",
              "    </tr>\n",
              "    <tr>\n",
              "      <th>15</th>\n",
              "      <td>15</td>\n",
              "      <td>82.5</td>\n",
              "      <td>70.5882</td>\n",
              "      <td>76.0807</td>\n",
              "      <td>792</td>\n",
              "    </tr>\n",
              "    <tr>\n",
              "      <th>16</th>\n",
              "      <td>16</td>\n",
              "      <td>88.3278</td>\n",
              "      <td>88.8426</td>\n",
              "      <td>88.5845</td>\n",
              "      <td>2134</td>\n",
              "    </tr>\n",
              "    <tr>\n",
              "      <th>17</th>\n",
              "      <td>17</td>\n",
              "      <td>97.3978</td>\n",
              "      <td>89.726</td>\n",
              "      <td>93.4046</td>\n",
              "      <td>524</td>\n",
              "    </tr>\n",
              "    <tr>\n",
              "      <th>18</th>\n",
              "      <td>18</td>\n",
              "      <td>97.3662</td>\n",
              "      <td>99.2208</td>\n",
              "      <td>98.2847</td>\n",
              "      <td>1146</td>\n",
              "    </tr>\n",
              "    <tr>\n",
              "      <th>19</th>\n",
              "      <td>19</td>\n",
              "      <td>97.6471</td>\n",
              "      <td>96.2319</td>\n",
              "      <td>96.9343</td>\n",
              "      <td>332</td>\n",
              "    </tr>\n",
              "    <tr>\n",
              "      <th>20</th>\n",
              "      <td>20</td>\n",
              "      <td>97.6109</td>\n",
              "      <td>96.9492</td>\n",
              "      <td>97.2789</td>\n",
              "      <td>286</td>\n",
              "    </tr>\n",
              "    <tr>\n",
              "      <th>21</th>\n",
              "      <td>21</td>\n",
              "      <td>94.673</td>\n",
              "      <td>92.6733</td>\n",
              "      <td>93.6624</td>\n",
              "      <td>1404</td>\n",
              "    </tr>\n",
              "    <tr>\n",
              "      <th>22</th>\n",
              "      <td>22</td>\n",
              "      <td>84.2755</td>\n",
              "      <td>80.9108</td>\n",
              "      <td>82.5589</td>\n",
              "      <td>1297</td>\n",
              "    </tr>\n",
              "    <tr>\n",
              "      <th>23</th>\n",
              "      <td>23</td>\n",
              "      <td>88.9109</td>\n",
              "      <td>95.4642</td>\n",
              "      <td>92.0711</td>\n",
              "      <td>1347</td>\n",
              "    </tr>\n",
              "    <tr>\n",
              "      <th>24</th>\n",
              "      <td>24</td>\n",
              "      <td>84.2503</td>\n",
              "      <td>85.3552</td>\n",
              "      <td>84.7991</td>\n",
              "      <td>781</td>\n",
              "    </tr>\n",
              "    <tr>\n",
              "      <th>25</th>\n",
              "      <td>25</td>\n",
              "      <td>89.7516</td>\n",
              "      <td>69.9758</td>\n",
              "      <td>78.6395</td>\n",
              "      <td>289</td>\n",
              "    </tr>\n",
              "    <tr>\n",
              "      <th>26</th>\n",
              "      <td>26</td>\n",
              "      <td>93.9024</td>\n",
              "      <td>87.5</td>\n",
              "      <td>90.5882</td>\n",
              "      <td>154</td>\n",
              "    </tr>\n",
              "    <tr>\n",
              "      <th>27</th>\n",
              "      <td>27</td>\n",
              "      <td>92.1739</td>\n",
              "      <td>80.916</td>\n",
              "      <td>86.1789</td>\n",
              "      <td>106</td>\n",
              "    </tr>\n",
              "    <tr>\n",
              "      <th>28</th>\n",
              "      <td>29</td>\n",
              "      <td>92.7492</td>\n",
              "      <td>97.1519</td>\n",
              "      <td>94.8995</td>\n",
              "      <td>307</td>\n",
              "    </tr>\n",
              "    <tr>\n",
              "      <th>29</th>\n",
              "      <td>30</td>\n",
              "      <td>73.3333</td>\n",
              "      <td>75.4902</td>\n",
              "      <td>74.3961</td>\n",
              "      <td>77</td>\n",
              "    </tr>\n",
              "    <tr>\n",
              "      <th>30</th>\n",
              "      <td>31</td>\n",
              "      <td>62.2378</td>\n",
              "      <td>86.4078</td>\n",
              "      <td>72.3577</td>\n",
              "      <td>89</td>\n",
              "    </tr>\n",
              "    <tr>\n",
              "      <th>31</th>\n",
              "      <td>32</td>\n",
              "      <td>86.4583</td>\n",
              "      <td>46.6292</td>\n",
              "      <td>60.5839</td>\n",
              "      <td>83</td>\n",
              "    </tr>\n",
              "    <tr>\n",
              "      <th>32</th>\n",
              "      <td>33</td>\n",
              "      <td>93.75</td>\n",
              "      <td>44.1176</td>\n",
              "      <td>60</td>\n",
              "      <td>30</td>\n",
              "    </tr>\n",
              "    <tr>\n",
              "      <th>33</th>\n",
              "      <td>34</td>\n",
              "      <td>90.3678</td>\n",
              "      <td>91.8149</td>\n",
              "      <td>91.0856</td>\n",
              "      <td>516</td>\n",
              "    </tr>\n",
              "    <tr>\n",
              "      <th>34</th>\n",
              "      <td>35</td>\n",
              "      <td>83.3333</td>\n",
              "      <td>55.5556</td>\n",
              "      <td>66.6667</td>\n",
              "      <td>5</td>\n",
              "    </tr>\n",
              "    <tr>\n",
              "      <th>35</th>\n",
              "      <td>36</td>\n",
              "      <td>-</td>\n",
              "      <td>0</td>\n",
              "      <td>-</td>\n",
              "      <td>0</td>\n",
              "    </tr>\n",
              "    <tr>\n",
              "      <th>36</th>\n",
              "      <td>37</td>\n",
              "      <td>91.8182</td>\n",
              "      <td>99.0196</td>\n",
              "      <td>95.283</td>\n",
              "      <td>101</td>\n",
              "    </tr>\n",
              "    <tr>\n",
              "      <th>37</th>\n",
              "      <td>38</td>\n",
              "      <td>66.6667</td>\n",
              "      <td>51.2821</td>\n",
              "      <td>57.971</td>\n",
              "      <td>20</td>\n",
              "    </tr>\n",
              "    <tr>\n",
              "      <th>38</th>\n",
              "      <td>39</td>\n",
              "      <td>78.3217</td>\n",
              "      <td>80</td>\n",
              "      <td>79.1519</td>\n",
              "      <td>112</td>\n",
              "    </tr>\n",
              "    <tr>\n",
              "      <th>39</th>\n",
              "      <td>40</td>\n",
              "      <td>99.6441</td>\n",
              "      <td>100</td>\n",
              "      <td>99.8217</td>\n",
              "      <td>280</td>\n",
              "    </tr>\n",
              "    <tr>\n",
              "      <th>40</th>\n",
              "      <td>41</td>\n",
              "      <td>88.2353</td>\n",
              "      <td>75</td>\n",
              "      <td>81.0811</td>\n",
              "      <td>15</td>\n",
              "    </tr>\n",
              "    <tr>\n",
              "      <th>41</th>\n",
              "      <td>42</td>\n",
              "      <td>66.6667</td>\n",
              "      <td>82.3529</td>\n",
              "      <td>73.6842</td>\n",
              "      <td>14</td>\n",
              "    </tr>\n",
              "    <tr>\n",
              "      <th>42</th>\n",
              "      <td>43</td>\n",
              "      <td>-</td>\n",
              "      <td>0</td>\n",
              "      <td>-</td>\n",
              "      <td>0</td>\n",
              "    </tr>\n",
              "    <tr>\n",
              "      <th>43</th>\n",
              "      <td>45</td>\n",
              "      <td>-</td>\n",
              "      <td>0</td>\n",
              "      <td>-</td>\n",
              "      <td>0</td>\n",
              "    </tr>\n",
              "    <tr>\n",
              "      <th>44</th>\n",
              "      <td>46</td>\n",
              "      <td>-</td>\n",
              "      <td>0</td>\n",
              "      <td>-</td>\n",
              "      <td>0</td>\n",
              "    </tr>\n",
              "    <tr>\n",
              "      <th>45</th>\n",
              "      <td>accuracy=93.23</td>\n",
              "      <td></td>\n",
              "      <td></td>\n",
              "      <td></td>\n",
              "      <td></td>\n",
              "    </tr>\n",
              "  </tbody>\n",
              "</table>\n",
              "</div>"
            ],
            "text/plain": [
              "               tag precision   recall  f_score correct_count\n",
              "0                0         -        0        -             0\n",
              "1                1    99.864  99.6201  99.7419          3671\n",
              "2                2   94.7936  93.8167  94.3026          7738\n",
              "3                3   90.2791  96.7257  93.3913         16336\n",
              "4                4   99.8603  99.5898  99.7249         12869\n",
              "5                5   95.6522  98.5075  97.0588            66\n",
              "6                6   99.7817  87.5479  93.2653           457\n",
              "7                7   97.4568  97.6912  97.5739          2031\n",
              "8                8   71.0843  42.6506  53.3133           177\n",
              "9                9   72.1154  61.1413  66.1765           225\n",
              "10              10   63.6528  41.9547  50.5747           352\n",
              "11              11   90.2174  96.5116  93.2584            83\n",
              "12              12   96.5728  98.5019  97.5278           789\n",
              "13              13   89.3913  85.8097  87.5639          3084\n",
              "14              14   94.8516  94.3159   94.583          5177\n",
              "15              15      82.5  70.5882  76.0807           792\n",
              "16              16   88.3278  88.8426  88.5845          2134\n",
              "17              17   97.3978   89.726  93.4046           524\n",
              "18              18   97.3662  99.2208  98.2847          1146\n",
              "19              19   97.6471  96.2319  96.9343           332\n",
              "20              20   97.6109  96.9492  97.2789           286\n",
              "21              21    94.673  92.6733  93.6624          1404\n",
              "22              22   84.2755  80.9108  82.5589          1297\n",
              "23              23   88.9109  95.4642  92.0711          1347\n",
              "24              24   84.2503  85.3552  84.7991           781\n",
              "25              25   89.7516  69.9758  78.6395           289\n",
              "26              26   93.9024     87.5  90.5882           154\n",
              "27              27   92.1739   80.916  86.1789           106\n",
              "28              29   92.7492  97.1519  94.8995           307\n",
              "29              30   73.3333  75.4902  74.3961            77\n",
              "30              31   62.2378  86.4078  72.3577            89\n",
              "31              32   86.4583  46.6292  60.5839            83\n",
              "32              33     93.75  44.1176       60            30\n",
              "33              34   90.3678  91.8149  91.0856           516\n",
              "34              35   83.3333  55.5556  66.6667             5\n",
              "35              36         -        0        -             0\n",
              "36              37   91.8182  99.0196   95.283           101\n",
              "37              38   66.6667  51.2821   57.971            20\n",
              "38              39   78.3217       80  79.1519           112\n",
              "39              40   99.6441      100  99.8217           280\n",
              "40              41   88.2353       75  81.0811            15\n",
              "41              42   66.6667  82.3529  73.6842            14\n",
              "42              43         -        0        -             0\n",
              "43              45         -        0        -             0\n",
              "44              46         -        0        -             0\n",
              "45  accuracy=93.23                                          "
            ]
          },
          "metadata": {
            "tags": []
          }
        },
        {
          "output_type": "stream",
          "text": [
            "CPU times: user 19.6 s, sys: 3.3 s, total: 22.9 s\n",
            "Wall time: 9.39 s\n"
          ],
          "name": "stdout"
        }
      ]
    },
    {
      "cell_type": "markdown",
      "metadata": {
        "id": "qOnHO-__kj7T"
      },
      "source": [
        "\n",
        "### 4.2.2 CRF with pretrained weight\n",
        "\n",
        "### #TODO 2\n",
        "\n",
        "We would like you create a neural CRF POS tagger model  with the pretrained word embedding as an input and the word embedding is trainable (not fixed). To finish this excercise you must train the model and show the evaluation report with this model as shown in the example.\n",
        "\n",
        "Please note that the given pretrained word embedding only have weights for the vocabuary in BEST corpus.\n",
        "\n",
        "Optionally, you can use your own pretrained word embedding.\n",
        "\n",
        "#### Hint: You can get the embedding from get_embeddings function from embeddings/emb_reader.py . \n",
        "\n",
        "(You may want to read about Tensorflow Masking layer and Trainable parameter)"
      ]
    },
    {
      "cell_type": "code",
      "metadata": {
        "id": "KVBAv3a9kanH",
        "colab": {
          "base_uri": "https://localhost:8080/"
        },
        "outputId": "0b55035c-ad1c-4e2a-d831-29f22e1c89b3"
      },
      "source": [
        "from embeddings.emb_reader import get_embeddings\r\n",
        "from tf2crf import CRF, ModelWithCRFLoss\r\n",
        "\r\n",
        "embeddings_index = get_embeddings()\r\n",
        "embedding_dim = 64\r\n",
        "num_tokens = len(word_to_idx)\r\n",
        "hits = misses = 0\r\n",
        "\r\n",
        "embedding_matrix = np.random.uniform(-3,3,(num_tokens, embedding_dim))\r\n",
        "for word, i in word_to_idx.items():\r\n",
        "    embedding_vector = embeddings_index.get(word)\r\n",
        "    if embedding_vector is not None:\r\n",
        "        # Words not found in embedding index will be all-zeros.\r\n",
        "        # This includes the representation for \"padding\" and \"OOV\"\r\n",
        "        embedding_matrix[i] = embedding_vector\r\n",
        "        hits += 1\r\n",
        "    else:\r\n",
        "        misses += 1\r\n",
        "print(\"Converted %d words (%d misses)\" % (hits, misses))\r\n",
        "\r\n",
        "inputs = Input(shape=(102,), dtype='int32')\r\n",
        "output = (Embedding(\r\n",
        "    len(word_to_idx),\r\n",
        "    embedding_dim,\r\n",
        "    input_length=102,\r\n",
        "    mask_zero=True,\r\n",
        "    embeddings_initializer=tf.keras.initializers.Constant(embedding_matrix),\r\n",
        "    trainable=True\r\n",
        "    ))(inputs)\r\n",
        "output = Bidirectional(GRU(embedding_dim, return_sequences=True))(output)\r\n",
        "output = Dropout(0.2)(output)\r\n",
        "output = Dense(n_classes,activation=None)(output)\r\n",
        "output = Masking()(output)\r\n",
        "output = CRF(dtype='float32')(output)\r\n",
        "model = ModelWithCRFLoss(Model(inputs, output))\r\n",
        "model.compile(optimizer=Adam(lr=0.001), metrics=['categorical_accuracy'])\r\n",
        "\r\n",
        "# model.build((64, 102,))\r\n",
        "# model.summary()\r\n",
        "model.fit(x_train,y=np.argmax(y_train, axis=2), batch_size=1024,epochs=50,verbose=1)"
      ],
      "execution_count": 124,
      "outputs": [
        {
          "output_type": "stream",
          "text": [
            "Converted 3706 words (11313 misses)\n",
            "Epoch 1/50\n",
            "19/19 [==============================] - 11s 196ms/step - crf_loss: 370.4845 - accuracy: 0.0399\n",
            "Epoch 2/50\n",
            "19/19 [==============================] - 4s 196ms/step - crf_loss: 369.8357 - accuracy: 0.0599\n",
            "Epoch 3/50\n",
            "19/19 [==============================] - 4s 199ms/step - crf_loss: 358.6241 - accuracy: 0.0662\n",
            "Epoch 4/50\n",
            "19/19 [==============================] - 4s 193ms/step - crf_loss: 348.4626 - accuracy: 0.0801\n",
            "Epoch 5/50\n",
            "19/19 [==============================] - 4s 197ms/step - crf_loss: 338.6010 - accuracy: 0.2040\n",
            "Epoch 6/50\n",
            "19/19 [==============================] - 4s 197ms/step - crf_loss: 329.1680 - accuracy: 0.3702\n",
            "Epoch 7/50\n",
            "19/19 [==============================] - 4s 206ms/step - crf_loss: 318.2252 - accuracy: 0.9551\n",
            "Epoch 8/50\n",
            "19/19 [==============================] - 4s 200ms/step - crf_loss: 310.4544 - accuracy: 0.9683\n",
            "Epoch 9/50\n",
            "19/19 [==============================] - 4s 201ms/step - crf_loss: 302.1448 - accuracy: 0.9737\n",
            "Epoch 10/50\n",
            "19/19 [==============================] - 4s 194ms/step - crf_loss: 293.8644 - accuracy: 0.9770\n",
            "Epoch 11/50\n",
            "19/19 [==============================] - 4s 199ms/step - crf_loss: 285.7417 - accuracy: 0.9796\n",
            "Epoch 12/50\n",
            "19/19 [==============================] - 4s 199ms/step - crf_loss: 278.3907 - accuracy: 0.9815\n",
            "Epoch 13/50\n",
            "19/19 [==============================] - 4s 199ms/step - crf_loss: 272.0534 - accuracy: 0.9831\n",
            "Epoch 14/50\n",
            "19/19 [==============================] - 4s 203ms/step - crf_loss: 265.2534 - accuracy: 0.9845\n",
            "Epoch 15/50\n",
            "19/19 [==============================] - 4s 203ms/step - crf_loss: 258.0246 - accuracy: 0.9855\n",
            "Epoch 16/50\n",
            "19/19 [==============================] - 4s 203ms/step - crf_loss: 251.1174 - accuracy: 0.9862\n",
            "Epoch 17/50\n",
            "19/19 [==============================] - 4s 203ms/step - crf_loss: 244.3453 - accuracy: 0.9869\n",
            "Epoch 18/50\n",
            "19/19 [==============================] - 4s 198ms/step - crf_loss: 237.5740 - accuracy: 0.9875\n",
            "Epoch 19/50\n",
            "19/19 [==============================] - 4s 200ms/step - crf_loss: 231.5942 - accuracy: 0.9879\n",
            "Epoch 20/50\n",
            "19/19 [==============================] - 4s 199ms/step - crf_loss: 224.3864 - accuracy: 0.9883\n",
            "Epoch 21/50\n",
            "19/19 [==============================] - 4s 194ms/step - crf_loss: 218.1351 - accuracy: 0.9887\n",
            "Epoch 22/50\n",
            "19/19 [==============================] - 4s 194ms/step - crf_loss: 211.2843 - accuracy: 0.9891\n",
            "Epoch 23/50\n",
            "19/19 [==============================] - 4s 195ms/step - crf_loss: 205.3613 - accuracy: 0.9893\n",
            "Epoch 24/50\n",
            "19/19 [==============================] - 4s 206ms/step - crf_loss: 198.2859 - accuracy: 0.9896\n",
            "Epoch 25/50\n",
            "19/19 [==============================] - 4s 193ms/step - crf_loss: 192.1064 - accuracy: 0.9899\n",
            "Epoch 26/50\n",
            "19/19 [==============================] - 4s 197ms/step - crf_loss: 185.6928 - accuracy: 0.9901\n",
            "Epoch 27/50\n",
            "19/19 [==============================] - 4s 200ms/step - crf_loss: 179.2104 - accuracy: 0.9904\n",
            "Epoch 28/50\n",
            "19/19 [==============================] - 4s 197ms/step - crf_loss: 172.7606 - accuracy: 0.9905\n",
            "Epoch 29/50\n",
            "19/19 [==============================] - 4s 200ms/step - crf_loss: 166.1130 - accuracy: 0.9907\n",
            "Epoch 30/50\n",
            "19/19 [==============================] - 4s 203ms/step - crf_loss: 160.4828 - accuracy: 0.9909\n",
            "Epoch 31/50\n",
            "19/19 [==============================] - 4s 200ms/step - crf_loss: 154.1360 - accuracy: 0.9911\n",
            "Epoch 32/50\n",
            "19/19 [==============================] - 4s 197ms/step - crf_loss: 147.6344 - accuracy: 0.9913\n",
            "Epoch 33/50\n",
            "19/19 [==============================] - 4s 193ms/step - crf_loss: 141.2642 - accuracy: 0.9913\n",
            "Epoch 34/50\n",
            "19/19 [==============================] - 4s 194ms/step - crf_loss: 135.1794 - accuracy: 0.9915\n",
            "Epoch 35/50\n",
            "19/19 [==============================] - 4s 201ms/step - crf_loss: 128.9658 - accuracy: 0.9916\n",
            "Epoch 36/50\n",
            "19/19 [==============================] - 4s 199ms/step - crf_loss: 122.6465 - accuracy: 0.9917\n",
            "Epoch 37/50\n",
            "19/19 [==============================] - 4s 195ms/step - crf_loss: 116.7221 - accuracy: 0.9918\n",
            "Epoch 38/50\n",
            "19/19 [==============================] - 4s 199ms/step - crf_loss: 110.3302 - accuracy: 0.9920\n",
            "Epoch 39/50\n",
            "19/19 [==============================] - 4s 206ms/step - crf_loss: 104.6220 - accuracy: 0.9921\n",
            "Epoch 40/50\n",
            "19/19 [==============================] - 4s 196ms/step - crf_loss: 98.4264 - accuracy: 0.9921\n",
            "Epoch 41/50\n",
            "19/19 [==============================] - 4s 194ms/step - crf_loss: 92.7629 - accuracy: 0.9923\n",
            "Epoch 42/50\n",
            "19/19 [==============================] - 4s 192ms/step - crf_loss: 86.7612 - accuracy: 0.9923\n",
            "Epoch 43/50\n",
            "19/19 [==============================] - 4s 198ms/step - crf_loss: 81.1315 - accuracy: 0.9924\n",
            "Epoch 44/50\n",
            "19/19 [==============================] - 4s 201ms/step - crf_loss: 75.5295 - accuracy: 0.9925\n",
            "Epoch 45/50\n",
            "19/19 [==============================] - 4s 200ms/step - crf_loss: 69.9386 - accuracy: 0.9926\n",
            "Epoch 46/50\n",
            "19/19 [==============================] - 4s 197ms/step - crf_loss: 64.5688 - accuracy: 0.9927\n",
            "Epoch 47/50\n",
            "19/19 [==============================] - 4s 196ms/step - crf_loss: 59.2593 - accuracy: 0.9928\n",
            "Epoch 48/50\n",
            "19/19 [==============================] - 4s 202ms/step - crf_loss: 54.0977 - accuracy: 0.9929\n",
            "Epoch 49/50\n",
            "19/19 [==============================] - 4s 192ms/step - crf_loss: 49.1758 - accuracy: 0.9929\n",
            "Epoch 50/50\n",
            "19/19 [==============================] - 4s 198ms/step - crf_loss: 44.5539 - accuracy: 0.9930\n"
          ],
          "name": "stdout"
        },
        {
          "output_type": "execute_result",
          "data": {
            "text/plain": [
              "<tensorflow.python.keras.callbacks.History at 0x7fd4ff43cef0>"
            ]
          },
          "metadata": {
            "tags": []
          },
          "execution_count": 124
        }
      ]
    },
    {
      "cell_type": "code",
      "metadata": {
        "colab": {
          "base_uri": "https://localhost:8080/",
          "height": 1000
        },
        "id": "qT3y4gqMqOvW",
        "outputId": "f88c2a60-7bbb-487c-9c80-3b2d219f974c"
      },
      "source": [
        "%%time\r\n",
        "model.save_weights('data/my_pos_with_crf_with_pretrained.h5')\r\n",
        "#model.load_weights('data/my_pos_with_crf_with_pretrained.h5')\r\n",
        "y_pred=model.predict(x_test)\r\n",
        "evaluation_report(y_test, y_pred[0])"
      ],
      "execution_count": 125,
      "outputs": [
        {
          "output_type": "display_data",
          "data": {
            "text/html": [
              "<div>\n",
              "<style scoped>\n",
              "    .dataframe tbody tr th:only-of-type {\n",
              "        vertical-align: middle;\n",
              "    }\n",
              "\n",
              "    .dataframe tbody tr th {\n",
              "        vertical-align: top;\n",
              "    }\n",
              "\n",
              "    .dataframe thead th {\n",
              "        text-align: right;\n",
              "    }\n",
              "</style>\n",
              "<table border=\"1\" class=\"dataframe\">\n",
              "  <thead>\n",
              "    <tr style=\"text-align: right;\">\n",
              "      <th></th>\n",
              "      <th>tag</th>\n",
              "      <th>precision</th>\n",
              "      <th>recall</th>\n",
              "      <th>f_score</th>\n",
              "      <th>correct_count</th>\n",
              "    </tr>\n",
              "  </thead>\n",
              "  <tbody>\n",
              "    <tr>\n",
              "      <th>0</th>\n",
              "      <td>0</td>\n",
              "      <td>-</td>\n",
              "      <td>0</td>\n",
              "      <td>-</td>\n",
              "      <td>0</td>\n",
              "    </tr>\n",
              "    <tr>\n",
              "      <th>1</th>\n",
              "      <td>1</td>\n",
              "      <td>99.8368</td>\n",
              "      <td>99.5929</td>\n",
              "      <td>99.7147</td>\n",
              "      <td>3670</td>\n",
              "    </tr>\n",
              "    <tr>\n",
              "      <th>2</th>\n",
              "      <td>2</td>\n",
              "      <td>94.1463</td>\n",
              "      <td>93.5984</td>\n",
              "      <td>93.8716</td>\n",
              "      <td>7720</td>\n",
              "    </tr>\n",
              "    <tr>\n",
              "      <th>3</th>\n",
              "      <td>3</td>\n",
              "      <td>89.7101</td>\n",
              "      <td>96.7375</td>\n",
              "      <td>93.0914</td>\n",
              "      <td>16338</td>\n",
              "    </tr>\n",
              "    <tr>\n",
              "      <th>4</th>\n",
              "      <td>4</td>\n",
              "      <td>99.8989</td>\n",
              "      <td>99.3732</td>\n",
              "      <td>99.6353</td>\n",
              "      <td>12841</td>\n",
              "    </tr>\n",
              "    <tr>\n",
              "      <th>5</th>\n",
              "      <td>5</td>\n",
              "      <td>91.6667</td>\n",
              "      <td>98.5075</td>\n",
              "      <td>94.964</td>\n",
              "      <td>66</td>\n",
              "    </tr>\n",
              "    <tr>\n",
              "      <th>6</th>\n",
              "      <td>6</td>\n",
              "      <td>99.345</td>\n",
              "      <td>87.1648</td>\n",
              "      <td>92.8571</td>\n",
              "      <td>455</td>\n",
              "    </tr>\n",
              "    <tr>\n",
              "      <th>7</th>\n",
              "      <td>7</td>\n",
              "      <td>98.1562</td>\n",
              "      <td>97.3064</td>\n",
              "      <td>97.7295</td>\n",
              "      <td>2023</td>\n",
              "    </tr>\n",
              "    <tr>\n",
              "      <th>8</th>\n",
              "      <td>8</td>\n",
              "      <td>70.9677</td>\n",
              "      <td>53.012</td>\n",
              "      <td>60.6897</td>\n",
              "      <td>220</td>\n",
              "    </tr>\n",
              "    <tr>\n",
              "      <th>9</th>\n",
              "      <td>9</td>\n",
              "      <td>74.5387</td>\n",
              "      <td>54.8913</td>\n",
              "      <td>63.2238</td>\n",
              "      <td>202</td>\n",
              "    </tr>\n",
              "    <tr>\n",
              "      <th>10</th>\n",
              "      <td>10</td>\n",
              "      <td>61.254</td>\n",
              "      <td>45.4112</td>\n",
              "      <td>52.1561</td>\n",
              "      <td>381</td>\n",
              "    </tr>\n",
              "    <tr>\n",
              "      <th>11</th>\n",
              "      <td>11</td>\n",
              "      <td>85.8696</td>\n",
              "      <td>91.8605</td>\n",
              "      <td>88.764</td>\n",
              "      <td>79</td>\n",
              "    </tr>\n",
              "    <tr>\n",
              "      <th>12</th>\n",
              "      <td>12</td>\n",
              "      <td>96.8254</td>\n",
              "      <td>99.0012</td>\n",
              "      <td>97.9012</td>\n",
              "      <td>793</td>\n",
              "    </tr>\n",
              "    <tr>\n",
              "      <th>13</th>\n",
              "      <td>13</td>\n",
              "      <td>88.2709</td>\n",
              "      <td>85.2254</td>\n",
              "      <td>86.7214</td>\n",
              "      <td>3063</td>\n",
              "    </tr>\n",
              "    <tr>\n",
              "      <th>14</th>\n",
              "      <td>14</td>\n",
              "      <td>95.1206</td>\n",
              "      <td>94.1155</td>\n",
              "      <td>94.6154</td>\n",
              "      <td>5166</td>\n",
              "    </tr>\n",
              "    <tr>\n",
              "      <th>15</th>\n",
              "      <td>15</td>\n",
              "      <td>83.0753</td>\n",
              "      <td>71.7469</td>\n",
              "      <td>76.9967</td>\n",
              "      <td>805</td>\n",
              "    </tr>\n",
              "    <tr>\n",
              "      <th>16</th>\n",
              "      <td>16</td>\n",
              "      <td>88.7353</td>\n",
              "      <td>88.2182</td>\n",
              "      <td>88.476</td>\n",
              "      <td>2119</td>\n",
              "    </tr>\n",
              "    <tr>\n",
              "      <th>17</th>\n",
              "      <td>17</td>\n",
              "      <td>97.2387</td>\n",
              "      <td>84.4178</td>\n",
              "      <td>90.3758</td>\n",
              "      <td>493</td>\n",
              "    </tr>\n",
              "    <tr>\n",
              "      <th>18</th>\n",
              "      <td>18</td>\n",
              "      <td>97.7816</td>\n",
              "      <td>99.2208</td>\n",
              "      <td>98.4959</td>\n",
              "      <td>1146</td>\n",
              "    </tr>\n",
              "    <tr>\n",
              "      <th>19</th>\n",
              "      <td>19</td>\n",
              "      <td>98.2301</td>\n",
              "      <td>96.5217</td>\n",
              "      <td>97.3684</td>\n",
              "      <td>333</td>\n",
              "    </tr>\n",
              "    <tr>\n",
              "      <th>20</th>\n",
              "      <td>20</td>\n",
              "      <td>98.2818</td>\n",
              "      <td>96.9492</td>\n",
              "      <td>97.6109</td>\n",
              "      <td>286</td>\n",
              "    </tr>\n",
              "    <tr>\n",
              "      <th>21</th>\n",
              "      <td>21</td>\n",
              "      <td>94.2475</td>\n",
              "      <td>93.0033</td>\n",
              "      <td>93.6213</td>\n",
              "      <td>1409</td>\n",
              "    </tr>\n",
              "    <tr>\n",
              "      <th>22</th>\n",
              "      <td>22</td>\n",
              "      <td>85.6459</td>\n",
              "      <td>78.1659</td>\n",
              "      <td>81.7352</td>\n",
              "      <td>1253</td>\n",
              "    </tr>\n",
              "    <tr>\n",
              "      <th>23</th>\n",
              "      <td>23</td>\n",
              "      <td>89.8123</td>\n",
              "      <td>94.9681</td>\n",
              "      <td>92.3183</td>\n",
              "      <td>1340</td>\n",
              "    </tr>\n",
              "    <tr>\n",
              "      <th>24</th>\n",
              "      <td>24</td>\n",
              "      <td>89.1228</td>\n",
              "      <td>83.2787</td>\n",
              "      <td>86.1017</td>\n",
              "      <td>762</td>\n",
              "    </tr>\n",
              "    <tr>\n",
              "      <th>25</th>\n",
              "      <td>25</td>\n",
              "      <td>95.3901</td>\n",
              "      <td>65.1332</td>\n",
              "      <td>77.4101</td>\n",
              "      <td>269</td>\n",
              "    </tr>\n",
              "    <tr>\n",
              "      <th>26</th>\n",
              "      <td>26</td>\n",
              "      <td>93.9024</td>\n",
              "      <td>87.5</td>\n",
              "      <td>90.5882</td>\n",
              "      <td>154</td>\n",
              "    </tr>\n",
              "    <tr>\n",
              "      <th>27</th>\n",
              "      <td>27</td>\n",
              "      <td>92.1053</td>\n",
              "      <td>80.1527</td>\n",
              "      <td>85.7143</td>\n",
              "      <td>105</td>\n",
              "    </tr>\n",
              "    <tr>\n",
              "      <th>28</th>\n",
              "      <td>29</td>\n",
              "      <td>94.8882</td>\n",
              "      <td>93.9873</td>\n",
              "      <td>94.4356</td>\n",
              "      <td>297</td>\n",
              "    </tr>\n",
              "    <tr>\n",
              "      <th>29</th>\n",
              "      <td>30</td>\n",
              "      <td>76.7677</td>\n",
              "      <td>74.5098</td>\n",
              "      <td>75.6219</td>\n",
              "      <td>76</td>\n",
              "    </tr>\n",
              "    <tr>\n",
              "      <th>30</th>\n",
              "      <td>31</td>\n",
              "      <td>49.7143</td>\n",
              "      <td>84.466</td>\n",
              "      <td>62.5899</td>\n",
              "      <td>87</td>\n",
              "    </tr>\n",
              "    <tr>\n",
              "      <th>31</th>\n",
              "      <td>32</td>\n",
              "      <td>76.5625</td>\n",
              "      <td>55.0562</td>\n",
              "      <td>64.0523</td>\n",
              "      <td>98</td>\n",
              "    </tr>\n",
              "    <tr>\n",
              "      <th>32</th>\n",
              "      <td>33</td>\n",
              "      <td>90.3226</td>\n",
              "      <td>41.1765</td>\n",
              "      <td>56.5657</td>\n",
              "      <td>28</td>\n",
              "    </tr>\n",
              "    <tr>\n",
              "      <th>33</th>\n",
              "      <td>34</td>\n",
              "      <td>89.2982</td>\n",
              "      <td>90.5694</td>\n",
              "      <td>89.9293</td>\n",
              "      <td>509</td>\n",
              "    </tr>\n",
              "    <tr>\n",
              "      <th>34</th>\n",
              "      <td>35</td>\n",
              "      <td>55.5556</td>\n",
              "      <td>55.5556</td>\n",
              "      <td>55.5556</td>\n",
              "      <td>5</td>\n",
              "    </tr>\n",
              "    <tr>\n",
              "      <th>35</th>\n",
              "      <td>36</td>\n",
              "      <td>100</td>\n",
              "      <td>100</td>\n",
              "      <td>100</td>\n",
              "      <td>16</td>\n",
              "    </tr>\n",
              "    <tr>\n",
              "      <th>36</th>\n",
              "      <td>37</td>\n",
              "      <td>90.991</td>\n",
              "      <td>99.0196</td>\n",
              "      <td>94.8357</td>\n",
              "      <td>101</td>\n",
              "    </tr>\n",
              "    <tr>\n",
              "      <th>37</th>\n",
              "      <td>38</td>\n",
              "      <td>64.2857</td>\n",
              "      <td>46.1538</td>\n",
              "      <td>53.7313</td>\n",
              "      <td>18</td>\n",
              "    </tr>\n",
              "    <tr>\n",
              "      <th>38</th>\n",
              "      <td>39</td>\n",
              "      <td>74.8503</td>\n",
              "      <td>89.2857</td>\n",
              "      <td>81.4332</td>\n",
              "      <td>125</td>\n",
              "    </tr>\n",
              "    <tr>\n",
              "      <th>39</th>\n",
              "      <td>40</td>\n",
              "      <td>99.6441</td>\n",
              "      <td>100</td>\n",
              "      <td>99.8217</td>\n",
              "      <td>280</td>\n",
              "    </tr>\n",
              "    <tr>\n",
              "      <th>40</th>\n",
              "      <td>41</td>\n",
              "      <td>75</td>\n",
              "      <td>75</td>\n",
              "      <td>75</td>\n",
              "      <td>15</td>\n",
              "    </tr>\n",
              "    <tr>\n",
              "      <th>41</th>\n",
              "      <td>42</td>\n",
              "      <td>100</td>\n",
              "      <td>64.7059</td>\n",
              "      <td>78.5714</td>\n",
              "      <td>11</td>\n",
              "    </tr>\n",
              "    <tr>\n",
              "      <th>42</th>\n",
              "      <td>43</td>\n",
              "      <td>-</td>\n",
              "      <td>0</td>\n",
              "      <td>-</td>\n",
              "      <td>0</td>\n",
              "    </tr>\n",
              "    <tr>\n",
              "      <th>43</th>\n",
              "      <td>45</td>\n",
              "      <td>-</td>\n",
              "      <td>0</td>\n",
              "      <td>-</td>\n",
              "      <td>0</td>\n",
              "    </tr>\n",
              "    <tr>\n",
              "      <th>44</th>\n",
              "      <td>46</td>\n",
              "      <td>-</td>\n",
              "      <td>0</td>\n",
              "      <td>-</td>\n",
              "      <td>0</td>\n",
              "    </tr>\n",
              "    <tr>\n",
              "      <th>45</th>\n",
              "      <td>accuracy=93.03</td>\n",
              "      <td></td>\n",
              "      <td></td>\n",
              "      <td></td>\n",
              "      <td></td>\n",
              "    </tr>\n",
              "  </tbody>\n",
              "</table>\n",
              "</div>"
            ],
            "text/plain": [
              "               tag precision   recall  f_score correct_count\n",
              "0                0         -        0        -             0\n",
              "1                1   99.8368  99.5929  99.7147          3670\n",
              "2                2   94.1463  93.5984  93.8716          7720\n",
              "3                3   89.7101  96.7375  93.0914         16338\n",
              "4                4   99.8989  99.3732  99.6353         12841\n",
              "5                5   91.6667  98.5075   94.964            66\n",
              "6                6    99.345  87.1648  92.8571           455\n",
              "7                7   98.1562  97.3064  97.7295          2023\n",
              "8                8   70.9677   53.012  60.6897           220\n",
              "9                9   74.5387  54.8913  63.2238           202\n",
              "10              10    61.254  45.4112  52.1561           381\n",
              "11              11   85.8696  91.8605   88.764            79\n",
              "12              12   96.8254  99.0012  97.9012           793\n",
              "13              13   88.2709  85.2254  86.7214          3063\n",
              "14              14   95.1206  94.1155  94.6154          5166\n",
              "15              15   83.0753  71.7469  76.9967           805\n",
              "16              16   88.7353  88.2182   88.476          2119\n",
              "17              17   97.2387  84.4178  90.3758           493\n",
              "18              18   97.7816  99.2208  98.4959          1146\n",
              "19              19   98.2301  96.5217  97.3684           333\n",
              "20              20   98.2818  96.9492  97.6109           286\n",
              "21              21   94.2475  93.0033  93.6213          1409\n",
              "22              22   85.6459  78.1659  81.7352          1253\n",
              "23              23   89.8123  94.9681  92.3183          1340\n",
              "24              24   89.1228  83.2787  86.1017           762\n",
              "25              25   95.3901  65.1332  77.4101           269\n",
              "26              26   93.9024     87.5  90.5882           154\n",
              "27              27   92.1053  80.1527  85.7143           105\n",
              "28              29   94.8882  93.9873  94.4356           297\n",
              "29              30   76.7677  74.5098  75.6219            76\n",
              "30              31   49.7143   84.466  62.5899            87\n",
              "31              32   76.5625  55.0562  64.0523            98\n",
              "32              33   90.3226  41.1765  56.5657            28\n",
              "33              34   89.2982  90.5694  89.9293           509\n",
              "34              35   55.5556  55.5556  55.5556             5\n",
              "35              36       100      100      100            16\n",
              "36              37    90.991  99.0196  94.8357           101\n",
              "37              38   64.2857  46.1538  53.7313            18\n",
              "38              39   74.8503  89.2857  81.4332           125\n",
              "39              40   99.6441      100  99.8217           280\n",
              "40              41        75       75       75            15\n",
              "41              42       100  64.7059  78.5714            11\n",
              "42              43         -        0        -             0\n",
              "43              45         -        0        -             0\n",
              "44              46         -        0        -             0\n",
              "45  accuracy=93.03                                          "
            ]
          },
          "metadata": {
            "tags": []
          }
        },
        {
          "output_type": "stream",
          "text": [
            "CPU times: user 20.3 s, sys: 3.18 s, total: 23.5 s\n",
            "Wall time: 9.73 s\n"
          ],
          "name": "stdout"
        }
      ]
    },
    {
      "cell_type": "markdown",
      "metadata": {
        "id": "BYX749sbkzA-"
      },
      "source": [
        "### #TODO 3\n",
        "Compare the result between all neural tagger models in 4.1 and 4.2.x and provide a convincing reason and example for the result of these models (which model perform better, why?)\n",
        "\n",
        "(If you use your own weight please state so in the answer)"
      ]
    },
    {
      "cell_type": "markdown",
      "metadata": {
        "id": "QJKtOsoRhHQv"
      },
      "source": [
        "<b>Write your answer here :</b><br>\r\n",
        "#### f1 distribution\r\n",
        "4.2.x performs a little bit better in terms of accuracy (93.23 vs 92.98) and f1 score across tags, though not discerningly different"
      ]
    },
    {
      "cell_type": "markdown",
      "metadata": {
        "id": "VR3vC3I7Mfx4"
      },
      "source": [
        "![f1scoredistribution.jpg](data:image/jpeg;base64,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)\r\n",
        "\r\n"
      ]
    },
    {
      "cell_type": "markdown",
      "metadata": {
        "id": "ov1HXlRKOjG0"
      },
      "source": [
        "#### f1_difference\r\n",
        "Below shows <br>\r\n",
        "$\\Delta(f1\\_score \\times correct\\_count)$ of 4.2.1 and 4.1<br>\r\n",
        "4.2.1 shows better f1 score across tags<br>\r\n",
        "\r\n"
      ]
    },
    {
      "cell_type": "markdown",
      "metadata": {
        "id": "XQd4Z_ZmQ1gd"
      },
      "source": [
        "![asdf.jpg](data:image/jpeg;base64,/9j/4AAQSkZJRgABAQEAYABgAAD/2wBDAAMCAgMCAgMDAwMEAwMEBQgFBQQEBQoHBwYIDAoMDAsKCwsNDhIQDQ4RDgsLEBYQERMUFRUVDA8XGBYUGBIUFRT/2wBDAQMEBAUEBQkFBQkUDQsNFBQUFBQUFBQUFBQUFBQUFBQUFBQUFBQUFBQUFBQUFBQUFBQUFBQUFBQUFBQUFBQUFBT/wAARCAF5Al4DASIAAhEBAxEB/8QAHwAAAQUBAQEBAQEAAAAAAAAAAAECAwQFBgcICQoL/8QAtRAAAgEDAwIEAwUFBAQAAAF9AQIDAAQRBRIhMUEGE1FhByJxFDKBkaEII0KxwRVS0fAkM2JyggkKFhcYGRolJicoKSo0NTY3ODk6Q0RFRkdISUpTVFVWV1hZWmNkZWZnaGlqc3R1dnd4eXqDhIWGh4iJipKTlJWWl5iZmqKjpKWmp6ipqrKztLW2t7i5usLDxMXGx8jJytLT1NXW19jZ2uHi4+Tl5ufo6erx8vP09fb3+Pn6/8QAHwEAAwEBAQEBAQEBAQAAAAAAAAECAwQFBgcICQoL/8QAtREAAgECBAQDBAcFBAQAAQJ3AAECAxEEBSExBhJBUQdhcRMiMoEIFEKRobHBCSMzUvAVYnLRChYkNOEl8RcYGRomJygpKjU2Nzg5OkNERUZHSElKU1RVVldYWVpjZGVmZ2hpanN0dXZ3eHl6goOEhYaHiImKkpOUlZaXmJmaoqOkpaanqKmqsrO0tba3uLm6wsPExcbHyMnK0tPU1dbX2Nna4uPk5ebn6Onq8vP09fb3+Pn6/9oADAMBAAIRAxEAPwD9G9K/4SzXobq6t9fsLSBb26to4ZNLMrBYp5IgSwmUEkJnoOtXP7G8Y/8AQ0ab/wCCVv8A5Iq14D/5Adz/ANhTUv8A0tnroqAOT/sbxj/0NGm/+CVv/kij+xvGP/Q0ab/4JW/+SK6yigDk/wCxvGP/AENGm/8Aglb/AOSKP7G8Y/8AQ0ab/wCCVv8A5IrrKKAORj0HxfCpVPE+mgZLf8gZupOT/wAvHqad/Y3jH/oaNN/8Erf/ACRXWUUAcn/Y3jH/AKGjTf8AwSt/8kUf2N4x/wCho03/AMErf/JFdZRQByf9jeMf+ho03/wSt/8AJFH9jeMf+ho03/wSt/8AJFdZRQByf9jeMf8AoaNN/wDBK3/yRR/Y3jH/AKGjTf8AwSt/8kV1lFAHJ/2N4x/6GjTf/BK3/wAkUf2N4x/6GjTf/BK3/wAkV1lFAHJ/2N4x/wCho03/AMErf/JFH9jeMf8AoaNN/wDBK3/yRXWUUAcjJoPi+ZQr+J9NIyG/5AzdQcj/AJePUU7+xvGP/Q0ab/4JW/8AkiusooA5P+xvGP8A0NGm/wDglb/5Io/sbxj/ANDRpv8A4JW/+SK6yigDk/7G8Y/9DRpv/glb/wCSKP7G8Y/9DRpv/glb/wCSK6yigDk/7G8Y/wDQ0ab/AOCVv/kij+xvGP8A0NGm/wDglb/5IrrKKAOT/sbxj/0NGm/+CVv/AJIo/sbxj/0NGm/+CVv/AJIrrKKAOT/sbxj/ANDRpv8A4JW/+SKP7G8Y/wDQ0ab/AOCVv/kiusooA5P+xvGP/Q0ab/4JW/8AkimjQfF4kaQeJ9N3sApP9jN0Gcf8vHua66igDk/7G8Y/9DRpv/glb/5Io/sbxj/0NGm/+CVv/kiusooA5P8Asbxj/wBDRpv/AIJW/wDkij+xvGP/AENGm/8Aglb/AOSK6yigDk/7G8Y/9DRpv/glb/5Io/sbxj/0NGm/+CVv/kiusooA5P8Asbxj/wBDRpv/AIJW/wDkij+xvGP/AENGm/8Aglb/AOSK6yigDk/7G8Y/9DRpv/glb/5Io/sbxj/0NGm/+CVv/kiusooA5P8Asbxj/wBDRpv/AIJW/wDkij+xvGP/AENGm/8Aglb/AOSK6yigDkYtB8XwxpGnifTQiAKo/sZuAP8At4p39jeMf+ho03/wSt/8kV1lFAHJ/wBjeMf+ho03/wAErf8AyRR/Y3jH/oaNN/8ABK3/AMkV1lFAHJ/2N4x/6GjTf/BK3/yRR/Y3jH/oaNN/8Erf/JFdZRQByf8AY3jH/oaNN/8ABK3/AMkUf2N4x/6GjTf/AASt/wDJFdZRQByf9jeMf+ho03/wSt/8kUf2N4x/6GjTf/BK3/yRXWUUAcn/AGN4x/6GjTf/AASt/wDJFH9jeMf+ho03/wAErf8AyRXWUUAci2g+L5GRm8T6aSh3L/xJm4OCP+fj0Jp39jeMf+ho03/wSt/8kV1lFAHJ/wBjeMf+ho03/wAErf8AyRR/Y3jH/oaNN/8ABK3/AMkV1lFAHJ/2N4x/6GjTf/BK3/yRR/Y3jH/oaNN/8Erf/JFdZRQByf8AY3jH/oaNN/8ABK3/AMkUf2N4x/6GjTf/AASt/wDJFdZRQByf9jeMf+ho03/wSt/8kUf2N4x/6GjTf/BK3/yRXWUUAcn/AGN4x/6GjTf/AASt/wDJFH9jeMf+ho03/wAErf8AyRXWUUAcn/Y3jH/oaNN/8Erf/JFNXQfF8bOy+J9NBc7m/wCJM3JwB/z8egFddRQByf8AY3jH/oaNN/8ABK3/AMkUf2N4x/6GjTf/AASt/wDJFdZRQByf9jeMf+ho03/wSt/8kUf2N4x/6GjTf/BK3/yRXWUUAcn/AGN4x/6GjTf/AASt/wDJFS+FZ9WvJtatdT1JZ59PvRbLNaW6wq6mCGXJVi5BzKR17CunrnfC/wDyHPF//YUj/wDSK1oATwCwk0G4ZSGVtU1Egg5BH22eujrnfAf/ACA7n/sKal/6Wz10VABRRRQAUUUUAFFFFABRRRQAUUUUAFFFFABRRRQAUUUUAFFeB/Fq31HxN8bvCWhXnh2z1rRVtbi4jtLrUDHHORsDSunlkBkydoOc56rR8Z4vFcnijwrLdT22neF4PElhb2ljbEtLdktnzZT0UKRhUH1PQUAe+UUVmeJvEFt4V8P6jrN6HNpY273EojGWKqCSAPXigDTorznw78SfEmp32itqPgiez0jVhmDULK+W88nK7kM6Kg8tSP4gWAJAJqtf/F/Vbm61uTw34Qm1/SNFleC8vjfJbl5E5kWCMqTIVHqVBIwM0Aen0V5tcfGQatcaRZeENGfxJqOoWK6mY5LgWsVrbtwrSyFWwxOQFCk8Gq118cl0/wAG+KdTvtCms9c8NmNb/RpLhSfnI2MkoBDKwOQcdiMCgD1KivNLz4tato+k21xqXhKSDUNUuEt9G0uC/SWa7ZlLfvDtCw7QMtywHqa0fDXxGv7rxUPDfiTQP+Ed1ea3a6s/LvFu4LqNSA+2QKpDKSMqV6cjNAHdUVzPxE8W3fgbwzPrdtpLaxDasr3UMc2yRIM/PIo2neVHO3jIB5rN8NfFG28aeLptM0C2XUtItbVJ7vWVnxHHJIN0cKLtO9ipyeRt+vFAHcUVzPj7x1B4D0m3uGtJtSvry5SzsbC2IElxO+dqgk4UcElj0ANc7Z/F6bS9SvbDxnof/CLXEGnvqcckd4t3DNAmPMw4VSHUkfLjvwTQB6RRXk//AAurVtP02y1/WvBdxpXhK7dANRN8kk8CSECOSaAKNinIzhmIzyK0b74o6xN8QNV8LaH4WGrTadHbzzXcmoLbxCOVc55Qnd6KM5wTkdwD0eivM/Cfxc1PxVe6lInhlbPQdLvLmzvtVuNRUBPJLZZI9mXGApOSMFsc4Jqgvxw1MaGniiXwZcxeCWIf+1GvUNysBOBObbbnZ3+/uxzigD1uiuC8QfE26i8SR+H/AAvoR8S6r9lW9uC12trb28LEhC0hViWbHChTxzxXnfj/AOJ+s+JtI8KS6Voz2l3D4misdRsLnUPKZLmMkiBiqMHjbrv6cD5T2APoGiorV5pLWF7iJYJ2RTJEr7wjY5AbAyAe+Bmuf8feOLbwHosd5LazahdXNwlnZ2NtjzLmdzhEBJwO5JPQA0AdLRXnFj8W7nTdWn07xloP/CLTLYyajDNHerdwywxgGUbgqkOuR8uOexNZp+NurWWk2viPVPBVzp/g+4ZCNSN8j3EUTkBJpLcL8qnIzhyQD0oA9Zorl9N8bLqXj/VfDS2gC2Nhb3wvBLkSCVnG3bjjGzOcnOegrlNb+OSaH4f8R6rJokk6aNrq6K0MNxl5gWQeYvy8H5+E74+9zQB6nRXnWm/E/WY/FumaH4g8Jtob6tHK+nTpqCXKu8a7mjlAUeW2303D3rG+AuteIdVvvGg1ewjhhXW7n99/aBuGSQbB5IUoPkUdGz7bRQB69RXGeNviBP4d1rS9C0fR21/xBqKPNHafaFt44oUwGlkkIO0ZIAwpJNeaaX4gOoeM/ixea1oUls9voNst5pUlx9/bHMWVZU6qynhgM4PQEYoA9+or5f1l7nxh4s+GOlw+D7O98NtojXlno11qz+Uw8uPlyYzlowcDOd3XK1a+GHiCLw3N488c+J/D1ulxZ6nc2w1CG8NxcqwZESziQovy8gBsjPoKAPpaivN7H4pazY6vpFr4r8JP4ctNXlFvZ3aagl0FmIJWKZVVfLZgDjBYZ4zRoPxT1fxJ4q1nTLDwup07R9RewvdTn1FY1ULg70TYSxxyVyAOOTngA9Ioryb/AIXdql1pFz4k0/wZcXvgy3ZidU+3IlxJChIeaO3K/MgwTy4JAzir+sfF+4XxZp+geHtAbxDPqOlrqlrcC7EEXll8ZclTtXGDkZJJA296APSqK830341WsfhfxLqfiDSrjQ73w7N9nv7BZFuCXYAxiJxgPv3Ljgcnn1o0v4qaxBrmj2XifwlJ4cttZZo7K6F+lziQKWEcyhR5bFQcYLDPGaAPSKK8n/4XZqt7pt54g0nwZcal4QtHcNqf26OOeWOMkSSxW5X5lG04y6k44Fem6Tqlrrml2mo2Uons7uJZ4ZB/EjAEH8jQBbooooAKKKKACiiigAooooAKKKKACiiigAooooAKKKKACuX8O3lvb694vWWeOJv7UjOHcA4+xWtdRXO+F/8AkOeL/wDsKR/+kVrQAeA/+QHc/wDYU1L/ANLZ66Kuc8A7v7BuNwAb+1NRyAcjP22eujoAKKKKACiiigAooooAKKKKACiiigAooooAKKKKACiiigDzXxFpN9P8ePB2oR2dxJYQaXfRy3SxMYo2Yx7VZsYBODgE84o+N2k32rW/g4WNncXhg8SWU8wt4mk8uNWbc7YHCjuTwK9KooAKx/GEN/ceFtVj0u1tL7UHtnENrfrugmbB+RxkfKenXvVTXPDOrarfmez8X6ro0JUD7LZ29m6AjvmWB2yfriotJ8J6xp+oQ3Fz401jVIEJ3WlzbWSxycY5Mdure/DDpQB4n4Z8MyWviTw1J4H8N+KvBt59sSTW7O6WWLShD/y2GJCUck8J5efXiuo8L6tq3whh8R6FP4W1rWJptSub7TLnTLQzwXKzNuVXcHERViQd+OBkZr2yigDxS1bxN4F8eR+Lde0K41NNc0mC11BPD9u9wbG6jZiB5YLM0ZDEbhnkehFc94p8M694s8M/FHxN/YOoWba5DZ22naXLCTdyRwsoMjRLkqSScL1wOa+jKKAPIvjf4Iudfi8I6xHpl5rFtolyz3mm6fO8NzJC8e1miKMpLqQDtBBPIrL+H/heyvviZaarpHhHWNK0nTbWQHUvElxfC4eZwBshimmPy4zuZl57ete40UAcj8UNe1XRfCsqaFpc2q6zfOLO1jjgaSON3482UgELGoySW44x3riPg94T1P4N65L4MkguNT0G+i+32mrxWvyRXG0CaKUqMKCRuQntxzXstFAHnPxk0HUrxPDGuaXZSapP4f1VL+WwhI82aHayOEyQCwDZA74xWJ4qvvEHxm0nXPD2l6HeaLoVxpkscl7rtnJazSXRwYkjRiDtGDuYrj0r2GigDwXxVrevfEP4bx+B4fB+t6frt4kNneTXlqY7K1VGUySicna64U7QpJOeldn4K0S7034ueOLiS0uEspbTTY7e6kiKxzbInDBWxhiDjOOma9HooA8m+H/hC9vvhv4z0W7gn02bUtS1RI2uI2jO2V2CSAHBKkEEEdRXl8HgqKLwTb+Gn+Hvia68XrGljItzfX/9kMRgGZpUnEflEc7QQe2BX1TRQB42tle/Cn4jXurtomo6toWqaXaWnmaNbvdPazW6lQrRglyjLjDc89T3qp4yvvFfiXwxouvah4buoYbHxLb30OmWtu0l8limQHkjDNmTJyVXoMcda9vooAhs7pb2zguFSSNZUWQJNGY3XIzhlPKn1B5FcD8ZvD+p6nY+HtX0mzfUrrQNWh1JrGIgSTxqGDqmSAWw2QO+MVq3PgvXZriWSPx9rlujuWWGO108qgJ4UFrYnA6ckn3rT8O6DqOjSTNfeJdR15ZAAqX0NtGI8dx5MSE5989KAPPfEWq698YdP1bw9pehXui6Hc6XPFc32vWUlrK1wygRJErEEgHO5ipHoawfEWta/wCNPhavgOPwdrVn4hureLTrma5tSljbhdoeUXGdjrhSQFJJ44r3yigDx68a9+G/xVudVl0PV9Y0fUNFtrKO40iza5ZJoWfKui8qGDDDdPeuO/4R/wARan4J8Svd+HdQtLy98b21+tk0BdxAZYGL/KCCoUHLDIGDzxX0lRQB5t8RtKvr74mfDO6trO4uLa0vLtrmaKJmSFWgwC7AYUE8DPWovhGt3oviDxtpF9pmoWksus3Gow3Uls4tpoZNm0pLjaW/2c5FenUUAeW+OrXUfCvxQ0jxrb6Ve61ph06TSr2HTojNcQZkEiSrGOXXIIIXJHWuUtTrXizWvixqjeGtW0y21DQ4rfT4720ZJbnbHKOF/vEn7n3hkZAzXvtFAHh3hDw7qtr4w+E002mXkUNl4Ymt7qR7d1WCQpEAjkj5W4PBweDWNcfDXW/E3wx8fabHp1xFfv4qn1K1trjfb/a0SVHAVjjhwCAwOM45719FUUAfO1j4X03xJ4k8NQ6N4E8SWjW95HeX914nutQWCzVMn93vn2yybsYI3Ljk8V3vw28P3i/8LGt7y2uLJdQ127aGSWNk8yN40USITjK9cEelemUUAfKmmeBovDfglvDN74C8Uap4tgVrSJre9vhpd1kkJKZEmWNIyCCynaRyMV6l4T8JXnh/4raQDpxgsbPwnHZGaBJGtklEwJjWRySeBwCxOOtes0UAfPviP4e674om+L1ta2M0c91fafd6ebhDHHdmFFYqjtwclduQcAkZrtYfiBr3jK+0zS9L8K6ppUUxP9r3WuWTwR28W0grE24eZIWxgruXHJr02igD5W0rwLD4T8Hz+G9Q8C+KdW8U2/mW1vJZ3t8NMvNzN5chkjmWONMEblO0jnivo7wVoh8N+EdH0toIbZrS1jiaG2Z2jjIUZVS7MxAPTJJrbooAKKKKACiiigAooooAKKKKACiiigAooooAKKKKACiiigArnfC//Ic8X/8AYUj/APSK1roq5fw61wuveL/Kijdf7Uj5eQqc/YrX/ZNAE3gP/kB3P/YU1L/0tnroq53wH/yA7n/sKal/6Wz10VABRWJ400N/Enhq+05dUv8ARxMmHudMkWOfYDlkVyrFNwypZcOASVZWww+Y5fhfcfFL4I/BPSobvwS9tpujHUptM8c6Y2rwXWy1WNWFr50W8IZcmQv8hKnDE0AfW9FfFXirUtP8c+Dda8TXeh2Wi3+i+AdN1Xwna2+1hpNy8lwPMssKPLJdIEDIFLJsUjBxXR29nD/wn1h4sNtbr8R5fiC2iT3i4N0dP+zFjaF/veQIgs3lZ2hvnxnmgD6yor5X+Bdnaad42+G2qadFFDr3ibRdWu/FU0HMl9PHNCBJctjMjxys0as+Sqsyjjivp67kvUZfstvBMuOTNO0ZH0wjZoAtUVnefq3/AD5WX/gY/wD8ao8/Vv8Anysv/Ax//jVAGjRWd5+rf8+Vl/4GP/8AGqPP1b/nysv/AAMf/wCNUAaNFZ3n6t/z5WX/AIGP/wDGqPP1b/nysv8AwMf/AONUAaNFZ3n6t/z5WX/gY/8A8ao8/Vv+fKy/8DH/APjVAGjRWd5+rf8APlZf+Bj/APxqjz9W/wCfKy/8DH/+NUAaNFZ3n6t/z5WX/gY//wAao8/Vv+fKy/8AAx//AI1QBo0Vnefq3/PlZf8AgY//AMao8/Vv+fKy/wDAx/8A41QBo0Vnefq3/PlZf+Bj/wDxqjz9W/58rL/wMf8A+NUAaNFZ3n6t/wA+Vl/4GP8A/GqPP1b/AJ8rL/wMf/41QBo0Vnefq3/PlZf+Bj//ABqjz9W/58rL/wADH/8AjVAGjRWd5+rf8+Vl/wCBj/8Axqjz9W/58rL/AMDH/wDjVAGjRWd5+rf8+Vl/4GP/APGqPP1b/nysv/Ax/wD41QBo0Vnefq3/AD5WX/gY/wD8ao8/Vv8Anysv/Ax//jVAGjRWd5+rf8+Vl/4GP/8AGqPP1b/nysv/AAMf/wCNUAaNFZ3n6t/z5WX/AIGP/wDGqPP1b/nysv8AwMf/AONUAaNFZ3n6t/z5WX/gY/8A8ao8/Vv+fKy/8DH/APjVAGjRWd5+rf8APlZf+Bj/APxqjz9W/wCfKy/8DH/+NUAaNFZ3n6t/z5WX/gY//wAao8/Vv+fKy/8AAx//AI1QBo0Vnefq3/PlZf8AgY//AMao8/Vv+fKy/wDAx/8A41QBo0Vnefq3/PlZf+Bj/wDxqjz9W/58rL/wMf8A+NUAaNFZ3n6t/wA+Vl/4GP8A/GqPP1b/AJ8rL/wMf/41QBo0Vnefq3/PlZf+Bj//ABqjz9W/58rL/wADH/8AjVAGjRWd5+rf8+Vl/wCBj/8Axqjz9W/58rL/AMDH/wDjVAGjRWd5+rf8+Vl/4GP/APGqPP1b/nysv/Ax/wD41QBo0Vnefq3/AD5WX/gY/wD8ao8/Vv8Anysv/Ax//jVAGjRWd5+rf8+Vl/4GP/8AGqPP1b/nysv/AAMf/wCNUAaNFZ3n6t/z5WX/AIGP/wDGqPP1b/nysv8AwMf/AONUAaNFZ3n6t/z5WX/gY/8A8ao8/Vv+fKy/8DH/APjVAGjRWd5+rf8APlZf+Bj/APxqjz9W/wCfKy/8DH/+NUAaNFZ3n6t/z5WX/gY//wAao8/Vv+fKy/8AAx//AI1QBo0Vnefq3/PlZf8AgY//AMao8/Vv+fKy/wDAx/8A41QBo0Vnefq3/PlZf+Bj/wDxqjz9W/58rL/wMf8A+NUAaNFZ6z6ruG6yswueSLtyf/RVaFABXO+F/wDkOeL/APsKR/8ApFa10Vc74X/5Dni//sKR/wDpFa0AJ4BUJoNwozgapqI5JJ/4/Z+9dHXO+A/+QHc/9hTUv/S2euioARlDKQRkHgg1zWvfC/wb4q0Gx0PWvCWh6xotiyPaabf6bDPbW7KMKY43UqpAOAQBiumooAw9Y8DeG/EOoaRf6r4f0vU77R5PN026vLKOWWxfAG6FmUmM4A5XB4oXwN4bXxc3iseH9LHilrb7GdcFlF9tMGc+UZ9u/ZkA7c446VuUUAYuj+CfDvh3WNW1fStA0vTNV1Z1l1G+s7OOGe9cDAaaRVDSEZ4LE1tUUUAFFFFABRRRQAUUUUAFFFFABRRRQAUUUUAFFFFABRRRQAUUUUAFFFFABRRRQAUUUUAFFFFABRRRQAUUUUAFFFFABRRRQAUUUUAFFFFABRRRQAUUUUAFFFFABRRRQAUUUUAFFFFABRRRQAUUUUAFFFFABRRRQAUUUUAFFFFABRRRQAUUUUAFcv4dtUn17xezNID/AGpGPklZR/x5WvYGuornfC//ACHPF/8A2FI//SK1oATwCwfQbhhnB1TUTyCD/wAfs/aujrnfAf8AyA7n/sKal/6Wz10VABRRRQAUUUUAFFFFABRRRQAUUV8x/tSfG7xd8O/GmmaP4d1BNNt309buR/s8crOzSSLg71YAARjpjqa9TLcurZpiFhqDSk7vXbT0TOLGYungqTrVE7eR9OUV5J+zL8RNa+JXw8uNQ16dLq/ttQktPPSNYzIojjcEhQBn94RwBwBXrdc+MwtTBYieGq/FF2dtjbD1o4ilGrDZhRRRXGbhRRRQAUUUUAFFFFABRRRQAUUUUAFFFFABRRRQAUUUUAFFFFABRRRQAUUUUAFFFFABRRRQAUUUUAFFFFABRRRQAUUUUAFFFFABRRRQAUUUUAFFFFABRRRQAUUUUAFFFFABRRRQAUUUUAFFFFABRRRQAUUUUAFcv4dukg17xerLIT/akZ+SJmH/AB5WvcCuornfC/8AyHPF/wD2FI//AEitaADwH/yA7n/sKal/6Wz10Vc54B3f2DcbiC39qajkgYGfts9dHQAUUUUAFFFFABRRRQAUUUUAFfFH7bH/ACVTSv8AsCxf+j56+16+KP22P+SqaV/2BYv/AEfPX3HBv/I1X+GR83xB/uL9UerfsT/8kr1X/sNS/wDoiCvoGvn79if/AJJXqv8A2Gpf/REFfQNeTxD/AMjXEf4jvyr/AHGl6BRRRXzp6oUUUUAFFFFABRRRQAUUUUAFFFFABRRRQAUUUUAFFFFABRRRQAUUUUAFFFFABRRRQAUUUUAFFFFABRRRQAUUUUAFFFFABRRRQAUUUUAFFFFABRRRQAUUUUAFFFFABRRRQAUUUUAFFFFABRRRQAUUUUAFFFFABXO+F/8AkOeL/wDsKR/+kVrXRVy/h1bhte8X+VLGi/2pHw8ZY5+xWv8AtCgCbwH/AMgO5/7Cmpf+ls9dFXO+A/8AkB3P/YU1L/0tnroqACiiigAooooAKKKKACiiigAr4o/bY/5KppX/AGBYv/R89fa9fFH7bH/JVNK/7AsX/o+evuODf+Rqv8Mj5viD/cX6o9W/Yn/5JXqv/Yal/wDREFfQNfP37E//ACSvVf8AsNS/+iIK+ga8niH/AJGuI/xHflX+40vQKKKK+dPVCiiigAooooAKKKKACiiigAooooAKKKKACiiigAooooAKKKKACiiigAooooAKKKKACiiigAooooAKKKKACiiigAooooAKKKKACiiigAooooAKKKKACiiigAooooAKKKKACiiigAooooAKKKKACiiigAooooAK53wv/wAhzxf/ANhSP/0ita6Kud8L/wDIc8X/APYUj/8ASK1oApfCnR7Pw74Lh0rT4fs9hY3t9a28O5m2RpdzKi5YknAAGSSa6+ud8B/8gO5/7Cmpf+ls9dFVSk5Nyk7tiSUVZbGJ400N/Enhq+05dUv9HEyYe50yRY59gOWRXKsU3DKllw4BJVlbDD5v8O+H9H8WeA/gL4c8U2VpqnhOfw7cXEllqWJYJrqK2hMJdHyHZEMzqTyCu4cjNfVTKGUgjIPBBrn9a+HfhTxJ4bt/DureGNG1Tw/bmNodKvdPimtYyn3CsTKVG3tgcdqkZ8bNI/if4XX2ueI2N94g8P8Aw/07U/DGoXjGS6t7lpblVuoWYblmcpbKXX5mBAPBxXcW9nD/AMJ9YeLDbW6/EeX4gtok94uDdHT/ALMWNoX+95AiCzeVnaG+fGea+ltY8DeG/EOoaRf6r4f0vU77R5PN026vLKOWWxfAG6FmUmM4A5XB4oXwN4bXxc3iseH9LHilrb7GdcFlF9tMGc+UZ9u/ZkA7c446UAfOfwLs7TTvG3w21TTooode8TaLq134qmg5kvp45oQJLlsZkeOVmjVnyVVmUccV9PXd5Lbsojsp7oEZLQtGAPruYVn6P4J8O+HdY1bV9K0DS9M1XVnWXUb6zs44Z71wMBppFUNIRngsTW1QBnf2pc/9Ae9/77g/+OUf2pc/9Ae9/wC+4P8A45WjRQBnf2pc/wDQHvf++4P/AI5Xxl+2dcPcfFDS2ktpbU/2NENkpQk/v5+flYj9e1fb1fFH7bH/ACVTSv8AsCxf+j56+44N/wCRqv8ADI+b4g/3F+qPS/2Mbya3+F+qLHYXF0P7ZlO+JowB+4g4+Zwf07173/alz/0B73/vuD/45Xh/7E//ACSvVf8AsNS/+iIK+ga8niH/AJGuI/xHflX+40vQzv7Uuf8AoD3v/fcH/wAco/tS5/6A97/33B/8crRor509Uzv7Uuf+gPe/99wf/HKP7Uuf+gPe/wDfcH/xytGigDO/tS5/6A97/wB9wf8Axyj+1Ln/AKA97/33B/8AHK0aKAM7+1Ln/oD3v/fcH/xyj+1Ln/oD3v8A33B/8crRooAzv7Uuf+gPe/8AfcH/AMco/tS5/wCgPe/99wf/ABytGigDO/tS5/6A97/33B/8co/tS5/6A97/AN9wf/HK0aKAM7+1Ln/oD3v/AH3B/wDHKP7Uuf8AoD3v/fcH/wAcrRooAzv7Uuf+gPe/99wf/HKP7Uuf+gPe/wDfcH/xytGigDO/tS5/6A97/wB9wf8Axyj+1Ln/AKA97/33B/8AHK0aKAM7+1Ln/oD3v/fcH/xyj+1Ln/oD3v8A33B/8crRooAzv7Uuf+gPe/8AfcH/AMco/tS5/wCgPe/99wf/ABytGigDO/tS5/6A97/33B/8co/tS5/6A97/AN9wf/HK0aKAM7+1Ln/oD3v/AH3B/wDHKP7Uuf8AoD3v/fcH/wAcrRooAzv7Uuf+gPe/99wf/HKP7Uuf+gPe/wDfcH/xytGigDO/tS5/6A97/wB9wf8Axyj+1Ln/AKA97/33B/8AHK0aKAM7+1Ln/oD3v/fcH/xyj+1Ln/oD3v8A33B/8crRooAzv7Uuf+gPe/8AfcH/AMco/tS5/wCgPe/99wf/ABytGigDO/tS5/6A97/33B/8co/tS5/6A97/AN9wf/HK0aKAM7+1Ln/oD3v/AH3B/wDHKP7Uuf8AoD3v/fcH/wAcrRooAzv7Uuf+gPe/99wf/HKP7Uuf+gPe/wDfcH/xytGigDO/tS5/6A97/wB9wf8Axyj+1Ln/AKA97/33B/8AHK0aKAM7+1Ln/oD3v/fcH/xyj+1Ln/oD3v8A33B/8crRooAzv7Uuf+gPe/8AfcH/AMco/tS5/wCgPe/99wf/ABytGigDO/tS5/6A97/33B/8co/tS5/6A97/AN9wf/HK0aKAM7+1Ln/oD3v/AH3B/wDHKP7Uuf8AoD3v/fcH/wAcrRooAzv7Uuf+gPe/99wf/HKP7Uuf+gPe/wDfcH/xytGigDO/tS5/6A97/wB9wf8Axyj+1Ln/AKA97/33B/8AHK0aKAM7+1Ln/oD3v/fcH/xyj+1Ln/oD3v8A33B/8crRooAzv7Uuf+gPe/8AfcH/AMco/tS5/wCgPe/99wf/ABytGigDPXU7lmAOk3ign7xeHA/8iVoUUUAFcv4ds7e417xe0sEcrf2pGMugJx9ita6iud8L/wDIc8X/APYUj/8ASK1oApfCm6vL7wXDc6hY/wBmX817fSXFj5wm+zyG7mLx714faSRuHBxmuvrnfAf/ACA7n/sKal/6Wz10VVJ3baVhJWVr3CiiipGFFFFABRRRQAUUUUAFfFH7bH/JVNK/7AsX/o+evtevij9tj/kqmlf9gWL/ANHz19xwb/yNV/hkfN8Qf7i/VHq37E//ACSvVf8AsNS/+iIK+ga+fv2J/wDkleq/9hqX/wBEQV9A15PEP/I1xH+I78q/3Gl6BRRRXzp6oUUUUAFFFFABRRRQAUUUUAFFFFABRRRQAUUUUAFFFFAHxd+21eTt8SNHtDM5to9JSVYdx2h2mmDMB6kKoz7CvVv2L7ye6+E96k0zypb6tLFErsSETyoW2j0GWY49Sa8j/bY/5KppX/YFi/8AR89erfsT/wDJK9V/7DUv/oiCv1jMIr/VWjp/L+bPh8K3/bdT5/ofQNFFFfk59wFFFFABRRRQAUUUUAFFFFABRRRQAUUUUAFFFFABRRRQAUUUUAFFFFABRRRQAUUUUAFFFFABRRRQAUUUUAFFFFABRRRQAUUUUAFFFFABXL+HZ3j17xeFt5JR/akZ3IVx/wAeVrxywrqK53wv/wAhzxf/ANhSP/0itaADwH/yA7n/ALCmpf8ApbPXRVzngFSug3ALFiNU1Ebj1P8Aps/NdHQAUUUUAFFFFABRRRQAUUUUAFfFH7bH/JVNK/7AsX/o+evtevij9tj/AJKppX/YFi/9Hz19xwb/AMjVf4ZHzfEH+4v1R6t+xP8A8kr1X/sNS/8AoiCvoGvn79if/kleq/8AYal/9EQV9A15PEP/ACNcR/iO/Kv9xpegUUUV86eqFFFFABRRRQAUUUUAFFFFABRRRQAUUUUAFFFFABRRRQB8Uftsf8lU0r/sCxf+j569W/Yn/wCSV6r/ANhqX/0RBXlP7bH/ACVTSv8AsCxf+j569W/Yn/5JXqv/AGGpf/REFfrWYf8AJK0f+3fzZ8Nhf+R3U+Z9A0UUV+Sn3IUUUUAFFFFABRRRQAUUUUAFFFFABRRRQAUUUUAFFFFABRRRQAUUUUAFFFFABRRRQAUUUUAFFFFABRRRQAUUUUAFFFFABRRRQAUUUUAFc74X/wCQ54v/AOwpH/6RWtdFXL+HYHk17xeVuJIh/akY2oFx/wAeVrzypoAm8B/8gO5/7Cmpf+ls9dFXOeAWEmg3DKQytqmokEHII+2z10dABRRRQAUUUUAFFFFABRRRQAV8Uftsf8lU0r/sCxf+j56+16+KP22P+SqaV/2BYv8A0fPX3HBv/I1X+GR83xB/uL9UerfsT/8AJK9V/wCw1L/6Igr6Br5+/Yn/AOSV6r/2Gpf/AERBX0DXk8Q/8jXEf4jvyr/caXoFFFFfOnqhRRRQAUUUUAFFFFABRRRQAUUUUAFFFFABRRRQAUUUUAfFH7bH/JVNK/7AsX/o+evVv2J/+SV6r/2Gpf8A0RBXlP7bH/JVNK/7AsX/AKPnr1b9if8A5JXqv/Yal/8AREFfrWYf8krR/wC3fzZ8Nhf+R3U+Z9A0UUV+Sn3IUUUUAFFFFABRRRQAUUUUAFFFFABRRRQAUUUUAFFFFABRRRQAUUUUAFFFFABRRRQAUUUUAFFFFABRRRQAUUUUAFFFFABRRRQAUUUUAFc74X/5Dni//sKR/wDpFa10Vcv4dvLe317xess8cTf2pGcO4Bx9itaAJvAf/IDuf+wpqX/pbPXRVzvgP/kB3P8A2FNS/wDS2euioAKKK8O/aU+Gdz8Vr3wnpsV14Ha309rzU5tL8b6WdVt7rbCI1YWgli3BDLkyF8ISp2sSMAHuNFfFXirUtP8AHPg3WvE13odlot/ovgHTdV8J2tvtYaTcvJcDzLLCjyyXSBAyBSybFIwcV0dvZw/8J9YeLDbW6/EeX4gtok94uDdHT/sxY2hf73kCILN5Wdob58Z5oA+sqK+V/gXZ2mneNvhtqmnRRQ694m0XVrvxVNBzJfTxzQgSXLYzI8crNGrPkqrMo44r6eu7yW3ZRHZT3QIyWhaMAfXcwoAtUVnf2pc/9Ae9/wC+4P8A45R/alz/ANAe9/77g/8AjlAGjXxR+2x/yVTSv+wLF/6Pnr7G/tS5/wCgPe/99wf/AByvjL9s64e4+KGltJbS2p/saIbJShJ/fz8/KxH69q+44N/5Gq/wyPm+IP8AcX6o9d/Yn/5JXqv/AGGpf/REFfQNfOf7GN5Nb/C/VFjsLi6H9synfE0YA/cQcfM4P6d697/tS5/6A97/AN9wf/HK8niH/ka4j/Ed+Vf7jS9DRorO/tS5/wCgPe/99wf/AByj+1Ln/oD3v/fcH/xyvnT1TRorO/tS5/6A97/33B/8co/tS5/6A97/AN9wf/HKANGis7+1Ln/oD3v/AH3B/wDHKP7Uuf8AoD3v/fcH/wAcoA0aKzv7Uuf+gPe/99wf/HKP7Uuf+gPe/wDfcH/xygDRorO/tS5/6A97/wB9wf8Axyj+1Ln/AKA97/33B/8AHKANGis7+1Ln/oD3v/fcH/xyj+1Ln/oD3v8A33B/8coA0aKzv7Uuf+gPe/8AfcH/AMco/tS5/wCgPe/99wf/ABygDRorO/tS5/6A97/33B/8co/tS5/6A97/AN9wf/HKANGis7+1Ln/oD3v/AH3B/wDHKP7Uuf8AoD3v/fcH/wAcoA+Of22P+SqaV/2BYv8A0fPXq37E/wDySvVf+w1L/wCiIK8i/bOuHuPihpbSW0tqf7GiGyUoSf38/PysR+vavUv2Mbya3+F+qLHYXF0P7ZlO+JowB+4g4+Zwf071+tZh/wAkrR/7d/Nnw2F/5HdT5n0ZRWd/alz/ANAe9/77g/8AjlH9qXP/AEB73/vuD/45X5KfcmjRWd/alz/0B73/AL7g/wDjlH9qXP8A0B73/vuD/wCOUAaNFZ39qXP/AEB73/vuD/45R/alz/0B73/vuD/45QBo0Vnf2pc/9Ae9/wC+4P8A45R/alz/ANAe9/77g/8AjlAGjRWd/alz/wBAe9/77g/+OUf2pc/9Ae9/77g/+OUAaNFZ39qXP/QHvf8AvuD/AOOUf2pc/wDQHvf++4P/AI5QBo0Vnf2pc/8AQHvf++4P/jlH9qXP/QHvf++4P/jlAGjRWd/alz/0B73/AL7g/wDjlH9qXP8A0B73/vuD/wCOUAaNFZ39qXP/AEB73/vuD/45R/alz/0B73/vuD/45QBo0Vnf2pc/9Ae9/wC+4P8A45R/alz/ANAe9/77g/8AjlAGjRWd/alz/wBAe9/77g/+OUf2pc/9Ae9/77g/+OUAaNFZ39qXP/QHvf8AvuD/AOOUf2pc/wDQHvf++4P/AI5QBo0Vnf2pc/8AQHvf++4P/jlH9qXP/QHvf++4P/jlAGjRWd/alz/0B73/AL7g/wDjlH9qXP8A0B73/vuD/wCOUAaNFZ39qXP/AEB73/vuD/45R/alz/0B73/vuD/45QBo0Vnf2pc/9Ae9/wC+4P8A45R/alz/ANAe9/77g/8AjlAGjRWd/alz/wBAe9/77g/+OUf2pc/9Ae9/77g/+OUAaNFZ39qXP/QHvf8AvuD/AOOUf2pc/wDQHvf++4P/AI5QBo0Vnf2pc/8AQHvf++4P/jlH9qXP/QHvf++4P/jlAGjRWeup3LMAdJvFBP3i8OB/5ErQoAK53wv/AMhzxf8A9hSP/wBIrWuirnfC/wDyHPF//YUj/wDSK1oATwDu/sG43ABv7U1HIByM/bZ66Oud8B/8gO5/7Cmpf+ls9dFQAVg+MPAPhj4hafDY+KvDmk+JbKGUTxW2sWMV3Gkgzh1WRSAwyeRzzW9RQBh6x4G8N+IdQ0i/1Xw/pep32jyebpt1eWUcsti+AN0LMpMZwByuDxQvgbw2vi5vFY8P6WPFLW32M64LKL7aYM58oz7d+zIB25xx0rcooAxdH8E+HfDusatq+laBpemarqzrLqN9Z2ccM964GA00iqGkIzwWJraoooAKKKKACvij9tj/AJKppX/YFi/9Hz19r18Uftsf8lU0r/sCxf8Ao+evuODf+Rqv8Mj5viD/AHF+qPVv2J/+SV6r/wBhqX/0RBX0DXz9+xP/AMkr1X/sNS/+iIK+ga8niH/ka4j/ABHflX+40vQKKKK+dPVCiiigAooooAKKKKACiiigAooooAK5rxx8SPDfw4tLe58R6ommxXDlIcxvIzkDJwqKTgZGTjAyPWulr5T/AG6v+ZI/7fv/AG3r28lwNPMsfTwtVtRle9t9E3+h52Y4mWDws68Fdq2/m0j6H8D/ABI8N/Ee0uLnw5qialFbuEmxG8bISMjKuoODg4OMHB9K6WvlP9hX/md/+3H/ANuK+rKM6wNPLcfUwtJtxja199Un+oZdiZYzCwrzVm77eTaCiiivEPRPij9tj/kqmlf9gWL/ANHz16t+xP8A8kr1X/sNS/8AoiCvKf22P+SqaV/2BYv/AEfPXq37E/8AySvVf+w1L/6Igr9azD/klaP/AG7+bPhsL/yO6nzPoGiiivyU+5CiiigAooooAKKKKACiiigAooooAKKKKACiiigAooooAKKKKACiiigAooooAKKKKACiiigAooooAKKKKACiiigAooooAKKKKACiiigArl/DrXC694v8qKN1/tSPl5Cpz9itf9k11Fc74X/5Dni//sKR/wDpFa0AHgP/AJAdz/2FNS/9LZ66Kuc8AqE0G4UZwNU1Eckk/wDH7P3ro6ACiiigAooooAKKKKACiivOf2hvEGoeFvg74i1LSrqSyv4khSO4iOHTfPGjEHsdrHnqK6cNQliq9OhF2c2l97sY1qio0pVXtFN/cejV8Uftsf8AJVNK/wCwLF/6PnqL9mj4neLdW+MWi6bqHiPVNSsLxLhJre+u5J0O2CRwQHJwQyDkc1L+2x/yVTSv+wLF/wCj56/TMlympk+eww9SSk3Bu6+a/Q+PzDHRzDLJVYK1pJf1956t+xP/AMkr1X/sNS/+iIK+ga+fv2J/+SV6r/2Gpf8A0RBXb/8ADSHw3/tb+zf+Eoh+1eb5P/HvN5e7OP8AWbNmM/xZx718rneFxGJzXE+wpuVnrZN29bHt5dWpUcDR9pJRuurselUUUV8oe2FFFFABRRRQAUUUUAFFFFABRRRQAV8p/t1f8yR/2/f+29fVlfKf7dX/ADJH/b9/7b19bwp/yOaH/b3/AKRI8LPP+RfU+X/pSD9hX/md/wDtx/8AbivqyvlP9hX/AJnf/tx/9uK+rKOK/wDkc1/+3f8A0iIZH/yL6fz/APSmFFFFfJHunxR+2x/yVTSv+wLF/wCj569W/Yn/AOSV6r/2Gpf/AERBXlP7bH/JVNK/7AsX/o+evVv2J/8Akleq/wDYal/9EQV+tZh/yStH/t382fDYX/kd1PmfQNFFFfkp9yFFFFABRRRQAUUUUAFFfn98Vvi140h+J/imG38U6vaW9rqdxbwwWt7JFGiRysqgIpA6KO3PevuD4d6pc658P/DOo3knm3l5plrcTSYA3O8SsxwPUk19LmmRVsrw9LEVJpqfa+mlzx8FmVPG1Z0oxa5ToaKKK+aPYCiiigAooooAKKKKACiiigAooooAKKKKACiiigAooooAKKKKACiiigAooooAKKKKACiiigAooooAK53wv/yHPF//AGFI/wD0ita6KuX8O2qT694vZmkB/tSMfJKyj/jytewNAE3gP/kB3P8A2FNS/wDS2euirnPALB9BuGGcHVNRPIIP/H7P2ro6ACiiigAooooAKKKKACvKf2pv+SEeJ/8At1/9Koa9Wryn9qb/AJIR4n/7df8A0qhr1so/5GWG/wAcP/SkcOP/AN0rf4Zfkz5T/ZZ/5Lv4Y/7ev/SWaur/AG2P+SqaV/2BYv8A0fPXKfss/wDJd/DH/b1/6SzV1f7bH/JVNK/7AsX/AKPnr9lrf8lPS/69frI/Pqf/ACJp/wCP9EerfsT/APJK9V/7DUv/AKIgr4or7X/Yn/5JXqv/AGGpf/REFfFFGR/8jXMf8UP/AG4My/3HCekv0P1Yooor8EP08KKK574iapc6H8P/ABNqNnJ5V5Z6ZdXEMmAdrpEzKcH0IFaU6bqzjTW7dvvInJQi5PodDRX5/fCn4teNJvif4WhuPFOr3dvdanb280F1eySxukkqqwKMSOjHtx2r9Aa93Ocmq5LUhTqTUuZX0PNy/MIZhCU4Raswooor549UKKKKACiiuZ+J11NY/DXxZc20rwXEOkXckcsZwyMIXIYHsQRWtKm6tSNNdWl95E5ckXLsdNXyn+3V/wAyR/2/f+29eC/B2+uLP4teEJYJ5IpJNXtY3ZGILK8qqyn1BBIPrmvev26v+ZI/7fv/AG3r9OwOSvJc+wtP2nPzKT2t9mXmz43E5j/aOWVp8nLZrrfqvJB+wr/zO/8A24/+3FfVlfKf7Cv/ADO//bj/AO3FfVlfM8V/8jmv/wBu/wDpET2Mj/5F9P5/+lMKKKK+SPdPij9tj/kqmlf9gWL/ANHz16t+xP8A8kr1X/sNS/8AoiCvKf22P+SqaV/2BYv/AEfPXq37E/8AySvVf+w1L/6Igr9azD/klaP/AG7+bPhsL/yO6nzPoGivl/8A4bksf7W8r/hE5v7O83b9q+3DzPLz97y/LxnHO3d+NfUFfnWOyvGZby/W6fLzbap7b7N9z6zDY3D4zm9hK9t9/wBQoooryjtCiiigAooooA/NL4tf8lU8Z/8AYavf/R71+gXwl/5JX4M/7Atl/wCiEr8/fi1/yVTxn/2Gr3/0e9foF8Jf+SV+DP8AsC2X/ohK/WeL/wDkW4T+vso+FyH/AHuv/XU6uiiivyY+6Cvl/wD4bksf7W8r/hE5v7O83b9q+3DzPLz97y/LxnHO3d+NfUFflPX6DwnlODzT2/1uHNy8ttWrX5r7Ndj5XPMdiMF7L2ErXvfRPa3f1P1Yooor8+PqgooooAKKKKACiiigAooooAKKKKACiiigAooooAKKKKACiiigAooooAKKKKACiiigArnfC/8AyHPF/wD2FI//AEita6KuX8O3SQa94vVlkJ/tSM/JEzD/AI8rXuBQBN4D/wCQHc/9hTUv/S2euirnfAf/ACA7n/sKal/6Wz10VABRRRQAUUUUAFFFFABXlP7U3/JCPE//AG6/+lUNaOv/ALQnw+8Ma1c6TqXiOOC/tn8uaNLaaQI3dSyIVyO/PHesj9pq8h1D9n3xBdW0qT28yWkkUsZyrq1zCQwPcEGvoMtwuIoY/CTq03FSnCzaaT95bX3PLxlalUwteMJJtRlez20Z8s/ss/8AJd/DH/b1/wCks1dX+2x/yVTSv+wLF/6PnrlP2Wf+S7+GP+3r/wBJZq6v9tj/AJKppX/YFi/9Hz1+t1v+Snpf9ev1kfCU/wDkTT/x/oj1b9if/kleq/8AYal/9EQV8UV9r/sT/wDJK9V/7DUv/oiCviijI/8Aka5j/ih/7cGZf7jhPSX6H6sUUUV+CH6eFcp8Wv8AklfjP/sC3v8A6IeurrlPi1/ySvxn/wBgW9/9EPXXg/8Aeaf+JfmYV/4U/R/kfn78Jf8Akqngz/sNWX/o9K/S2vzS+Ev/ACVTwZ/2GrL/ANHpX6W1+h8df7zQ/wAL/M+U4Z/g1PVfkFFFFfmJ9kFFFFABXKfFr/klfjP/ALAt7/6IeurrlPi1/wAkr8Z/9gW9/wDRD114P/eaf+JfmYV/4U/R/kfn78Jf+SqeDP8AsNWX/o9K+gf26v8AmSP+37/23r5++Ev/ACVTwZ/2GrL/ANHpX0D+3V/zJH/b9/7b1+4Zh/yUOC/wz/8ASZH5vhf+RTiPWP5oP2Ff+Z3/AO3H/wBuK+rK+U/2Ff8Amd/+3H/24r6sr8x4r/5HNf8A7d/9IifZZH/yL6fz/wDSmFFFFfJHunxR+2x/yVTSv+wLF/6Pnr1b9if/AJJXqv8A2Gpf/REFeU/tsf8AJVNK/wCwLF/6Pnr1b9if/kleq/8AYal/9EQV+tZh/wAkrR/7d/Nnw2F/5HdT5nxRX6sV+U9fqxS49/5hv+3/AP20OGP+X3/bv/twUUUV+TH3IUVk+Ldc/wCEX8K6zrPlef8A2dZTXflZxv8ALjZ9ue2cYr5f+H/7X/ijxJ460PSNR0nSBY6hexWjG1jlSRPMcIGBaRhwWB6c47V7WByfF5jSqVsOk4w31t0uedicfQwk406r1lsfW1FFFeKeifml8Wv+SqeM/wDsNXv/AKPev0C+Ev8AySvwZ/2BbL/0Qlfn78Wv+SqeM/8AsNXv/o96/QL4S/8AJK/Bn/YFsv8A0QlfrPF//Itwn9fZR8LkP+91/wCup1dFFFfkx90FflPX6sV+U9frPAX/ADE/9uf+3Hw3E/8Ay5/7e/8AbT9WKKKK/Jj7kKK+Y/jd+1J4i+HfxE1Dw7o+maXJb2SRbpr5JHd2eNZMja6gABwMc9K9s+Efjib4kfDvRvEVxbR2lxeJJ5kMRJQMkjxkjPOCUzg9M969rFZPi8HhKeNqpck7W17q6/A86jj6GIrzw8H70b3+TszsKKKK8U9EKKK+b/Gv7ZNv4T8YatokHhWS+j0+6ktHuXvxEWZGKsQnltxkHHPPtXp4HLcXmU3DCQ5mtXql+bRx4nGUMHFSrysn6/ofSFFZ3h3WofEnh/TNXtldLfULWK7jWQfMFkQMAffBrRrzpRcJOMt0dcZKSTWwUUUVIz4J/wCGsviR/a32r+14fsvm+Z9h+xQ+XtznZu2b8Y4zuz7197V+U9fqxX6bxpgsNg/q/wBXpqF+a9kle3La9vU+O4dxFbEe19rNytbd37hRRRX5kfYhRRRQAUVna14i0rw3arc6vqdnpVuzbFmvbhIULegLEDNGi+ItK8SWrXOkanZ6rbq2xprK4SZA3oSpIzWns58ntOV8vfoRzx5uW+po0UUVmWFFFFABRRRQAVzvhf8A5Dni/wD7Ckf/AKRWtdFXO+F/+Q54v/7Ckf8A6RWtACeAd39g3G4gt/amo5IGBn7bPXR1zvgP/kB3P/YU1L/0tnroqACiiigAprsVRmC7iBnaO9OooA+bPg5rmrp4u+H2pT63qt/L430nUdQ1ex1C+luIYZonhaIwxMxS3EYkaIrEEVsgsCwBr2zxZ8RNK8F3EEGoWmu3DzIXU6T4fv8AUlABx8zW0MgU+zEGq3hb4S+FfBfiG+1vSNNkt9QvA4LSXk80UCu++RLeKR2S3R3AZlhVFZgCQSM12FAH5s/EPR/EOueP/E2pWPgrxnPZXmp3VxBL/wAIpqS743lZlbBgBGQRwRmvoHxz46g1j9me28KWfh7xnNr6aZp1u1n/AMIZq64kiaEyLvNqF4CNznBxxmvqWivqsTxHi8V7DnjH9y01ZPVq2+vl0seJRymhR9ryt/vE09uvbQ/Pn4Bx6v4K+LWhazrPg/xnZ6bbef5s/wDwiWpybd0EiL8q25JyzAcDvXQftRahe/EXx/p+peHvCnjPULKLTI7d5f8AhENVixIJZWK4e2U9HXnGOa+5qK0lxPjJ46OYOEedR5bWdrXb/mvfXuTHJsPHDPCqT5W79L/l5Hy1+y746g+HXgDUNN8Q+HvGen3supyXCRf8IZq8uYzFEobKWrDqjcZzxXy9/wAIj4r/AOhG8Z/+EtqP/wAYr9RqKMLxPjMHiK2Jpwi5VWm7p20vt73n5hXybD4ilToyk7Qvbbr308jwD4yfH7U4fCKL4A0TxhPrklyiOz+CNVBih2sWYebahSchBznhjx3HKfBH4/eOxr19D8Q9E8YNpTWxeC4/4QjUNyzB1AUCC16FSx5H8I5Hf6qorxqeP9nhZYX2MHf7Tj769HfT7j0JYXmrqv7SSt0v7v3WPLbj9pr4dWMzQX2sXum3S/ftdQ0W+tp0yMjdHJCrLkEEZAyCCOCKyPHXxu8NeK/hz4ktNEtvE2svf6ZdW9rLp/hPVZ4JpGidAqypbFD8x2k7sAgg4wa+Zv2pv+S7+J/+3X/0lhr6s/ZZ/wCSEeGP+3r/ANKpq+nzDJ8PlmWYbMqMm5ycG07W1i5dEnuu+x42FzCrjMZWwdRJRjzbb6O3f9D4v+Hmj+IdD8f+GdSvvBXjOCys9TtbieX/AIRTUm2RpKrM2BAScAHgDNfbN5+0d4F0vZ/ad1rWi+Zny/7X8N6lZeZjrs863XfjIztzjIz1Fem18p/t1f8AMkf9v3/tvUUsVPirM6FDGpRVpL3NOjfXm6oc6EckwdSph9Xp8WvVLpY9fs/2jvAuqb/7Muta1ry8eZ/ZHhvUr3y89N/k27bM4ON2M4OOhqt/w1N8MP8AoZ//ACQuv/jVeU/sK/8AM7/9uP8A7cV8p17eE4VwWIx+Kwspy5aXJbVX96N3f3fu2POr53iKWFo11GN5819H0dtNT9Dbz9onwVpkYl1J/EGjwMdqz6r4W1SziZuu0PLbKpbAJ2g5wCccGorP9pTwBqchi03UdT1idRuaDStA1C8lVem4pFAzBckDcRjJAzyK6X4lfDXSPip4c/sXWvtC26zLcRy2rhJI5FBAIJBHRmHIPWsD4WfAHw18I9Su9Q0iW/ury5h8hpb6VHKx7gxVQqKOSqnnPSvhaUcs+pSlVlP2/RK3L5dL/ifSzljPrCUFH2fV63ILr9pj4d6fMYb/AFe+0y5HLWuo6LfWs656bo5IVZcjkZHIIPQ1k+PvjX4c8T/DvxHZ6NaeKNXkv9LuYLWSw8JatPDM7xMqhZUtih5OM7sA5zjBr2eiuT21CmoTowanFptuSadvJRTWv956feb+zqyco1JLld9lZ/fd/kj82fh5o/iHQ/H/AIZ1K+8FeM4LKz1O1uJ5f+EU1JtkaSqzNgQEnAB4AzXsP7WHiZ/iX/wi3/CN+GfGepfYvtX2j/ijtWi2b/J2/ftlznY3T0r7For363E+MrY2ljpQjzU00tHbVNa+9fr3PMp5Nh6eHnhlJ8srX2vp8j46/ZP8TP8ADT/hKf8AhJPDPjPTftv2X7P/AMUdq0u/Z5277ls2Mb16+te4yftQfDW3keKfxBNazoSskFzpV5FLGw4KujQhlYHgqQCCMEV6pX5pfFr/AJKp4z/7DV7/AOj3r1MrwsOKsfXr41uLsn7mnZdebojixteWSYanTw2qu/i18+lj7ik/aJ8FQ2ovJn8QW+nEBhqNx4W1SO0Kn7rCdrYRlWyNrbsNkYJyKgt/2mvh1fTLBY6xe6ldN9y10/Rb65nfAydsccLM2ACTgHABJ4BrkPiZ/wAmZ2f/AGBdJ/8AQ7evn79ln/ku/hj/ALev/SWaowPD+FxOX4rFzlLmpOaVmre7FNX0+/VFYjNK1HFUKEUrTUb79XZ21Nz9qLUL34i+P9P1Lw94U8Z6hZRaZHbvL/wiGqxYkEsrFcPbKejrzjHNeg/su+OoPh14A1DTfEPh7xnp97LqclwkX/CGavLmMxRKGylqw6o3Gc8V9S0V4VbPMTXy+OWyjHkjbWzvp87fgenTy2jTxUsWm+Z+lvy/U/Ln/hEfFf8A0I3jP/wltR/+MV+hen/Gjw/qUxih0/xYjBd2bjwdq8K4yB957UDPPTOa7uiqzXPK+cun9aikoX+G63t3cuxOCy2ll6n7GT962+u1+1u5xWofFzQ9NhWWax8TurNtAt/CeqzNnBPRLYkDjr0rDuv2mPh3p8xhv9XvtMuRy1rqOi31rOuem6OSFWXI5GRyCD0Neo0V49OWGVS9SEnHspJO/ryv7rfM9CUazjaEkn6Nr7uZfmeMePvjX4c8T/DvxHZ6NaeKNXkv9LuYLWSw8JatPDM7xMqhZUtih5OM7sA5zjBr5A+Hmj+IdD8f+GdSvvBXjOCys9TtbieX/hFNSbZGkqszYEBJwAeAM1+k1FexgM9r5ZSq0MNBck/5rtrpunFbeXyPPxWW08ZOFStJ80e2i/G/5nmV5+0d4F0vZ/ad1rWi+Zny/wC1/DepWXmY67POt134yM7c4yM9RRZ/tHeBdU3/ANmXWta15ePM/sjw3qV75eem/wAm3bZnBxuxnBx0NeQft1f8yR/2/f8AtvR+wr/zO/8A24/+3Fep/YeG/sD+1eaXtO11y/Hy9r7ee5xf2lW/tT6lZcvzv8N+9t/I8F+Iej+Idc8f+JtSsfBXjOeyvNTuriCX/hFNSXfG8rMrYMAIyCOCM19b+EfjhpXhL4Y+HrWbwz47vNSsNMtLeWwtfBWq+Z5ixojqGe3VDg5Od2MA4zxn2+ivKzDPcRmVKlRrxjyw2tfXS2uv5WO7C5bSwdSdSnJ3l3t+Gh43pX7T2mahfxW8/gD4l6ZE+d11deDL5o0wCeRGjtzjHCnkjOBzXQf8L48Nf9Azxn/4Q2t//IleiUV4FSSm7xil6X/Vs9OMXFWbv/XlY87/AOF8eGv+gZ4z/wDCG1v/AORK/P3/AIRHxX/0I3jP/wAJbUf/AIxX6jUV72UZ5icl9p9XjF89r3T6X2s13PNx2W0cw5fatrlvtbrbun2PNLz9onwVpkYl1J/EGjwMdqz6r4W1SziZuu0PLbKpbAJ2g5wCccGorP8AaU8AanIYtN1HU9YnUbmg0rQNQvJVXpuKRQMwXJA3EYyQM8iqn7TXw71r4lfDy30/QYEur+21CO78h5FjMiiORCAWIGf3gPJHANef/st/BHxb8O/GWp6x4i09NNgewa0jj+0Rys7NJG+fkZgABGevqK6cPgMtqZVPFVK1qyvaN1r20tf8TCrisZHGxoQp3pvd2f53seKfHyPV/Gvxa13WdG8H+M7zTbnyPKn/AOES1OPdtgjRvla3BGGUjkdq9s+GHxObwX+z3Hoo0LxnaeK7ayvvs9v/AMIXqz7Z2kmeH5halOSyHk455719NUVhic+xOLwlHB1IR5KfLbR3fKrK+ttt9Ea0cso0K9TEQk+ad77dXfTQ+Bfh/wDEH4q6T460O81a0+JUulLexfbVutB1aePyC4EmYzCc/KW6DPpzX2Fp3xi0HVPM8mw8VJ5eM/aPCOrQdc9N9sM9O3Su4orlx+ZvMqsalalGNlb3Fy3++5thcGsHBwpzbv8Aza/5HD6j8YtB0vy/OsPFT+ZnH2fwjq0/THXZbHHXv1r4R+Iej+Idc8f+JtSsfBXjOeyvNTuriCX/AIRTUl3xvKzK2DACMgjgjNfpNRW2WZzWyerOphYr3lb3rv8ALlM8Zl8MfCMK7enbT87ni3gX43eGvCnw58N2mt23ibRnsNMtbe6l1DwnqsEEMixIhVpXtgg+YbQd2CSAM5Fa9v8AtNfDq+mWCx1i91K6b7lrp+i31zO+Bk7Y44WZsAEnAOACTwDUf7U3/JCPE/8A26/+lUNfKf7LP/Jd/DH/AG9f+ks1e5l+T4fMssxOZVpNTi5tJWtpFS6pvd99jzcVmFXB4yjg6aTi+XffV27/AKH1leftKeANMkEWpajqejzsNywaroGoWcrL03BJYFYrkEbgMZBGeDUtn+0T4K1OMy6a/iDWIFO1p9K8LapeRK3XaXitmUNgg7Sc4IOORR8U/wBn/wANfFzVLTUdXm1C1vLaH7OJbGVE3x7iwDBkYcFm6Y610Pw3+G+kfCzw5/Yui+e1s0zTySXLh5JJGABYkADoqjgDpXztWOWLBRlSlP2/VO3L59L/AInrQljPrDU1H2fR63Pzj/4RHxX/ANCN4z/8JbUf/jFfeWt/tF6HpVqk1r4W8f6zIzhTBY+CdUV1GCdxMsCLjgDg55HHXHqlFdWa57iM4dN4mEfcva11e9t9fLpYxwWWUsApqjJ+9be3S/l5nkGiftMaTqt08V14H+I+jRqhYT33gvUGRjkDaBFFI2eSeRjg89Mxar+09pmn38tvB4A+JepxJjbdWvgy+WN8gHgSIjcZxyo5Bxkc17JRXh+0jzc3s1btrb87/ielyS5bcz9dP8jyb/hozSZPDs9/F4S8eR6isMjxaVdeDNVWV3XO1C6WzxruIHO4gBhnHIridH/a08QXmrWdvf8Awb8aadYyzIk94NH1KXyEJAZ9gsstgZOBycV9H0VpTr06akpUYyv35tPS0l+NyJ0pyaaqNW7cuvrdP8LHx3+1f4nk+JS+F18N+GvGmoizN0bgf8Ifq0Wzf5Oz79suc7W6Zxj3o/ZQ8TyfDVfFC+JPDXjTTheG1NuP+EP1aXfs87f9y2bGNy9cZz7V9iUV6v8AbmJ/s3+yuWPs+9nzfFzd7b+Wxxf2bS+ufXbvm+Vtrdr/AInIQ/FLRriGOVbLxGFdQwD+GdSRsEZ5U24IPsRmqcPxo8PzXxtF0/xYJQzLufwdq6x5Gc/vDa7cccHOD2613dFeLKVLTli/PVfhpp+J6KU9btfd/wAE428+K+iWNu88lj4lZFxkQ+FtTlbk44Vbck/gKwbz9pTwBpkgi1LUdT0edhuWDVdA1CzlZem4JLArFcgjcBjIIzwa9QrzT4p/s/8Ahr4uapaajq82oWt5bQ/ZxLYyom+PcWAYMjDgs3THWu7BrATxCWK5o07dGm7/AHbfI5q/1qNJuhZz87pfmSaX+0F4N16SNdKk13Vo3kEX2jTvDOp3MCucfK0sduUQjIJ3MMAgnAOa9Hrlfhv8N9I+Fnhz+xdF89rZpmnkkuXDySSMACxIAHRVHAHSuqrkxSoKtJYZtwvpfe3mb0faOnH21ubrbYK5fw6tw2veL/KljRf7Uj4eMsc/YrX/AGhXUVzvhf8A5Dni/wD7Ckf/AKRWtcpsHgP/AJAdz/2FNS/9LZ66Kuc8AqI9BuFUBVXVNRAAGAB9tnro6ACiiigAooooAKKKKACiiigAooooAKKKKACiiigD8/f2pv8Aku/if/t1/wDSWGvqz9ln/khHhj/t6/8ASqavlP8Aam/5Lv4n/wC3X/0lhr6s/ZZ/5IR4Y/7ev/Sqav1niH/knMH/ANw//TbPhsq/5G2I/wC3v/SkerV8p/t1f8yR/wBv3/tvX1ZXyn+3V/zJH/b9/wC29fJ8Kf8AI5of9vf+kSPczz/kX1Pl/wClIP2Ff+Z3/wC3H/24q4v7Dlh/a3nHxZMdN83d9l+wjzPLz93zPMxnHG7b+FU/2Ff+Z3/7cf8A24r6sr1M9zTGZbnOJ+qT5eblvontBW3T7nFluCw+My+j7eN7c1t/5n2Ciiivz4+qCiiigAooooAK/NL4tf8AJVPGf/Yavf8A0e9fpbXivir9kvwX4s8TX+t3Fzq9rcX07XE0NrcRiIuxyxAaMkZJJ69+MV9rwvm2GymvUnib2krKyv1Pnc6wNbHU4Ro2umZHxM/5Mzs/+wLpP/odvXz9+yz/AMl38Mf9vX/pLNX1D+0hpdtof7OetadZx+VaWcNlbwx5ztRLiFVH4ACvl79ln/ku/hj/ALev/SWavq8lqKrkOPqLZuq/vgjw8wi4ZnhYvoof+lM/QKiiivx8++CiiigAooooAKKKKAPlP9ur/mSP+37/ANt6P2Ff+Z3/AO3H/wBuKP26v+ZI/wC37/23o/YV/wCZ3/7cf/biv1n/AJo3+v8An6fDf81B/X8h9WUUUV+TH3IUUUUAFFFFABRRRQAUUUUAFFFFABRRRQB5T+1N/wAkI8T/APbr/wClUNfKf7LP/Jd/DH/b1/6SzV9j/HHwfqHj34V67oelKj6hcpE0KSMFDFJkk25PAJCEDPGSK+f/ANnz9nzxv4P+KWl67rulppthYpMzM11FIXLxPGFAR2PV884GBX6bkeNw1HIcXRq1Epvnsm1d3gkrLrqfHZlh61TM6FSEG4rlu7aK0mz67ooor8yPsQooooAKKKKACiiigAooooAKKKKACiiigAooooAK53wv/wAhzxf/ANhSP/0ita6KuX8O2dvca94vaWCOVv7UjGXQE4+xWtAE3gP/AJAdz/2FNS/9LZ66Kuc8AsW0G4JUqTqmonaeo/02fiujoAKKKKACiiigAooooAKKKKACiiigAooooAKKKKAPz9/am/5Lv4n/AO3X/wBJYa+rP2Wf+SEeGP8At6/9Kpq2/GHwO8D+PdYbVdc0JLzUGRUadbiaEsAMDdsdQSBxk84AFdZoWhWHhnSLXS9LtUsrC1TZDBHnCjOe/J5JOTySa+2zTPKGOyrD4CnFqVPlu3a3uxcdNb9eyPnMFltXDY6ripNWle3fV3L9fKf7dX/Mkf8Ab9/7b19WVwnxU+Deg/GC0sIdae8gexd2gnspFR13gbl+ZWBB2r2zxXj5FjaWX5jSxNb4Y3vbzi1+p6GZYeeKwk6NPd2/Bpnh37Cv/M7/APbj/wC3FfVlcL8K/g3oPwgs7+DRWu5nvnRp572RXdtudo+VVAA3N2713VGe42lmGY1cTR+GVrX8opfoGW4eeFwkKNTdX/FthRRRXgnphRRRQAUUUUAFFFFAHnP7Q3h/UPFPwd8RabpVrJe38qQvHbxDLvsnjdgB3O1Tx1NfNX7M/wAMfFulfGLRtT1Dw5qemWFmk7zT31pJAo3QSIAC4GTuYcCvtuivpcDntbA4CtgIQTVS+vVXVn+CPHxOW08TiqeKlJpxtp6O4UUUV80ewFFFFABRRRQAUUUUAfKf7dX/ADJH/b9/7b0fsK/8zv8A9uP/ALcUft1f8yR/2/f+29H7Cv8AzO//AG4/+3FfrP8AzRv9f8/T4b/moP6/kPqyiiivyY+5CiiigAooooAKKKKACiiigAooooAKKKKACiiigAooooAKKKKACiiigAooooAKKKKACiiigAooooAKKKKACud8L/8AIc8X/wDYUj/9IrWuirl/Ds7x694vC28ko/tSM7kK4/48rXjlhQBN4D/5Adz/ANhTUv8A0tnroq53wH/yA7n/ALCmpf8ApbPXRUAFFFFABRRRQAUUUUAFFFFABRRRQAUUUUAFFFFABRRRQAUUUUAFFFFABRRRQAUUUUAFFFFABRRRQAUUUUAFFFFABRRRQAUUUUAFFFFAHyz+3NZzyWng66SF2tonu45JQp2ozCEqCexO1sfQ0fsM2NxFZ+Mbt4XW2me0jjlKkK7L5xYA98blz9RX1NRX1f8Abz/sf+yfZ/8Ab1/73Ntb5bnh/wBmL+0Pr3P8reVt7/oFFFFfKHuBRRRQAUUUUAFFFFABRRRQAUUUUAFFFFABRRRQAUUUUAFFFFABRRRQAUUUUAFFFFABRRRQAUUUUAFFFFABXO+F/wDkOeL/APsKR/8ApFa10Vc74X/5Dni//sKR/wDpFa0AJ4BUroNwCxYjVNRG49T/AKbPzXR1zvgP/kB3P/YU1L/0tnroqACimSyCGJ5GDFVBYhVLHj0A5J9hXz/8WL7xN8ZtL8MzeAtF1y50e3u7mXVbfVNW1fwNM+yHESeYIFuiC75G2PYSnLDFAH0HRXyP4q8fXXirwvrfijRdU8RaBbeFfBdjr2iWc2qzgm4drjf9rAlP2zi3SMiYyKcsw5bdW5b+ItaPjCx8ZnV9YXUbnxsfDL6K2oSmxFh5RHli03eUH3KJvO2ebzgvs4oA+nKK+bPg5rmrp4u+H2pT63qt/L430nUdQ1ex1C+luIYZonhaIwxMxS3EYkaIrEEVsgsCwBr6Ju9RismVZEnYsMjybeSQfiVU4oAtUVnf29bf88r3/wAAZ/8A4ij+3rb/AJ5Xv/gDP/8AEUAaNFZ39vW3/PK9/wDAGf8A+Io/t62/55Xv/gDP/wDEUAaNFZ39vW3/ADyvf/AGf/4ij+3rb/nle/8AgDP/APEUAaNFZ39vW3/PK9/8AZ//AIij+3rb/nle/wDgDP8A/EUAaNFZ39vW3/PK9/8AAGf/AOIo/t62/wCeV7/4Az//ABFAGjRWd/b1t/zyvf8AwBn/APiKP7etv+eV7/4Az/8AxFAGjRWd/b1t/wA8r3/wBn/+Io/t62/55Xv/AIAz/wDxFAGjRWd/b1t/zyvf/AGf/wCIo/t62/55Xv8A4Az/APxFAGjRWd/b1t/zyvf/AABn/wDiKP7etv8Anle/+AM//wARQBo0Vnf29bf88r3/AMAZ/wD4ij+3rb/nle/+AM//AMRQBo0Vnf29bf8APK9/8AZ//iKP7etv+eV7/wCAM/8A8RQBo0Vnf29bf88r3/wBn/8AiKP7etv+eV7/AOAM/wD8RQBo0Vnf29bf88r3/wAAZ/8A4ij+3rb/AJ5Xv/gDP/8AEUAaNFZ39vW3/PK9/wDAGf8A+Io/t62/55Xv/gDP/wDEUAaNFZ39vW3/ADyvf/AGf/4ij+3rb/nle/8AgDP/APEUAaNFZ39vW3/PK9/8AZ//AIij+3rb/nle/wDgDP8A/EUAaNFZ39vW3/PK9/8AAGf/AOIo/t62/wCeV7/4Az//ABFAGjRWd/b1t/zyvf8AwBn/APiKP7etv+eV7/4Az/8AxFAGjRWd/b1t/wA8r3/wBn/+Io/t62/55Xv/AIAz/wDxFAGjRWd/b1t/zyvf/AGf/wCIo/t62/55Xv8A4Az/APxFAGjRWd/b1t/zyvf/AABn/wDiKP7etv8Anle/+AM//wARQBo0Vnf29bf88r3/AMAZ/wD4ij+3rb/nle/+AM//AMRQBo0Vnf29bf8APK9/8AZ//iKP7etv+eV7/wCAM/8A8RQBo0Vnf29bf88r3/wBn/8AiKP7etv+eV7/AOAM/wD8RQBo0Vnf29bf88r3/wAAZ/8A4ij+3rb/AJ5Xv/gDP/8AEUAaNFZ39vW3/PK9/wDAGf8A+Io/t62/55Xv/gDP/wDEUAaNFZ39vW3/ADyvf/AGf/4ij+3rb/nle/8AgDP/APEUAaNFZ39vW3/PK9/8AZ//AIij+3rb/nle/wDgDP8A/EUAaNFZ39vW3/PK9/8AAGf/AOIo/t62/wCeV7/4Az//ABFAGjRWd/b1t/zyvf8AwBn/APiKP7etv+eV7/4Az/8AxFAGjRWd/b1t/wA8r3/wBn/+Io/t62/55Xv/AIAz/wDxFAGjRWd/b1t/zyvf/AGf/wCIo/t62/55Xv8A4Az/APxFAGjRWeuuWzMFEd5knHNlMB+eytCgArl/DsDya94vK3EkQ/tSMbUC4/48rXnlTXUVzvhf/kOeL/8AsKR/+kVrQAngFhJoNwykMrapqJBByCPts9dHXO+A/wDkB3P/AGFNS/8AS2euioAK5Xxz8MtA+I0dqNahvRLa7hFc6Zqd1p1wqtjfH51tJG5jbau6MsVbauQcCuqooA4bWfgj4K16bRnutEVE0mGO2trezuZraBoIyDHDNFE6pPEpAKxyq6g8gA1Ovwh8KR+PD4yXTZBrpJk3fbZ/s3mlBGZxa7/IE+wbPO2eZt+XdjiuyooA4/wt8JfCvgvxDfa3pGmyW+oXgcFpLyeaKBXffIlvFI7Jbo7gMywqiswBIJGa7CiigAooooAKKKKACiiigAooooAKKKKACiiigAooooAKKKKACiiigAooooAKKKKACiiigAooooAKKKKACiiigAooooAKKKKACiiigAooooAKKKKACiiigAooooAKKKKACiiigAooooAKKKKACiiigAooooAKKKKACiiigAooooAKKKKACiiigArl/Dt5b2+veL1lnjib+1Izh3AOPsVrXUVzvhf/AJDni/8A7Ckf/pFa0AYvhPxr4e0nT720vte0yyuo9U1HfBcXkcbrm8mIypbIyCD+NbX/AAsfwn/0NGi/+DCH/wCKroqKAOd/4WP4T/6GjRf/AAYQ/wDxVH/Cx/Cf/Q0aL/4MIf8A4quiooA53/hY/hP/AKGjRf8AwYQ//FUf8LH8J/8AQ0aL/wCDCH/4quiooA53/hY/hP8A6GjRf/BhD/8AFUf8LH8J/wDQ0aL/AODCH/4qtjT/APj3f/rtL/6MarVAHO/8LH8J/wDQ0aL/AODCH/4qj/hY/hP/AKGjRf8AwYQ//FV0VFAHO/8ACx/Cf/Q0aL/4MIf/AIqj/hY/hP8A6GjRf/BhD/8AFV0VFAHO/wDCx/Cf/Q0aL/4MIf8A4qj/AIWP4T/6GjRf/BhD/wDFV0VFAHO/8LH8J/8AQ0aL/wCDCH/4qj/hY/hP/oaNF/8ABhD/APFV0VFAHO/8LH8J/wDQ0aL/AODCH/4qj/hY/hP/AKGjRf8AwYQ//FV0VFAHO/8ACx/Cf/Q0aL/4MIf/AIqj/hY/hP8A6GjRf/BhD/8AFVsah/x7p/12i/8ARi1aoA53/hY/hP8A6GjRf/BhD/8AFUf8LH8J/wDQ0aL/AODCH/4quiooA53/AIWP4T/6GjRf/BhD/wDFUf8ACx/Cf/Q0aL/4MIf/AIquiooA53/hY/hP/oaNF/8ABhD/APFUf8LH8J/9DRov/gwh/wDiq6KigDnf+Fj+E/8AoaNF/wDBhD/8VR/wsfwn/wBDRov/AIMIf/iq6KigDnf+Fj+E/wDoaNF/8GEP/wAVR/wsfwn/ANDRov8A4MIf/iq6KigDnf8AhY/hP/oaNF/8GEP/AMVR/wALH8J/9DRov/gwh/8Aiq6Kqsf/ACEp/wDrjH/6E9AGP/wsfwn/ANDRov8A4MIf/iqP+Fj+E/8AoaNF/wDBhD/8VXRUUAc7/wALH8J/9DRov/gwh/8AiqP+Fj+E/wDoaNF/8GEP/wAVXRUUAc7/AMLH8J/9DRov/gwh/wDiqP8AhY/hP/oaNF/8GEP/AMVXRUUAc7/wsfwn/wBDRov/AIMIf/iqP+Fj+E/+ho0X/wAGEP8A8VXRUUAc7/wsfwn/ANDRov8A4MIf/iqP+Fj+E/8AoaNF/wDBhD/8VXRUUAc7/wALH8J/9DRov/gwh/8AiqP+Fj+E/wDoaNF/8GEP/wAVXRUUAc7/AMLH8J/9DRov/gwh/wDiqP8AhY/hP/oaNF/8GEP/AMVWxpf/ACDbT/rin/oIq1QBzv8Awsfwn/0NGi/+DCH/AOKo/wCFj+E/+ho0X/wYQ/8AxVdFRQBzv/Cx/Cf/AENGi/8Agwh/+Ko/4WP4T/6GjRf/AAYQ/wDxVdFRQBzv/Cx/Cf8A0NGi/wDgwh/+Ko/4WP4T/wCho0X/AMGEP/xVdFRQBzv/AAsfwn/0NGi/+DCH/wCKo/4WP4T/AOho0X/wYQ//ABVdFRQBzv8Awsfwn/0NGi/+DCH/AOKo/wCFj+E/+ho0X/wYQ/8AxVdFRQBzv/Cx/Cf/AENGi/8Agwh/+Ko/4WP4T/6GjRf/AAYQ/wDxVbF3/wAfFl/12P8A6LerVAHO/wDCx/Cf/Q0aL/4MIf8A4qj/AIWP4T/6GjRf/BhD/wDFV0VFAHO/8LH8J/8AQ0aL/wCDCH/4qj/hY/hP/oaNF/8ABhD/APFV0VFAHO/8LH8J/wDQ0aL/AODCH/4qj/hY/hP/AKGjRf8AwYQ//FV0VFAHO/8ACx/Cf/Q0aL/4MIf/AIqj/hY/hP8A6GjRf/BhD/8AFV0VFAHO/wDCx/Cf/Q0aL/4MIf8A4qj/AIWP4T/6GjRf/BhD/wDFV0VFAHO/8LH8J/8AQ0aL/wCDCH/4qj/hY/hP/oaNF/8ABhD/APFV0VVbT/j4vf8ArsP/AEWlAGP/AMLH8J/9DRov/gwh/wDiqP8AhY/hP/oaNF/8GEP/AMVXRUUAc7/wsfwn/wBDRov/AIMIf/iqP+Fj+E/+ho0X/wAGEP8A8VXRUUAc7/wsfwn/ANDRov8A4MIf/iqreB9StNW1DxXd2N1De2smqLsnt5BIjYs7YHDA4OCCPwrq6KAP/9k=)"
      ]
    },
    {
      "cell_type": "markdown",
      "metadata": {
        "id": "bCWmGMUARY3O"
      },
      "source": [
        "#### Possible reason\r\n",
        "This may be due to CRF provide more meaningful insight to the model. Transition matrix holds linguistic ration that model could use to predict the POS. However, it needs more training and more data to converge."
      ]
    },
    {
      "cell_type": "markdown",
      "metadata": {
        "id": "_Z8raWOawjxp"
      },
      "source": [
        "### #TODO 4\n",
        "\n",
        "Upon inference, the model also returns its transition matrix, which is learned during training. Your task is to observe and report whether the returned matrix is sensible. You can provide some examples to support your argument.\n",
        "\n",
        "#### Hint : The transition matrix must have the shape  of (num_class, num_class).\n",
        "\n",
        "<b>Write your answer here :</b>"
      ]
    },
    {
      "cell_type": "markdown",
      "metadata": {
        "id": "bLJhwbuJFWXs"
      },
      "source": [
        "#### First let's load back our model"
      ]
    },
    {
      "cell_type": "code",
      "metadata": {
        "id": "ps_vl2HOv44v"
      },
      "source": [
        "from tf2crf import CRF, ModelWithCRFLoss\r\n",
        "\r\n",
        "inputs = Input(shape=(102,), dtype='int32')\r\n",
        "output = (Embedding(len(word_to_idx),32,input_length=102,mask_zero=True))(inputs)\r\n",
        "output = Bidirectional(GRU(32, return_sequences=True))(output)\r\n",
        "output = Dropout(0.2)(output)\r\n",
        "output = Dense(n_classes,activation=None)(output)\r\n",
        "crf = CRF(dtype='float32')\r\n",
        "output = crf(output)\r\n",
        "model = ModelWithCRFLoss(Model(inputs, output))\r\n",
        "# model.compile(optimizer=Adam(lr=0.001), metrics=['categorical_accuracy'])\r\n",
        "model.built = True\r\n",
        "model.load_weights('data/my_pos_with_crf_no_pretrained.h5')\r\n",
        "y_pred=model.predict(x_test)"
      ],
      "execution_count": 152,
      "outputs": []
    },
    {
      "cell_type": "markdown",
      "metadata": {
        "id": "mQm7NigFGj8I"
      },
      "source": [
        "#### Now we'll prepare idx_to_label which maps idx of pos back to pos"
      ]
    },
    {
      "cell_type": "code",
      "metadata": {
        "id": "gakEByOM5XZI"
      },
      "source": [
        "idx_to_label = dict()\r\n",
        "\r\n",
        "for label in label_to_idx:\r\n",
        "  # print(label, label_to_idx[label])\r\n",
        "  idx_to_label[label_to_idx[label]] = label\r\n",
        "\r\n",
        "# for i,v in enumerate(crf.transitions[label_to_idx['ADVN']].numpy()):\r\n",
        "#   print(idx_to_label.get(i),v)"
      ],
      "execution_count": 181,
      "outputs": []
    },
    {
      "cell_type": "markdown",
      "metadata": {
        "id": "hSS0tU6vHEf7"
      },
      "source": [
        "#### Fun part: let's visualize the transition matrix!"
      ]
    },
    {
      "cell_type": "code",
      "metadata": {
        "colab": {
          "base_uri": "https://localhost:8080/",
          "height": 1000
        },
        "id": "bhuqtTeJ-7u4",
        "outputId": "d621acba-b4fa-4209-dd35-b0f6b5cf99b2"
      },
      "source": [
        "import numpy as np \r\n",
        "import matplotlib.pyplot as plt\r\n",
        "\r\n",
        "H = crf.transitions\r\n",
        "\r\n",
        "fig, ax = plt.subplots(1,1,figsize=(20,20))\r\n",
        "\r\n",
        "heatmap = ax.imshow(H, interpolation='none')\r\n",
        "fig.colorbar(heatmap)\r\n",
        "\r\n",
        "ax.set_xticks(np.arange(48))\r\n",
        "ax.set_yticks(np.arange(48))\r\n",
        "\r\n",
        "ax.set_xticklabels([None] + list(label_to_idx.keys()))\r\n",
        "ax.set_yticklabels([None] + list(label_to_idx.keys()))\r\n",
        "\r\n",
        "plt.setp(ax.get_xticklabels(), rotation=45, ha=\"right\",\r\n",
        "         rotation_mode=\"anchor\")\r\n",
        "\r\n",
        "plt.show()"
      ],
      "execution_count": 172,
      "outputs": [
        {
          "output_type": "display_data",
          "data": {
            "image/png": "[encoded data removed]",
            "text/plain": [
              "<Figure size 1440x1440 with 2 Axes>"
            ]
          },
          "metadata": {
            "tags": [],
            "needs_background": "light"
          }
        }
      ]
    },
    {
      "cell_type": "markdown",
      "metadata": {
        "id": "roG14KzGHLpG"
      },
      "source": [
        "#### Why is this sensible\r\n",
        "NCMN will likely transit to VATT, DANN, DDAC which makes sense.<br>\r\n",
        "\r\n",
        "NCMN: Common noun e.g. หนังสือ, อาหาร, อาคาร, คน\r\n",
        "followed by<br>\r\n",
        "- VATT: Attributive verb e.g. อ้วน, ดี, สวย\r\n",
        "- DDAN: Definite determiner, after noun without\r\n",
        "classifier in between e.g. ยี่, นั่น, โน่น, ทั้งหมด\r\n",
        "- DDAC: Definite determiner, allowing classifier\r\n",
        "in between e.g. นี้, นั้น, โน้น, นู้น\r\n",
        "\r\n"
      ]
    },
    {
      "cell_type": "code",
      "metadata": {
        "colab": {
          "base_uri": "https://localhost:8080/",
          "height": 294
        },
        "id": "45zb6kiH-uKD",
        "outputId": "5dbc6923-b062-4427-fb99-438fbd9b53c8"
      },
      "source": [
        "import numpy as np \r\n",
        "import matplotlib.pyplot as plt\r\n",
        "\r\n",
        "H = crf.transitions\r\n",
        "\r\n",
        "fig, ax = plt.subplots(1,1,figsize=(20,20))\r\n",
        "\r\n",
        "heatmap = ax.imshow(H[3].numpy().reshape(1,-1), interpolation='none')\r\n",
        "fig.colorbar(heatmap, orientation='horizontal')\r\n",
        "\r\n",
        "ax.set_xticks(np.arange(48))\r\n",
        "\r\n",
        "ax.set_xticklabels([None] + list(label_to_idx.keys()))\r\n",
        "ax.set_yticklabels(idx_to_label[3])\r\n",
        "\r\n",
        "plt.setp(ax.get_xticklabels(), rotation=45, ha=\"right\",\r\n",
        "         rotation_mode=\"anchor\")\r\n",
        "\r\n",
        "plt.show()"
      ],
      "execution_count": 180,
      "outputs": [
        {
          "output_type": "display_data",
          "data": {
            "image/png": "[encoded data removed]",
            "text/plain": [
              "<Figure size 1440x1440 with 2 Axes>"
            ]
          },
          "metadata": {
            "tags": [],
            "needs_background": "light"
          }
        }
      ]
    }
  ]
}